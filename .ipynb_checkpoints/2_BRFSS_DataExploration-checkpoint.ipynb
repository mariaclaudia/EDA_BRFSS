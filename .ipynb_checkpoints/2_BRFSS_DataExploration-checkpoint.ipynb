{
 "cells": [
  {
   "cell_type": "markdown",
   "metadata": {},
   "source": [
    "# BRFSS - Short sleep analysis\n",
    "## Exploratory data analysis and visualization"
   ]
  },
  {
   "cell_type": "markdown",
   "metadata": {},
   "source": [
    "## Getting started"
   ]
  },
  {
   "cell_type": "markdown",
   "metadata": {},
   "source": [
    "Let's start importing some usefull libraries and settings:\n"
   ]
  },
  {
   "cell_type": "code",
   "execution_count": 441,
   "metadata": {
    "collapsed": true
   },
   "outputs": [],
   "source": [
    "%matplotlib inline \n",
    "import numpy as np \n",
    "import scipy as sp \n",
    "import pandas as pd \n",
    "import matplotlib as mpl \n",
    "import matplotlib.cm as cm \n",
    "import matplotlib.pyplot as plt \n",
    "import matplotlib.style as style\n",
    "import seaborn as sns \n",
    "\n",
    "#sets up pandas table display\n",
    "pd.set_option('display.width', 500)\n",
    "pd.set_option('display.max_columns', 200)\n",
    "pd.set_option('display.notebook_repr_html', True)\n",
    "\n",
    "mpl.rcParams['figure.figsize'] = (12.0, 6.0)\n",
    "\n",
    "sns.set_context(\"notebook\")\n",
    "sns.set()\n",
    "sns.set_style(\"darkgrid\")\n",
    "sns.set_palette(sns.color_palette(\"Set2\", 10))\n",
    "\n",
    "style.use('fivethirtyeight')"
   ]
  },
  {
   "cell_type": "markdown",
   "metadata": {},
   "source": [
    "# Loading data\n",
    "\n",
    "The data load performs basically two data selection operations:\n",
    "\n",
    "- **\"df_YYYY\"** dataframe: first, it loads the full datasets, one per year, prepared in LINK notebook LINK\n",
    "\n",
    "They contains the some number of record of the original BRFSS survey but just the columns I need for my analysis.\n",
    "\n",
    "- **\"final\"** dataframe: the concatenation of the \"df_YYYY\" dataframes\n",
    "\n",
    "- **\"df_YYY_short_sleep\"** dataframe: a filtered dataframe just with records from \"Short sleep\" people (with the \"sleepH\" field <7)\n",
    "\n",
    "- **final_short_sleep**: the concatenation of the \"df_YYY_short_sleep\" dataframes\n",
    "\n",
    "The field \"SLEEP\" is a Boolean. \n",
    "\n",
    "True: >= 7 hours\n",
    "\n",
    "False: < 7 hours (short sleep staus)\n",
    "\n",
    "\n"
   ]
  },
  {
   "cell_type": "code",
   "execution_count": 510,
   "metadata": {
    "collapsed": true
   },
   "outputs": [],
   "source": [
    "years = [\"2013\",\"2014\",\"2016\"] \n",
    "##qui sotto spiegare che si può fare ciclo--"
   ]
  },
  {
   "cell_type": "code",
   "execution_count": 511,
   "metadata": {},
   "outputs": [
    {
     "name": "stdout",
     "output_type": "stream",
     "text": [
      "# 2016 Number of rows: 480577\n"
     ]
    }
   ],
   "source": [
    "df_2016 = pd.read_csv('./data/brfss2016clean.csv',sep='\\t', header=0,  dtype='category')\n",
    "df_2016['y'] = '2016'\n",
    "df_2016.head()\n",
    "print(\"# 2016 Number of rows:\", len(df_2016))"
   ]
  },
  {
   "cell_type": "code",
   "execution_count": 444,
   "metadata": {},
   "outputs": [
    {
     "name": "stdout",
     "output_type": "stream",
     "text": [
      "# 2014 Number of rows: 458172\n"
     ]
    }
   ],
   "source": [
    "df_2014 = pd.read_csv('./data/brfss2014clean.csv',sep='\\t', header=0,  dtype='category')\n",
    "df_2014['y'] = '2014'\n",
    "df_2014.head()\n",
    "len (df_2014)\n",
    "print(\"# 2014 Number of rows:\", len(df_2014))"
   ]
  },
  {
   "cell_type": "code",
   "execution_count": 445,
   "metadata": {},
   "outputs": [
    {
     "name": "stdout",
     "output_type": "stream",
     "text": [
      "# 2013 Number of rows: 484401\n"
     ]
    }
   ],
   "source": [
    "df_2013 = pd.read_csv('./data/brfss2013clean.csv',sep='\\t', header=0,  dtype='category')\n",
    "df_2013['y'] = '2013'\n",
    "df_2013.head()\n",
    "len (df_2013)\n",
    "print(\"# 2013 Number of rows:\", len(df_2013))"
   ]
  },
  {
   "cell_type": "markdown",
   "metadata": {},
   "source": [
    "## Full dataset: \"final\" dataframe\n",
    "\n",
    "Let's concat all dataframes in a single one to facilitate further analysis."
   ]
  },
  {
   "cell_type": "code",
   "execution_count": 446,
   "metadata": {},
   "outputs": [
    {
     "name": "stdout",
     "output_type": "stream",
     "text": [
      "# Final - Number of rows: 1423150\n"
     ]
    }
   ],
   "source": [
    "allDf = [df_2013,df_2014,df_2016]\n",
    "final = pd.concat(allDf)\n",
    "print(\"# Final - Number of rows:\", len(final))"
   ]
  },
  {
   "cell_type": "code",
   "execution_count": 447,
   "metadata": {},
   "outputs": [
    {
     "data": {
      "text/plain": [
       "y\n",
       "2013    484401\n",
       "2014    458172\n",
       "2016    480577\n",
       "dtype: int64"
      ]
     },
     "execution_count": 447,
     "metadata": {},
     "output_type": "execute_result"
    }
   ],
   "source": [
    "#Check data\n",
    "final.groupby('y').size()"
   ]
  },
  {
   "cell_type": "markdown",
   "metadata": {},
   "source": [
    "## Dataset filtered on \"short sleep\" entries: \n",
    "\n",
    "It is important to note that while the broad population 2016 is approximately 480.000 samples, the \"Short sleep\" segment from BRFSS yields 153.523 samples. Please see below the table for every years."
   ]
  },
  {
   "cell_type": "markdown",
   "metadata": {},
   "source": [
    "#### Final full years short_sleep:"
   ]
  },
  {
   "cell_type": "code",
   "execution_count": 448,
   "metadata": {
    "collapsed": true
   },
   "outputs": [],
   "source": [
    "final_short_sleep= final[final['sleep'] == 'False'] #filter to only rows where sleep == True"
   ]
  },
  {
   "cell_type": "markdown",
   "metadata": {},
   "source": [
    "#### 2016 short sleep dataset:"
   ]
  },
  {
   "cell_type": "code",
   "execution_count": 449,
   "metadata": {
    "collapsed": true
   },
   "outputs": [],
   "source": [
    "df_2016_short_sleep= df_2016[df_2016['sleep'] == 'False'] #filter to only rows where sleep == True"
   ]
  },
  {
   "cell_type": "markdown",
   "metadata": {},
   "source": [
    "#### 2014 short sleep dataset:"
   ]
  },
  {
   "cell_type": "code",
   "execution_count": 450,
   "metadata": {
    "collapsed": true
   },
   "outputs": [],
   "source": [
    "df_2014_short_sleep= df_2014[df_2014['sleep'] == 'False'] #filter to only rows where sleep == True"
   ]
  },
  {
   "cell_type": "markdown",
   "metadata": {},
   "source": [
    "#### 2013 short sleep dataset:"
   ]
  },
  {
   "cell_type": "code",
   "execution_count": 451,
   "metadata": {
    "collapsed": true
   },
   "outputs": [],
   "source": [
    "df_2013_short_sleep= df_2013[df_2013['sleep'] == 'False'] #filter to only rows where sleep == True"
   ]
  },
  {
   "cell_type": "markdown",
   "metadata": {},
   "source": [
    "# Exploring  dataset - Demographics metrics"
   ]
  },
  {
   "cell_type": "markdown",
   "metadata": {},
   "source": [
    "## Sex : "
   ]
  },
  {
   "cell_type": "code",
   "execution_count": 452,
   "metadata": {},
   "outputs": [
    {
     "data": {
      "text/plain": [
       "<matplotlib.text.Text at 0x11bb05358>"
      ]
     },
     "execution_count": 452,
     "metadata": {},
     "output_type": "execute_result"
    },
    {
     "data": {
      "image/png": "[encoded data removed]",
      "text/plain": [
       "<matplotlib.figure.Figure at 0x11a69be48>"
      ]
     },
     "metadata": {},
     "output_type": "display_data"
    }
   ],
   "source": [
    "ax = sns.countplot(x=\"sex\", hue=\"y\", data=final)\n",
    "ax.set_title(\"Sex dimension\")"
   ]
  },
  {
   "cell_type": "markdown",
   "metadata": {},
   "source": [
    "## Age:"
   ]
  },
  {
   "cell_type": "code",
   "execution_count": 453,
   "metadata": {},
   "outputs": [
    {
     "data": {
      "text/plain": [
       "<matplotlib.text.Text at 0x11d5cc2b0>"
      ]
     },
     "execution_count": 453,
     "metadata": {},
     "output_type": "execute_result"
    },
    {
     "data": {
      "image/png": "[encoded data removed]",
      "text/plain": [
       "<matplotlib.figure.Figure at 0x1243ecb70>"
      ]
     },
     "metadata": {},
     "output_type": "display_data"
    }
   ],
   "source": [
    "ax = sns.countplot(x=\"age\", hue=\"y\", data=final)\n",
    "ax.set_title(\"Age dimension\")"
   ]
  },
  {
   "cell_type": "markdown",
   "metadata": {},
   "source": [
    "## Race:"
   ]
  },
  {
   "cell_type": "code",
   "execution_count": 454,
   "metadata": {},
   "outputs": [
    {
     "data": {
      "text/plain": [
       "<matplotlib.text.Text at 0x126611320>"
      ]
     },
     "execution_count": 454,
     "metadata": {},
     "output_type": "execute_result"
    },
    {
     "data": {
      "image/png": "[encoded data removed]",
      "text/plain": [
       "<matplotlib.figure.Figure at 0x11a69bb38>"
      ]
     },
     "metadata": {},
     "output_type": "display_data"
    }
   ],
   "source": [
    "ax = sns.countplot(x=\"race\", hue=\"y\", data=final)\n",
    "ax.set_title(\"Race dimension\")"
   ]
  },
  {
   "cell_type": "markdown",
   "metadata": {},
   "source": [
    "## Education:"
   ]
  },
  {
   "cell_type": "code",
   "execution_count": 455,
   "metadata": {},
   "outputs": [
    {
     "data": {
      "text/plain": [
       "<matplotlib.text.Text at 0x11dc0ea90>"
      ]
     },
     "execution_count": 455,
     "metadata": {},
     "output_type": "execute_result"
    },
    {
     "data": {
      "image/png": "[encoded data removed]",
      "text/plain": [
       "<matplotlib.figure.Figure at 0x11d9121d0>"
      ]
     },
     "metadata": {},
     "output_type": "display_data"
    }
   ],
   "source": [
    "ax = sns.countplot(x=\"education\", hue=\"y\", data=final)\n",
    "ax.set_title(\"Education dimension\")"
   ]
  },
  {
   "cell_type": "markdown",
   "metadata": {},
   "source": [
    "## Income: "
   ]
  },
  {
   "cell_type": "code",
   "execution_count": 456,
   "metadata": {},
   "outputs": [
    {
     "data": {
      "text/plain": [
       "<matplotlib.text.Text at 0x1266857f0>"
      ]
     },
     "execution_count": 456,
     "metadata": {},
     "output_type": "execute_result"
    },
    {
     "data": {
      "image/png": "[encoded data removed]",
      "text/plain": [
       "<matplotlib.figure.Figure at 0x11d5bfda0>"
      ]
     },
     "metadata": {},
     "output_type": "display_data"
    }
   ],
   "source": [
    "ax = sns.countplot(x=\"income\", hue=\"y\", data=final)\n",
    "ax.set_title(\"Income dimension\")"
   ]
  },
  {
   "cell_type": "markdown",
   "metadata": {},
   "source": [
    "# Exploring  dataset - Health metrics"
   ]
  },
  {
   "cell_type": "markdown",
   "metadata": {},
   "source": [
    "## Health"
   ]
  },
  {
   "cell_type": "code",
   "execution_count": 457,
   "metadata": {},
   "outputs": [
    {
     "data": {
      "image/png": "[encoded data removed]",
      "text/plain": [
       "<matplotlib.figure.Figure at 0x1230457b8>"
      ]
     },
     "metadata": {},
     "output_type": "display_data"
    }
   ],
   "source": [
    "ax = sns.countplot(x=\"health\", hue=\"y\", data=final)"
   ]
  },
  {
   "cell_type": "markdown",
   "metadata": {},
   "source": [
    "## BMI"
   ]
  },
  {
   "cell_type": "code",
   "execution_count": 458,
   "metadata": {},
   "outputs": [
    {
     "data": {
      "image/png": "[encoded data removed]",
      "text/plain": [
       "<matplotlib.figure.Figure at 0x12cdbe1d0>"
      ]
     },
     "metadata": {},
     "output_type": "display_data"
    }
   ],
   "source": [
    "ax = sns.countplot(x=\"bmi\", hue=\"y\", data=final)"
   ]
  },
  {
   "cell_type": "markdown",
   "metadata": {},
   "source": [
    "## Smoker"
   ]
  },
  {
   "cell_type": "code",
   "execution_count": 459,
   "metadata": {},
   "outputs": [
    {
     "data": {
      "image/png": "[encoded data removed]",
      "text/plain": [
       "<matplotlib.figure.Figure at 0x133c22b70>"
      ]
     },
     "metadata": {},
     "output_type": "display_data"
    }
   ],
   "source": [
    "ax = sns.countplot(x=\"smoker\", hue=\"y\", data=final)"
   ]
  },
  {
   "cell_type": "markdown",
   "metadata": {},
   "source": [
    "## Physical activity\n",
    "\n",
    "Adults who reported doing physical activity or exercise during the past 30 days other than their regular job"
   ]
  },
  {
   "cell_type": "code",
   "execution_count": 460,
   "metadata": {},
   "outputs": [
    {
     "data": {
      "image/png": "[encoded data removed]",
      "text/plain": [
       "<matplotlib.figure.Figure at 0x136e590b8>"
      ]
     },
     "metadata": {},
     "output_type": "display_data"
    }
   ],
   "source": [
    "ax = sns.countplot(x=\"physical_activity\", hue=\"y\", data=final)"
   ]
  },
  {
   "cell_type": "markdown",
   "metadata": {},
   "source": [
    "# Short Sleep Duration Among US Adults\n",
    "## Sleep Hours per night "
   ]
  },
  {
   "cell_type": "markdown",
   "metadata": {},
   "source": [
    "### On average, how many hours of sleep do you get in a 24-hour period?\n",
    "\n",
    "For the general population, we have the following reported sleep distributions:\n",
    "\n",
    "- The distributions are calculated using the 2016/2014/2013 dataset (480.577/458.172/484401 people).\n",
    "\n",
    "- The majority of males and females both sleep between 7 and 8 hours per day.\n",
    "\n",
    "- The mean is the same for every year: 7.05 hours\n",
    "\n",
    "- The STD is 1.49 for 2016, 1.46 for 2014, 1.47 for 2013.\n",
    "\n"
   ]
  },
  {
   "cell_type": "code",
   "execution_count": 461,
   "metadata": {},
   "outputs": [
    {
     "name": "stdout",
     "output_type": "stream",
     "text": [
      "MEAN:  7.05\n",
      "STD:  1.49\n"
     ]
    },
    {
     "data": {
      "text/plain": [
       "<matplotlib.text.Text at 0x13a617c88>"
      ]
     },
     "execution_count": 461,
     "metadata": {},
     "output_type": "execute_result"
    },
    {
     "data": {
      "image/png": "[encoded data removed]",
      "text/plain": [
       "<matplotlib.figure.Figure at 0x133deab38>"
      ]
     },
     "metadata": {},
     "output_type": "display_data"
    }
   ],
   "source": [
    "df_2016['sleepH']= df_2016['sleepH'].astype(float)\n",
    "mean = round(df_2016['sleepH'].mean(),2)\n",
    "std = round(df_2016['sleepH'].std(),2)\n",
    "print (\"MEAN: \", mean)\n",
    "print (\"STD: \", std)\n",
    "\n",
    "sleep_hour_distro = sns.countplot(x=\"sleepH\", data=df_2016)\n",
    "sleep_hour_distro.set_xlabel(\"Hours per night\")\n",
    "sleep_hour_distro.set_ylabel(\"People \")\n",
    "\n",
    "sleep_hour_distro.set_title(\"Hours per night 2016\")"
   ]
  },
  {
   "cell_type": "code",
   "execution_count": 462,
   "metadata": {},
   "outputs": [
    {
     "name": "stdout",
     "output_type": "stream",
     "text": [
      "MEAN:  7.07\n",
      "STD:  1.43\n"
     ]
    },
    {
     "data": {
      "text/plain": [
       "<matplotlib.text.Text at 0x13ae39a20>"
      ]
     },
     "execution_count": 462,
     "metadata": {},
     "output_type": "execute_result"
    },
    {
     "data": {
      "image/png": "[encoded data removed]",
      "text/plain": [
       "<matplotlib.figure.Figure at 0x1245005f8>"
      ]
     },
     "metadata": {},
     "output_type": "display_data"
    }
   ],
   "source": [
    "df_2014['sleepH']= df_2014['sleepH'].astype(float)\n",
    "mean = round(df_2014['sleepH'].mean(),2)\n",
    "std = round(df_2014['sleepH'].std(),2)\n",
    "print (\"MEAN: \", mean)\n",
    "print (\"STD: \", std)\n",
    "\n",
    "sleep_hour_distro = sns.countplot(x=\"sleepH\", data=df_2014)\n",
    "sleep_hour_distro.set_xlabel(\"Hours per night\")\n",
    "sleep_hour_distro.set_ylabel(\"Frequency\")\n",
    "sleep_hour_distro.set_title(\"Hours per night 2014\")"
   ]
  },
  {
   "cell_type": "code",
   "execution_count": 463,
   "metadata": {},
   "outputs": [
    {
     "name": "stdout",
     "output_type": "stream",
     "text": [
      "MEAN:  7.05\n",
      "STD:  1.47\n"
     ]
    },
    {
     "data": {
      "text/plain": [
       "<matplotlib.text.Text at 0x1377b8e48>"
      ]
     },
     "execution_count": 463,
     "metadata": {},
     "output_type": "execute_result"
    },
    {
     "data": {
      "image/png": "[encoded data removed]",
      "text/plain": [
       "<matplotlib.figure.Figure at 0x133db4c88>"
      ]
     },
     "metadata": {},
     "output_type": "display_data"
    }
   ],
   "source": [
    "df_2013['sleepH']= df_2013['sleepH'].astype(float)\n",
    "mean = round(df_2013['sleepH'].mean(),2)\n",
    "std = round(df_2013['sleepH'].std(),2)\n",
    "print (\"MEAN: \", mean)\n",
    "print (\"STD: \", std)\n",
    "\n",
    "sleep_hour_distro = sns.countplot(x=\"sleepH\", data=df_2013)\n",
    "sleep_hour_distro.set_xlabel(\"Hours per night\")\n",
    "sleep_hour_distro.set_ylabel(\"Frequency \")\n",
    "sleep_hour_distro.set_title(\"Hours per night 2013\")"
   ]
  },
  {
   "cell_type": "markdown",
   "metadata": {},
   "source": [
    "# Short sleep by year"
   ]
  },
  {
   "cell_type": "code",
   "execution_count": 464,
   "metadata": {
    "collapsed": true
   },
   "outputs": [],
   "source": [
    "final['sleep'] = final['sleep'].astype('object')\n",
    "final['y'] = final['y'].astype('object')\n",
    "final['sex'] = final['sex'].astype('object')"
   ]
  },
  {
   "cell_type": "code",
   "execution_count": 465,
   "metadata": {
    "collapsed": true
   },
   "outputs": [],
   "source": [
    "final_y= final.groupby(['y','sleep']).size().unstack().reset_index()\n",
    "final_y['Tot'] =  final_y['False'] + final_y['True']\n",
    "final_y['pct'] =  final_y['False'] / final_y['Tot']\n",
    "final_y = final_y[['y','pct']]"
   ]
  },
  {
   "cell_type": "code",
   "execution_count": 466,
   "metadata": {},
   "outputs": [
    {
     "data": {
      "text/html": [
       "<div>\n",
       "<style>\n",
       "    .dataframe thead tr:only-child th {\n",
       "        text-align: right;\n",
       "    }\n",
       "\n",
       "    .dataframe thead th {\n",
       "        text-align: left;\n",
       "    }\n",
       "\n",
       "    .dataframe tbody tr th {\n",
       "        vertical-align: top;\n",
       "    }\n",
       "</style>\n",
       "<table border=\"1\" class=\"dataframe\">\n",
       "  <thead>\n",
       "    <tr style=\"text-align: right;\">\n",
       "      <th>sleep</th>\n",
       "      <th>y</th>\n",
       "      <th>pct</th>\n",
       "    </tr>\n",
       "  </thead>\n",
       "  <tbody>\n",
       "    <tr>\n",
       "      <th>0</th>\n",
       "      <td>2013</td>\n",
       "      <td>0.327489</td>\n",
       "    </tr>\n",
       "    <tr>\n",
       "      <th>1</th>\n",
       "      <td>2014</td>\n",
       "      <td>0.315150</td>\n",
       "    </tr>\n",
       "    <tr>\n",
       "      <th>2</th>\n",
       "      <td>2016</td>\n",
       "      <td>0.319456</td>\n",
       "    </tr>\n",
       "  </tbody>\n",
       "</table>\n",
       "</div>"
      ],
      "text/plain": [
       "sleep     y       pct\n",
       "0      2013  0.327489\n",
       "1      2014  0.315150\n",
       "2      2016  0.319456"
      ]
     },
     "execution_count": 466,
     "metadata": {},
     "output_type": "execute_result"
    }
   ],
   "source": [
    "final_y"
   ]
  },
  {
   "cell_type": "code",
   "execution_count": 467,
   "metadata": {},
   "outputs": [
    {
     "data": {
      "text/plain": [
       "y     sleep\n",
       "2013  False    158636\n",
       "      True     325765\n",
       "2014  False    144393\n",
       "      True     313779\n",
       "2016  False    153523\n",
       "      True     327054\n",
       "dtype: int64"
      ]
     },
     "execution_count": 467,
     "metadata": {},
     "output_type": "execute_result"
    }
   ],
   "source": [
    "final.groupby(['y','sleep']).size()"
   ]
  },
  {
   "cell_type": "code",
   "execution_count": 468,
   "metadata": {},
   "outputs": [
    {
     "data": {
      "image/png": "[encoded data removed]",
      "text/plain": [
       "<matplotlib.figure.Figure at 0x1379d8668>"
      ]
     },
     "metadata": {},
     "output_type": "display_data"
    }
   ],
   "source": [
    "bar_plot = sns.barplot(x=final_y[\"y\"],y=final_y[\"pct\"])\n",
    "bar_plot.set_xlabel(\"Years\")\n",
    "bar_plot.set_ylabel(\"People with short sleep (<7 hours per day)\")\n",
    "bar_plot.set_title(\"US people with short sleep (<7 hours per day)\")\n",
    "bar_plot.set_yticklabels(labels = ['0   ', '25   ', '50   ', '75   ','100%'])\n",
    "bar_plot.axhline(y = 0, color = 'black', linewidth = 1.3, alpha = .7)\n",
    "\n",
    "#Insert % labels on top\n",
    "barwidth = [0.8, 0.8, 0.8, 0.8]\n",
    "bar_plot.set_ylim(0, 1)\n",
    "\n",
    "label_ = final_y.pct\n",
    "for bar,newwidth, label in zip(bar_plot.patches,barwidth, label_):\n",
    "    x = bar.get_x()\n",
    "    width = bar.get_width()\n",
    "    height = bar.get_height()\n",
    "    centre = x + width/2.\n",
    "    bar.set_x(centre-newwidth/2.)\n",
    "    bar.set_width(newwidth)\n",
    "    bar_plot.text(x+width/2., height - 0.05,  '{0:4.2f}'.format(label*100)+\"%\", ha=\"center\") \n",
    "   "
   ]
  },
  {
   "cell_type": "markdown",
   "metadata": {},
   "source": [
    " ** A third of US adults report that they usually sleep less than the recommended amount of sleep. **\n",
    "\n",
    "\n",
    "In **2013**, 32.75% of US States adults reported usually sleeping <7 hours in a 24- hour period.\n",
    "\n",
    "In **2014**, 31.52% of US States adults reported usually sleeping <7 hours in a 24- hour period.\n",
    "\n",
    "In **2016**, 31.95% of US States adults reported usually sleeping <7 hours in a 24- hour period.\n",
    "\n"
   ]
  },
  {
   "cell_type": "markdown",
   "metadata": {},
   "source": [
    "#  Short Sleep Among US States"
   ]
  },
  {
   "cell_type": "markdown",
   "metadata": {},
   "source": [
    "## Which is the country with the highest percentage of \"short sleep\" people?\n",
    "\n",
    "\n",
    "**NOTE**: \n",
    "\n",
    "Aggregating BRFSS state samples for national estimates without accounting for state-level sampling, it's practice that can introduce bias because the weighted distributions of the state samples do not always adhere to national demographic distributions.  \n",
    "(ex. GU state)\n",
    "\n",
    "Reference: \n",
    "- [National weighting of data from the Behavioral Risk Factor Surveillance System (BRFSS)](https://www.ncbi.nlm.nih.gov/pmc/articles/PMC5109644/)\n",
    "- [Comparability of Data BRFSS 2016](https://www.cdc.gov/brfss/annual_data/2016/pdf/compare_2016.pdf) \n",
    "- [Comparability of Data BRFSS 2014](https://www.cdc.gov/brfss/annual_data/2016/pdf/compare_2014.pdf) \n",
    "- [Comparability of Data BRFSS 2013](https://www.cdc.gov/brfss/annual_data/2016/pdf/compare_2014.pdf) \n",
    "\n",
    "Assuming that the National weighting of data from the BRFSS 2016 is correct:"
   ]
  },
  {
   "cell_type": "code",
   "execution_count": 469,
   "metadata": {},
   "outputs": [],
   "source": [
    "final['state'] = final['state'].astype('object')\n",
    "\n",
    "final_y = final[['sleep','y','state']]\n",
    "final_y= final.groupby(['y','state','sleep']).size().unstack().reset_index()\n",
    "final_y['Tot'] =  final_y['False'] + final_y['True']\n",
    "# % of people with sleep disorder\n",
    "final_y['% short sleep'] =  round(final_y['False'] / final_y['Tot']*100,2)\n",
    "final_y = final_y[['y','state','% short sleep']]"
   ]
  },
  {
   "cell_type": "markdown",
   "metadata": {},
   "source": [
    "### Short sleep: 2016 Top 3 Worst US State "
   ]
  },
  {
   "cell_type": "code",
   "execution_count": 470,
   "metadata": {},
   "outputs": [
    {
     "data": {
      "text/html": [
       "<div>\n",
       "<style>\n",
       "    .dataframe thead tr:only-child th {\n",
       "        text-align: right;\n",
       "    }\n",
       "\n",
       "    .dataframe thead th {\n",
       "        text-align: left;\n",
       "    }\n",
       "\n",
       "    .dataframe tbody tr th {\n",
       "        vertical-align: top;\n",
       "    }\n",
       "</style>\n",
       "<table border=\"1\" class=\"dataframe\">\n",
       "  <thead>\n",
       "    <tr style=\"text-align: right;\">\n",
       "      <th>sleep</th>\n",
       "      <th>state</th>\n",
       "      <th>% short sleep</th>\n",
       "    </tr>\n",
       "    <tr>\n",
       "      <th>y</th>\n",
       "      <th></th>\n",
       "      <th></th>\n",
       "    </tr>\n",
       "  </thead>\n",
       "  <tbody>\n",
       "    <tr>\n",
       "      <th>2016</th>\n",
       "      <td>GU</td>\n",
       "      <td>50.83</td>\n",
       "    </tr>\n",
       "    <tr>\n",
       "      <th>2016</th>\n",
       "      <td>VI</td>\n",
       "      <td>40.34</td>\n",
       "    </tr>\n",
       "    <tr>\n",
       "      <th>2016</th>\n",
       "      <td>HI</td>\n",
       "      <td>40.02</td>\n",
       "    </tr>\n",
       "  </tbody>\n",
       "</table>\n",
       "</div>"
      ],
      "text/plain": [
       "sleep state  % short sleep\n",
       "y                         \n",
       "2016     GU          50.83\n",
       "2016     VI          40.34\n",
       "2016     HI          40.02"
      ]
     },
     "execution_count": 470,
     "metadata": {},
     "output_type": "execute_result"
    }
   ],
   "source": [
    "final_y[final_y['y'] == '2016'].sort_values(['y', '% short sleep'], ascending=[1, 0]).nlargest(3, '% short sleep').set_index(['y'])"
   ]
  },
  {
   "cell_type": "markdown",
   "metadata": {},
   "source": [
    "### Short sleep: 2014 Top 3 Worst US State "
   ]
  },
  {
   "cell_type": "code",
   "execution_count": 471,
   "metadata": {},
   "outputs": [
    {
     "data": {
      "text/html": [
       "<div>\n",
       "<style>\n",
       "    .dataframe thead tr:only-child th {\n",
       "        text-align: right;\n",
       "    }\n",
       "\n",
       "    .dataframe thead th {\n",
       "        text-align: left;\n",
       "    }\n",
       "\n",
       "    .dataframe tbody tr th {\n",
       "        vertical-align: top;\n",
       "    }\n",
       "</style>\n",
       "<table border=\"1\" class=\"dataframe\">\n",
       "  <thead>\n",
       "    <tr style=\"text-align: right;\">\n",
       "      <th>sleep</th>\n",
       "      <th>state</th>\n",
       "      <th>% short sleep</th>\n",
       "    </tr>\n",
       "    <tr>\n",
       "      <th>y</th>\n",
       "      <th></th>\n",
       "      <th></th>\n",
       "    </tr>\n",
       "  </thead>\n",
       "  <tbody>\n",
       "    <tr>\n",
       "      <th>2014</th>\n",
       "      <td>GU</td>\n",
       "      <td>48.83</td>\n",
       "    </tr>\n",
       "    <tr>\n",
       "      <th>2014</th>\n",
       "      <td>HI</td>\n",
       "      <td>40.29</td>\n",
       "    </tr>\n",
       "    <tr>\n",
       "      <th>2014</th>\n",
       "      <td>PR</td>\n",
       "      <td>37.62</td>\n",
       "    </tr>\n",
       "  </tbody>\n",
       "</table>\n",
       "</div>"
      ],
      "text/plain": [
       "sleep state  % short sleep\n",
       "y                         \n",
       "2014     GU          48.83\n",
       "2014     HI          40.29\n",
       "2014     PR          37.62"
      ]
     },
     "execution_count": 471,
     "metadata": {},
     "output_type": "execute_result"
    }
   ],
   "source": [
    "final_y[final_y['y'] == '2014'].sort_values(['y', '% short sleep'], ascending=[1, 0]).nlargest(3, '% short sleep').set_index(['y'])"
   ]
  },
  {
   "cell_type": "markdown",
   "metadata": {},
   "source": [
    "### Short sleep: 2013 Top 3 Worst US State "
   ]
  },
  {
   "cell_type": "code",
   "execution_count": 472,
   "metadata": {},
   "outputs": [
    {
     "data": {
      "text/html": [
       "<div>\n",
       "<style>\n",
       "    .dataframe thead tr:only-child th {\n",
       "        text-align: right;\n",
       "    }\n",
       "\n",
       "    .dataframe thead th {\n",
       "        text-align: left;\n",
       "    }\n",
       "\n",
       "    .dataframe tbody tr th {\n",
       "        vertical-align: top;\n",
       "    }\n",
       "</style>\n",
       "<table border=\"1\" class=\"dataframe\">\n",
       "  <thead>\n",
       "    <tr style=\"text-align: right;\">\n",
       "      <th>sleep</th>\n",
       "      <th>state</th>\n",
       "      <th>% short sleep</th>\n",
       "    </tr>\n",
       "    <tr>\n",
       "      <th>y</th>\n",
       "      <th></th>\n",
       "      <th></th>\n",
       "    </tr>\n",
       "  </thead>\n",
       "  <tbody>\n",
       "    <tr>\n",
       "      <th>2013</th>\n",
       "      <td>GU</td>\n",
       "      <td>47.15</td>\n",
       "    </tr>\n",
       "    <tr>\n",
       "      <th>2013</th>\n",
       "      <td>KY</td>\n",
       "      <td>39.90</td>\n",
       "    </tr>\n",
       "    <tr>\n",
       "      <th>2013</th>\n",
       "      <td>HI</td>\n",
       "      <td>39.32</td>\n",
       "    </tr>\n",
       "  </tbody>\n",
       "</table>\n",
       "</div>"
      ],
      "text/plain": [
       "sleep state  % short sleep\n",
       "y                         \n",
       "2013     GU          47.15\n",
       "2013     KY          39.90\n",
       "2013     HI          39.32"
      ]
     },
     "execution_count": 472,
     "metadata": {},
     "output_type": "execute_result"
    }
   ],
   "source": [
    "final_y[final_y['y'] == '2013'].sort_values(['y', '% short sleep'], ascending=[1, 0]).nlargest(3, '% short sleep').set_index(['y'])"
   ]
  },
  {
   "cell_type": "markdown",
   "metadata": {},
   "source": [
    "# Short sleep and Gender\n",
    "\n",
    "Let's analize the distributions between gender and short sleep. We will discover that are pretty similar."
   ]
  },
  {
   "cell_type": "code",
   "execution_count": 491,
   "metadata": {},
   "outputs": [
    {
     "data": {
      "text/html": [
       "<div>\n",
       "<style>\n",
       "    .dataframe thead tr:only-child th {\n",
       "        text-align: right;\n",
       "    }\n",
       "\n",
       "    .dataframe thead th {\n",
       "        text-align: left;\n",
       "    }\n",
       "\n",
       "    .dataframe tbody tr th {\n",
       "        vertical-align: top;\n",
       "    }\n",
       "</style>\n",
       "<table border=\"1\" class=\"dataframe\">\n",
       "  <thead>\n",
       "    <tr style=\"text-align: right;\">\n",
       "      <th>sleep</th>\n",
       "      <th>y</th>\n",
       "      <th>sex</th>\n",
       "      <th>False</th>\n",
       "      <th>True</th>\n",
       "      <th>Tot</th>\n",
       "      <th>% short sleep</th>\n",
       "      <th>% sleep ok</th>\n",
       "    </tr>\n",
       "  </thead>\n",
       "  <tbody>\n",
       "    <tr>\n",
       "      <th>0</th>\n",
       "      <td>2013</td>\n",
       "      <td>M</td>\n",
       "      <td>65598</td>\n",
       "      <td>133273</td>\n",
       "      <td>198871</td>\n",
       "      <td>32.99</td>\n",
       "      <td>67.01</td>\n",
       "    </tr>\n",
       "    <tr>\n",
       "      <th>1</th>\n",
       "      <td>2013</td>\n",
       "      <td>W</td>\n",
       "      <td>93038</td>\n",
       "      <td>192492</td>\n",
       "      <td>285530</td>\n",
       "      <td>32.58</td>\n",
       "      <td>67.42</td>\n",
       "    </tr>\n",
       "    <tr>\n",
       "      <th>2</th>\n",
       "      <td>2014</td>\n",
       "      <td>M</td>\n",
       "      <td>60698</td>\n",
       "      <td>130158</td>\n",
       "      <td>190856</td>\n",
       "      <td>31.80</td>\n",
       "      <td>68.20</td>\n",
       "    </tr>\n",
       "    <tr>\n",
       "      <th>3</th>\n",
       "      <td>2014</td>\n",
       "      <td>W</td>\n",
       "      <td>83695</td>\n",
       "      <td>183621</td>\n",
       "      <td>267316</td>\n",
       "      <td>31.31</td>\n",
       "      <td>68.69</td>\n",
       "    </tr>\n",
       "    <tr>\n",
       "      <th>4</th>\n",
       "      <td>2016</td>\n",
       "      <td>M</td>\n",
       "      <td>67024</td>\n",
       "      <td>141543</td>\n",
       "      <td>208567</td>\n",
       "      <td>32.14</td>\n",
       "      <td>67.86</td>\n",
       "    </tr>\n",
       "    <tr>\n",
       "      <th>5</th>\n",
       "      <td>2016</td>\n",
       "      <td>Refused</td>\n",
       "      <td>26</td>\n",
       "      <td>32</td>\n",
       "      <td>58</td>\n",
       "      <td>44.83</td>\n",
       "      <td>55.17</td>\n",
       "    </tr>\n",
       "    <tr>\n",
       "      <th>6</th>\n",
       "      <td>2016</td>\n",
       "      <td>W</td>\n",
       "      <td>86473</td>\n",
       "      <td>185479</td>\n",
       "      <td>271952</td>\n",
       "      <td>31.80</td>\n",
       "      <td>68.20</td>\n",
       "    </tr>\n",
       "  </tbody>\n",
       "</table>\n",
       "</div>"
      ],
      "text/plain": [
       "sleep     y      sex  False    True     Tot  % short sleep  % sleep ok\n",
       "0      2013        M  65598  133273  198871          32.99       67.01\n",
       "1      2013        W  93038  192492  285530          32.58       67.42\n",
       "2      2014        M  60698  130158  190856          31.80       68.20\n",
       "3      2014        W  83695  183621  267316          31.31       68.69\n",
       "4      2016        M  67024  141543  208567          32.14       67.86\n",
       "5      2016  Refused     26      32      58          44.83       55.17\n",
       "6      2016        W  86473  185479  271952          31.80       68.20"
      ]
     },
     "execution_count": 491,
     "metadata": {},
     "output_type": "execute_result"
    }
   ],
   "source": [
    "final_y_tot= final.groupby(['y','sex','sleep']).size().unstack().reset_index()\n",
    "final_y_tot['Tot']  =  final_y_tot['False'] + final_y_tot['True']\n",
    "final_y_tot['% short sleep'] =  round(final_y_tot['False'] / final_y_tot['Tot']*100,2)\n",
    "final_y_tot['% sleep ok'] =  round(final_y_tot['True'] / final_y_tot['Tot']*100,2)\n",
    "final_y_tot"
   ]
  },
  {
   "cell_type": "code",
   "execution_count": 492,
   "metadata": {},
   "outputs": [],
   "source": [
    "final_y_tot=final_y_tot[['y','sex','% short sleep','% sleep ok']]"
   ]
  },
  {
   "cell_type": "code",
   "execution_count": 493,
   "metadata": {},
   "outputs": [
    {
     "data": {
      "text/html": [
       "<div>\n",
       "<style>\n",
       "    .dataframe thead tr:only-child th {\n",
       "        text-align: right;\n",
       "    }\n",
       "\n",
       "    .dataframe thead th {\n",
       "        text-align: left;\n",
       "    }\n",
       "\n",
       "    .dataframe tbody tr th {\n",
       "        vertical-align: top;\n",
       "    }\n",
       "</style>\n",
       "<table border=\"1\" class=\"dataframe\">\n",
       "  <thead>\n",
       "    <tr style=\"text-align: right;\">\n",
       "      <th>sleep</th>\n",
       "      <th>y</th>\n",
       "      <th>sex</th>\n",
       "      <th>% short sleep</th>\n",
       "      <th>% sleep ok</th>\n",
       "    </tr>\n",
       "  </thead>\n",
       "  <tbody>\n",
       "    <tr>\n",
       "      <th>4</th>\n",
       "      <td>2016</td>\n",
       "      <td>M</td>\n",
       "      <td>32.14</td>\n",
       "      <td>67.86</td>\n",
       "    </tr>\n",
       "    <tr>\n",
       "      <th>6</th>\n",
       "      <td>2016</td>\n",
       "      <td>W</td>\n",
       "      <td>31.80</td>\n",
       "      <td>68.20</td>\n",
       "    </tr>\n",
       "  </tbody>\n",
       "</table>\n",
       "</div>"
      ],
      "text/plain": [
       "sleep     y sex  % short sleep  % sleep ok\n",
       "4      2016   M          32.14       67.86\n",
       "6      2016   W          31.80       68.20"
      ]
     },
     "execution_count": 493,
     "metadata": {},
     "output_type": "execute_result"
    }
   ],
   "source": [
    "final_2016_tot = final_y_tot[(final_y_tot['y'] == '2016') & (final_y_tot['sex'] != 'Refused')]\n",
    "final_2016_tot"
   ]
  },
  {
   "cell_type": "code",
   "execution_count": 494,
   "metadata": {},
   "outputs": [
    {
     "data": {
      "text/plain": [
       "<matplotlib.text.Text at 0x11a0d8278>"
      ]
     },
     "execution_count": 494,
     "metadata": {},
     "output_type": "execute_result"
    },
    {
     "data": {
      "image/png": "[encoded data removed]",
      "text/plain": [
       "<matplotlib.figure.Figure at 0x124f8d198>"
      ]
     },
     "metadata": {},
     "output_type": "display_data"
    }
   ],
   "source": [
    "final_2016_tot.plot(kind=\"barh\", stacked=True);\n",
    "plt.legend(loc=3, ncol=3);\n",
    "plt.title(\"Short sleep and Gender 2016\")"
   ]
  },
  {
   "cell_type": "code",
   "execution_count": 477,
   "metadata": {},
   "outputs": [
    {
     "data": {
      "text/html": [
       "<div>\n",
       "<style>\n",
       "    .dataframe thead tr:only-child th {\n",
       "        text-align: right;\n",
       "    }\n",
       "\n",
       "    .dataframe thead th {\n",
       "        text-align: left;\n",
       "    }\n",
       "\n",
       "    .dataframe tbody tr th {\n",
       "        vertical-align: top;\n",
       "    }\n",
       "</style>\n",
       "<table border=\"1\" class=\"dataframe\">\n",
       "  <thead>\n",
       "    <tr style=\"text-align: right;\">\n",
       "      <th>sleep</th>\n",
       "      <th>y</th>\n",
       "      <th>sex</th>\n",
       "      <th>% short sleep</th>\n",
       "      <th>% sleep ok</th>\n",
       "    </tr>\n",
       "  </thead>\n",
       "  <tbody>\n",
       "    <tr>\n",
       "      <th>2</th>\n",
       "      <td>2014</td>\n",
       "      <td>M</td>\n",
       "      <td>31.80</td>\n",
       "      <td>68.20</td>\n",
       "    </tr>\n",
       "    <tr>\n",
       "      <th>3</th>\n",
       "      <td>2014</td>\n",
       "      <td>W</td>\n",
       "      <td>31.31</td>\n",
       "      <td>68.69</td>\n",
       "    </tr>\n",
       "  </tbody>\n",
       "</table>\n",
       "</div>"
      ],
      "text/plain": [
       "sleep     y sex  % short sleep  % sleep ok\n",
       "2      2014   M          31.80       68.20\n",
       "3      2014   W          31.31       68.69"
      ]
     },
     "execution_count": 477,
     "metadata": {},
     "output_type": "execute_result"
    }
   ],
   "source": [
    "final_2014_tot = final_y_tot[final_y_tot['y'] == '2014']\n",
    "final_2014_tot"
   ]
  },
  {
   "cell_type": "code",
   "execution_count": 478,
   "metadata": {},
   "outputs": [],
   "source": [
    "#final_2014_tot.plot(kind=\"barh\", stacked=True);\n",
    "#plt.legend(loc=3, ncol=3);\n",
    "#plt.title(\"Short sleep and Gender 2014\")\n"
   ]
  },
  {
   "cell_type": "code",
   "execution_count": 475,
   "metadata": {},
   "outputs": [
    {
     "data": {
      "text/html": [
       "<div>\n",
       "<style>\n",
       "    .dataframe thead tr:only-child th {\n",
       "        text-align: right;\n",
       "    }\n",
       "\n",
       "    .dataframe thead th {\n",
       "        text-align: left;\n",
       "    }\n",
       "\n",
       "    .dataframe tbody tr th {\n",
       "        vertical-align: top;\n",
       "    }\n",
       "</style>\n",
       "<table border=\"1\" class=\"dataframe\">\n",
       "  <thead>\n",
       "    <tr style=\"text-align: right;\">\n",
       "      <th>sleep</th>\n",
       "      <th>y</th>\n",
       "      <th>% short sleep</th>\n",
       "      <th>% sleep ok</th>\n",
       "    </tr>\n",
       "    <tr>\n",
       "      <th>sex</th>\n",
       "      <th></th>\n",
       "      <th></th>\n",
       "      <th></th>\n",
       "    </tr>\n",
       "  </thead>\n",
       "  <tbody>\n",
       "    <tr>\n",
       "      <th>M</th>\n",
       "      <td>2013</td>\n",
       "      <td>32.99</td>\n",
       "      <td>67.01</td>\n",
       "    </tr>\n",
       "    <tr>\n",
       "      <th>W</th>\n",
       "      <td>2013</td>\n",
       "      <td>32.58</td>\n",
       "      <td>67.42</td>\n",
       "    </tr>\n",
       "  </tbody>\n",
       "</table>\n",
       "</div>"
      ],
      "text/plain": [
       "sleep     y  % short sleep  % sleep ok\n",
       "sex                                   \n",
       "M      2013          32.99       67.01\n",
       "W      2013          32.58       67.42"
      ]
     },
     "execution_count": 475,
     "metadata": {},
     "output_type": "execute_result"
    }
   ],
   "source": [
    "final_2013_tot = final_y_tot[final_y_tot['y'] == '2013'].set_index(['sex'])\n",
    "final_2013_tot"
   ]
  },
  {
   "cell_type": "code",
   "execution_count": 480,
   "metadata": {},
   "outputs": [],
   "source": [
    "#final_2013_tot.plot(kind=\"barh\", stacked=True);\n",
    "#plt.legend(loc=3, ncol=3);\n",
    "#plt.title(\"Short sleep and Gender 2013\")"
   ]
  },
  {
   "cell_type": "markdown",
   "metadata": {},
   "source": [
    "# Short sleep with health risk factors \n",
    "\n",
    "Let's figure out if people with health risk factors sleep less.\n",
    "In our dataset we have four dimensions about health:\n",
    "\n",
    "- Health status: Fair/poor\n",
    "\n",
    "- Smoker: Y\n",
    "\n",
    "- BMI: Obese or Overweight\n",
    "\n",
    "- No physical activity or exercise during the past 30 days\n",
    "\n",
    "Let's try to combine theme and find out if sleep and health factors seems to be correlated.\n",
    "NOTE: I will consider just data from 2016.\n"
   ]
  },
  {
   "cell_type": "code",
   "execution_count": 512,
   "metadata": {},
   "outputs": [
    {
     "data": {
      "text/html": [
       "<div>\n",
       "<style>\n",
       "    .dataframe thead tr:only-child th {\n",
       "        text-align: right;\n",
       "    }\n",
       "\n",
       "    .dataframe thead th {\n",
       "        text-align: left;\n",
       "    }\n",
       "\n",
       "    .dataframe tbody tr th {\n",
       "        vertical-align: top;\n",
       "    }\n",
       "</style>\n",
       "<table border=\"1\" class=\"dataframe\">\n",
       "  <thead>\n",
       "    <tr style=\"text-align: right;\">\n",
       "      <th></th>\n",
       "      <th>age</th>\n",
       "      <th>bmi</th>\n",
       "      <th>education</th>\n",
       "      <th>employment</th>\n",
       "      <th>health</th>\n",
       "      <th>income</th>\n",
       "      <th>physical_activity</th>\n",
       "      <th>race</th>\n",
       "      <th>sex</th>\n",
       "      <th>sleepH</th>\n",
       "      <th>smoker</th>\n",
       "      <th>state</th>\n",
       "      <th>sleep</th>\n",
       "      <th>y</th>\n",
       "    </tr>\n",
       "  </thead>\n",
       "  <tbody>\n",
       "    <tr>\n",
       "      <th>0</th>\n",
       "      <td>35-44</td>\n",
       "      <td>Normal Weight</td>\n",
       "      <td>Graduated High School</td>\n",
       "      <td>Employed</td>\n",
       "      <td>Good/Better</td>\n",
       "      <td>25k-35k</td>\n",
       "      <td>Y</td>\n",
       "      <td>white</td>\n",
       "      <td>M</td>\n",
       "      <td>5.0</td>\n",
       "      <td>N</td>\n",
       "      <td>AL</td>\n",
       "      <td>False</td>\n",
       "      <td>2016</td>\n",
       "    </tr>\n",
       "    <tr>\n",
       "      <th>1</th>\n",
       "      <td>55-64</td>\n",
       "      <td>Overweight</td>\n",
       "      <td>Graduated High School</td>\n",
       "      <td>Homemaker</td>\n",
       "      <td>Good/Better</td>\n",
       "      <td>&gt;50k</td>\n",
       "      <td>Y</td>\n",
       "      <td>white</td>\n",
       "      <td>W</td>\n",
       "      <td>6.0</td>\n",
       "      <td>N</td>\n",
       "      <td>AL</td>\n",
       "      <td>False</td>\n",
       "      <td>2016</td>\n",
       "    </tr>\n",
       "    <tr>\n",
       "      <th>2</th>\n",
       "      <td>65+</td>\n",
       "      <td>Normal Weight</td>\n",
       "      <td>Attended college/tec</td>\n",
       "      <td>Retired</td>\n",
       "      <td>Good/Better</td>\n",
       "      <td>&gt;50k</td>\n",
       "      <td>Y</td>\n",
       "      <td>white</td>\n",
       "      <td>W</td>\n",
       "      <td>9.0</td>\n",
       "      <td>Y</td>\n",
       "      <td>AL</td>\n",
       "      <td>True</td>\n",
       "      <td>2016</td>\n",
       "    </tr>\n",
       "    <tr>\n",
       "      <th>3</th>\n",
       "      <td>65+</td>\n",
       "      <td>Overweight</td>\n",
       "      <td>Graduated college/tec</td>\n",
       "      <td>Retired</td>\n",
       "      <td>Good/Better</td>\n",
       "      <td>&gt;50k</td>\n",
       "      <td>Y</td>\n",
       "      <td>white</td>\n",
       "      <td>M</td>\n",
       "      <td>7.0</td>\n",
       "      <td>N</td>\n",
       "      <td>AL</td>\n",
       "      <td>True</td>\n",
       "      <td>2016</td>\n",
       "    </tr>\n",
       "    <tr>\n",
       "      <th>4</th>\n",
       "      <td>18-24</td>\n",
       "      <td>Normal Weight</td>\n",
       "      <td>Graduated High School</td>\n",
       "      <td>Employed</td>\n",
       "      <td>Fair/Poor</td>\n",
       "      <td>refused/unknown</td>\n",
       "      <td>Y</td>\n",
       "      <td>white</td>\n",
       "      <td>M</td>\n",
       "      <td>6.0</td>\n",
       "      <td>N</td>\n",
       "      <td>AL</td>\n",
       "      <td>False</td>\n",
       "      <td>2016</td>\n",
       "    </tr>\n",
       "  </tbody>\n",
       "</table>\n",
       "</div>"
      ],
      "text/plain": [
       "     age            bmi              education employment       health           income physical_activity   race sex sleepH smoker state  sleep     y\n",
       "0  35-44  Normal Weight  Graduated High School   Employed  Good/Better          25k-35k                 Y  white   M    5.0      N    AL  False  2016\n",
       "1  55-64     Overweight  Graduated High School  Homemaker  Good/Better             >50k                 Y  white   W    6.0      N    AL  False  2016\n",
       "2    65+  Normal Weight   Attended college/tec    Retired  Good/Better             >50k                 Y  white   W    9.0      Y    AL   True  2016\n",
       "3    65+     Overweight  Graduated college/tec    Retired  Good/Better             >50k                 Y  white   M    7.0      N    AL   True  2016\n",
       "4  18-24  Normal Weight  Graduated High School   Employed    Fair/Poor  refused/unknown                 Y  white   M    6.0      N    AL  False  2016"
      ]
     },
     "execution_count": 512,
     "metadata": {},
     "output_type": "execute_result"
    }
   ],
   "source": [
    "df_2016.head()"
   ]
  },
  {
   "cell_type": "code",
   "execution_count": 526,
   "metadata": {},
   "outputs": [],
   "source": [
    "bmi = ['Overweight', 'Obese']\n",
    "df_2016_risks = df_2016[(df_2016.smoker == 'Y') \n",
    "             & (df_2016['physical_activity'] == 'N') & \n",
    "               (df_2016['bmi'].isin(bmi))]"
   ]
  },
  {
   "cell_type": "code",
   "execution_count": 556,
   "metadata": {},
   "outputs": [
    {
     "name": "stdout",
     "output_type": "stream",
     "text": [
      "Records: 14814\n",
      "3.08 % of the full dataset\n"
     ]
    }
   ],
   "source": [
    "print (\"Records:\", len(df_2016_risks))\n",
    "print (round(len(df_2016_risks)/len(df_2016)*100,2) , \"% of the full dataset\")"
   ]
  },
  {
   "cell_type": "code",
   "execution_count": null,
   "metadata": {
    "collapsed": true
   },
   "outputs": [],
   "source": []
  },
  {
   "cell_type": "code",
   "execution_count": null,
   "metadata": {
    "collapsed": true
   },
   "outputs": [],
   "source": []
  },
  {
   "cell_type": "code",
   "execution_count": null,
   "metadata": {
    "collapsed": true
   },
   "outputs": [],
   "source": []
  },
  {
   "cell_type": "code",
   "execution_count": null,
   "metadata": {
    "collapsed": true
   },
   "outputs": [],
   "source": []
  },
  {
   "cell_type": "code",
   "execution_count": null,
   "metadata": {
    "collapsed": true
   },
   "outputs": [],
   "source": []
  },
  {
   "cell_type": "code",
   "execution_count": null,
   "metadata": {
    "collapsed": true
   },
   "outputs": [],
   "source": []
  },
  {
   "cell_type": "code",
   "execution_count": null,
   "metadata": {
    "collapsed": true
   },
   "outputs": [],
   "source": []
  },
  {
   "cell_type": "code",
   "execution_count": null,
   "metadata": {
    "collapsed": true
   },
   "outputs": [],
   "source": []
  },
  {
   "cell_type": "code",
   "execution_count": null,
   "metadata": {
    "collapsed": true
   },
   "outputs": [],
   "source": []
  },
  {
   "cell_type": "code",
   "execution_count": null,
   "metadata": {
    "collapsed": true
   },
   "outputs": [],
   "source": []
  },
  {
   "cell_type": "code",
   "execution_count": null,
   "metadata": {
    "collapsed": true
   },
   "outputs": [],
   "source": []
  },
  {
   "cell_type": "code",
   "execution_count": null,
   "metadata": {
    "collapsed": true
   },
   "outputs": [],
   "source": []
  },
  {
   "cell_type": "code",
   "execution_count": 540,
   "metadata": {},
   "outputs": [
    {
     "data": {
      "text/plain": [
       "<matplotlib.text.Text at 0x12c429e80>"
      ]
     },
     "execution_count": 540,
     "metadata": {},
     "output_type": "execute_result"
    },
    {
     "data": {
      "image/png": "[encoded data removed]",
      "text/plain": [
       "<matplotlib.figure.Figure at 0x12c39ef28>"
      ]
     },
     "metadata": {},
     "output_type": "display_data"
    }
   ],
   "source": [
    "ax = sns.countplot(x=\"sleepH\", hue=\"sex\", data=df_2016_risks)\n",
    "ax.set_title(\"Overweight or Obese, Smoker, no physical activity \")\n",
    "ax.set_xlabel(\"Hours per night\")\n",
    "ax.set_ylabel('Frequency')"
   ]
  },
  {
   "cell_type": "markdown",
   "metadata": {},
   "source": [
    "# Short sleep and Income\n",
    "\n",
    "Let's analize the distributions between income and short sleep. We will discover that are pretty similar."
   ]
  },
  {
   "cell_type": "code",
   "execution_count": 495,
   "metadata": {},
   "outputs": [
    {
     "data": {
      "text/html": [
       "<div>\n",
       "<style>\n",
       "    .dataframe thead tr:only-child th {\n",
       "        text-align: right;\n",
       "    }\n",
       "\n",
       "    .dataframe thead th {\n",
       "        text-align: left;\n",
       "    }\n",
       "\n",
       "    .dataframe tbody tr th {\n",
       "        vertical-align: top;\n",
       "    }\n",
       "</style>\n",
       "<table border=\"1\" class=\"dataframe\">\n",
       "  <thead>\n",
       "    <tr style=\"text-align: right;\">\n",
       "      <th>sleep</th>\n",
       "      <th>y</th>\n",
       "      <th>income</th>\n",
       "      <th>False</th>\n",
       "      <th>True</th>\n",
       "      <th>Tot</th>\n",
       "      <th>% short sleep</th>\n",
       "      <th>% sleep ok</th>\n",
       "    </tr>\n",
       "  </thead>\n",
       "  <tbody>\n",
       "    <tr>\n",
       "      <th>0</th>\n",
       "      <td>2013</td>\n",
       "      <td>15k-25k</td>\n",
       "      <td>28019</td>\n",
       "      <td>47396</td>\n",
       "      <td>75415</td>\n",
       "      <td>37.15</td>\n",
       "      <td>62.85</td>\n",
       "    </tr>\n",
       "    <tr>\n",
       "      <th>1</th>\n",
       "      <td>2013</td>\n",
       "      <td>25k-35k</td>\n",
       "      <td>16180</td>\n",
       "      <td>32138</td>\n",
       "      <td>48318</td>\n",
       "      <td>33.49</td>\n",
       "      <td>66.51</td>\n",
       "    </tr>\n",
       "    <tr>\n",
       "      <th>2</th>\n",
       "      <td>2013</td>\n",
       "      <td>35k-50k</td>\n",
       "      <td>19348</td>\n",
       "      <td>41715</td>\n",
       "      <td>61063</td>\n",
       "      <td>31.69</td>\n",
       "      <td>68.31</td>\n",
       "    </tr>\n",
       "    <tr>\n",
       "      <th>3</th>\n",
       "      <td>2013</td>\n",
       "      <td>&lt;15k</td>\n",
       "      <td>21535</td>\n",
       "      <td>29178</td>\n",
       "      <td>50713</td>\n",
       "      <td>42.46</td>\n",
       "      <td>57.54</td>\n",
       "    </tr>\n",
       "    <tr>\n",
       "      <th>4</th>\n",
       "      <td>2013</td>\n",
       "      <td>&gt;50k</td>\n",
       "      <td>52471</td>\n",
       "      <td>127982</td>\n",
       "      <td>180453</td>\n",
       "      <td>29.08</td>\n",
       "      <td>70.92</td>\n",
       "    </tr>\n",
       "    <tr>\n",
       "      <th>5</th>\n",
       "      <td>2013</td>\n",
       "      <td>refused/unknown</td>\n",
       "      <td>21083</td>\n",
       "      <td>47356</td>\n",
       "      <td>68439</td>\n",
       "      <td>30.81</td>\n",
       "      <td>69.19</td>\n",
       "    </tr>\n",
       "    <tr>\n",
       "      <th>6</th>\n",
       "      <td>2014</td>\n",
       "      <td>15k-25k</td>\n",
       "      <td>24406</td>\n",
       "      <td>42576</td>\n",
       "      <td>66982</td>\n",
       "      <td>36.44</td>\n",
       "      <td>63.56</td>\n",
       "    </tr>\n",
       "    <tr>\n",
       "      <th>7</th>\n",
       "      <td>2014</td>\n",
       "      <td>25k-35k</td>\n",
       "      <td>14142</td>\n",
       "      <td>29694</td>\n",
       "      <td>43836</td>\n",
       "      <td>32.26</td>\n",
       "      <td>67.74</td>\n",
       "    </tr>\n",
       "    <tr>\n",
       "      <th>8</th>\n",
       "      <td>2014</td>\n",
       "      <td>35k-50k</td>\n",
       "      <td>17862</td>\n",
       "      <td>39189</td>\n",
       "      <td>57051</td>\n",
       "      <td>31.31</td>\n",
       "      <td>68.69</td>\n",
       "    </tr>\n",
       "    <tr>\n",
       "      <th>9</th>\n",
       "      <td>2014</td>\n",
       "      <td>&lt;15k</td>\n",
       "      <td>18003</td>\n",
       "      <td>24929</td>\n",
       "      <td>42932</td>\n",
       "      <td>41.93</td>\n",
       "      <td>58.07</td>\n",
       "    </tr>\n",
       "    <tr>\n",
       "      <th>10</th>\n",
       "      <td>2014</td>\n",
       "      <td>&gt;50k</td>\n",
       "      <td>49626</td>\n",
       "      <td>129075</td>\n",
       "      <td>178701</td>\n",
       "      <td>27.77</td>\n",
       "      <td>72.23</td>\n",
       "    </tr>\n",
       "    <tr>\n",
       "      <th>11</th>\n",
       "      <td>2014</td>\n",
       "      <td>refused/unknown</td>\n",
       "      <td>20354</td>\n",
       "      <td>48316</td>\n",
       "      <td>68670</td>\n",
       "      <td>29.64</td>\n",
       "      <td>70.36</td>\n",
       "    </tr>\n",
       "    <tr>\n",
       "      <th>12</th>\n",
       "      <td>2016</td>\n",
       "      <td>15k-25k</td>\n",
       "      <td>24842</td>\n",
       "      <td>43106</td>\n",
       "      <td>67948</td>\n",
       "      <td>36.56</td>\n",
       "      <td>63.44</td>\n",
       "    </tr>\n",
       "    <tr>\n",
       "      <th>13</th>\n",
       "      <td>2016</td>\n",
       "      <td>25k-35k</td>\n",
       "      <td>14495</td>\n",
       "      <td>29179</td>\n",
       "      <td>43674</td>\n",
       "      <td>33.19</td>\n",
       "      <td>66.81</td>\n",
       "    </tr>\n",
       "    <tr>\n",
       "      <th>14</th>\n",
       "      <td>2016</td>\n",
       "      <td>35k-50k</td>\n",
       "      <td>18496</td>\n",
       "      <td>39550</td>\n",
       "      <td>58046</td>\n",
       "      <td>31.86</td>\n",
       "      <td>68.14</td>\n",
       "    </tr>\n",
       "    <tr>\n",
       "      <th>15</th>\n",
       "      <td>2016</td>\n",
       "      <td>&lt;15k</td>\n",
       "      <td>17194</td>\n",
       "      <td>23434</td>\n",
       "      <td>40628</td>\n",
       "      <td>42.32</td>\n",
       "      <td>57.68</td>\n",
       "    </tr>\n",
       "    <tr>\n",
       "      <th>16</th>\n",
       "      <td>2016</td>\n",
       "      <td>&gt;50k</td>\n",
       "      <td>54466</td>\n",
       "      <td>137025</td>\n",
       "      <td>191491</td>\n",
       "      <td>28.44</td>\n",
       "      <td>71.56</td>\n",
       "    </tr>\n",
       "    <tr>\n",
       "      <th>17</th>\n",
       "      <td>2016</td>\n",
       "      <td>refused/unknown</td>\n",
       "      <td>24030</td>\n",
       "      <td>54760</td>\n",
       "      <td>78790</td>\n",
       "      <td>30.50</td>\n",
       "      <td>69.50</td>\n",
       "    </tr>\n",
       "  </tbody>\n",
       "</table>\n",
       "</div>"
      ],
      "text/plain": [
       "sleep     y           income  False    True     Tot  % short sleep  % sleep ok\n",
       "0      2013          15k-25k  28019   47396   75415          37.15       62.85\n",
       "1      2013          25k-35k  16180   32138   48318          33.49       66.51\n",
       "2      2013          35k-50k  19348   41715   61063          31.69       68.31\n",
       "3      2013             <15k  21535   29178   50713          42.46       57.54\n",
       "4      2013             >50k  52471  127982  180453          29.08       70.92\n",
       "5      2013  refused/unknown  21083   47356   68439          30.81       69.19\n",
       "6      2014          15k-25k  24406   42576   66982          36.44       63.56\n",
       "7      2014          25k-35k  14142   29694   43836          32.26       67.74\n",
       "8      2014          35k-50k  17862   39189   57051          31.31       68.69\n",
       "9      2014             <15k  18003   24929   42932          41.93       58.07\n",
       "10     2014             >50k  49626  129075  178701          27.77       72.23\n",
       "11     2014  refused/unknown  20354   48316   68670          29.64       70.36\n",
       "12     2016          15k-25k  24842   43106   67948          36.56       63.44\n",
       "13     2016          25k-35k  14495   29179   43674          33.19       66.81\n",
       "14     2016          35k-50k  18496   39550   58046          31.86       68.14\n",
       "15     2016             <15k  17194   23434   40628          42.32       57.68\n",
       "16     2016             >50k  54466  137025  191491          28.44       71.56\n",
       "17     2016  refused/unknown  24030   54760   78790          30.50       69.50"
      ]
     },
     "execution_count": 495,
     "metadata": {},
     "output_type": "execute_result"
    }
   ],
   "source": [
    "final_y_tot= final.groupby(['y','income','sleep']).size().unstack().reset_index()\n",
    "final_y_tot['Tot']  =  final_y_tot['False'] + final_y_tot['True']\n",
    "final_y_tot['% short sleep'] =  round(final_y_tot['False'] / final_y_tot['Tot']*100,2)\n",
    "final_y_tot['% sleep ok'] =  round(final_y_tot['True'] / final_y_tot['Tot']*100,2)\n",
    "final_y_tot"
   ]
  },
  {
   "cell_type": "markdown",
   "metadata": {},
   "source": [
    "# Scatter Plot Matrix - Feature feature relationships\n",
    "\n",
    "Let's compare for 5 continuous features filtering on people with \"Short Sleep\" to check relationships between the attributes. We are using all categorical variables so we need to represent them as numbers, typically one converts each categorical feature using “one-hot encoding”.\n",
    "\n",
    "\n",
    "\n",
    "The final important relationship to explore is that of the relationships between the attributes.\n",
    "- BMI Four-categories of Body Mass Index \n",
    "- smoker\n",
    "- sleep hours\n",
    "- physical activity\n",
    " \n",
    "with the diagonal being a kernel density estimate.\n",
    "I need to use the function dummies because in the original dataframa we have Categorical series."
   ]
  },
  {
   "cell_type": "code",
   "execution_count": null,
   "metadata": {},
   "outputs": [],
   "source": [
    "df_2013_short_sleep\n",
    "sns.boxplot(x=\"bmi\", y=\"sleepH\", hue=\"sex\", data=df_2013_short_sleep);"
   ]
  },
  {
   "cell_type": "code",
   "execution_count": null,
   "metadata": {
    "collapsed": true
   },
   "outputs": [],
   "source": [
    "scatter_matrix = sns.PairGrid(df_2016_dummy, vars=['bmi', 'smoker', 'sleeph', 'physical_activity'])\n",
    "scatter_matrix.map_diag(sns.kdeplot)\n",
    "gscatter_matrix.map_offdiag(plt.scatter, s=15)"
   ]
  }
 ],
 "metadata": {
  "kernelspec": {
   "display_name": "Python [conda env:py36]",
   "language": "python",
   "name": "conda-env-py36-py"
  },
  "language_info": {
   "codemirror_mode": {
    "name": "ipython",
    "version": 3
   },
   "file_extension": ".py",
   "mimetype": "text/x-python",
   "name": "python",
   "nbconvert_exporter": "python",
   "pygments_lexer": "ipython3",
   "version": "3.6.1"
  }
 },
 "nbformat": 4,
 "nbformat_minor": 2
}
