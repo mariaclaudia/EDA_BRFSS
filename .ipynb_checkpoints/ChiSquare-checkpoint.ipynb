{
 "cells": [
  {
   "cell_type": "code",
   "execution_count": 1,
   "metadata": {
    "collapsed": true
   },
   "outputs": [],
   "source": [
    "import scipy.stats"
   ]
  },
  {
   "cell_type": "markdown",
   "metadata": {},
   "source": [
    "##  Chi Square Test of Independence"
   ]
  },
  {
   "cell_type": "markdown",
   "metadata": {},
   "source": [
    "A **Chi Square Test of Independence** is used when we have a categorical explanatory variable, and a categorical response variable. \n",
    "\n",
    "The null hypothesis (H0) is that there is no real relationship between the two categorical variables. They are independent. \n",
    "\n",
    "The alternate hypothesis (HA) is that there is a relationship between the two categorical variables, and they are NOT independent. \n",
    "\n",
    "If the explanatory variable has more than two levels or groups, you'll also need to conduct a **post hoc test**. We use the **Bonferroni Adjustment** to protect against Type I error, and then run the Chi Square Test of Independence for each paired comparison. "
   ]
  },
  {
   "cell_type": "code",
   "execution_count": null,
   "metadata": {
    "collapsed": true
   },
   "outputs": [],
   "source": []
  }
 ],
 "metadata": {
  "kernelspec": {
   "display_name": "Python [conda env:py36]",
   "language": "python",
   "name": "conda-env-py36-py"
  },
  "language_info": {
   "codemirror_mode": {
    "name": "ipython",
    "version": 3
   },
   "file_extension": ".py",
   "mimetype": "text/x-python",
   "name": "python",
   "nbconvert_exporter": "python",
   "pygments_lexer": "ipython3",
   "version": "3.6.1"
  }
 },
 "nbformat": 4,
 "nbformat_minor": 2
}
