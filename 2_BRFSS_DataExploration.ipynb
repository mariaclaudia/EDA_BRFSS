{
 "cells": [
  {
   "cell_type": "markdown",
   "metadata": {},
   "source": [
    "# BRFSS - Short sleep analysis\n",
    "## EDA and visualization"
   ]
  },
  {
   "cell_type": "code",
   "execution_count": null,
   "metadata": {
    "collapsed": true
   },
   "outputs": [],
   "source": []
  },
  {
   "cell_type": "markdown",
   "metadata": {},
   "source": [
    "**BRFSS** ia a large phone anonymous survey conduceted **every year** through a state and federal collaboration and with **NHANES** represents the main US risk factor Surveillance. \n",
    "\n",
    "BRFSS is conducted by the **CDC** (Centers for Diseases Control and Prevention, the U.S federal agency) and it's composed by \"Core\" questions and \"modules\"\n",
    "\n",
    "The \"core\" datasets are public and used by both governmental and independent researches.\n",
    "\n",
    "The objective of the BRFSS is to collect uniform, state-specific data on preventive health practices and risk behaviors that are linked to chronic diseases, injuries, and preventable infectious diseases in the adult population. Factors assessed by the BRFSS include tobacco use, health care coverage, HIV/AIDS knowledge or prevention, physical activity, and fruit and vegetable consumption. Data are collected from a random sample of adults (one per household) through a telephone survey.\n",
    "\n",
    "KPI is a type of performance measurement that helps you understand how your organization or department is performing.\n",
    "In healthcare, there may only be limited scientific evidence to support a KPI and it becomes\n",
    "necessary to avail of expert opinion.\n",
    "They can make a national map and figure out where smoking prevalence is highest, and then target areas to encourage smoking cessatios."
   ]
  },
  {
   "cell_type": "markdown",
   "metadata": {},
   "source": [
    "## BRFSS  resources: "
   ]
  },
  {
   "cell_type": "markdown",
   "metadata": {},
   "source": [
    "* Dataset:\n",
    " - [**BRFSS Dataset 2016**](https://www.cdc.gov/brfss/annual_data/2016/files/LLCP2016XPT.zip)\n",
    " - [**BRFSS Dateset 2014**](http://www.cdc.gov/brfss/annual_data/2014/files/LLCP2014XPT.ZIP)\n",
    " - [**BRFSS Dateset 2013**](http://www.cdc.gov/brfss/annual_data/2013/files/LLCP2013XPT.ZIP)\n",
    "\n",
    "* General info and mapping and summary statistics about each variable:\n",
    " - [**2016 Info and Codebook report**](https://www.cdc.gov/brfss/annual_data/annual_2016.html): \n",
    " - [**2014 Info and Codebook report**](https://www.cdc.gov/brfss/annual_data/annual_2014.html)\n",
    " - [**2013 Info and Codebook report**](https://www.cdc.gov/brfss/annual_data/annual_2013.html)\n",
    "\n",
    "\n",
    "* [**Historical questions database**](https://chronicdata.cdc.gov/Behavioral-Risk-Factors/Behavioral-Risk-Factor-Surveillance-System-BRFSS-H/iuq5-y9ct): questions/variable per year\n",
    "\n",
    "In the BRSFSS Dataset 2015 the question \"On average, how many hours of sleep do you get in a 24-hour period?\" was not included."
   ]
  },
  {
   "cell_type": "markdown",
   "metadata": {},
   "source": [
    "## Getting started"
   ]
  },
  {
   "cell_type": "markdown",
   "metadata": {},
   "source": [
    "Let's start importing some usefull libraries and settings:\n"
   ]
  },
  {
   "cell_type": "code",
   "execution_count": 86,
   "metadata": {},
   "outputs": [],
   "source": [
    "%matplotlib inline \n",
    "import numpy as np \n",
    "import scipy as sp \n",
    "import pandas as pd \n",
    "import matplotlib as mpl \n",
    "import matplotlib.cm as cm \n",
    "import matplotlib.pyplot as plt \n",
    "import matplotlib.style as style\n",
    "import seaborn as sns \n",
    "\n",
    "\n",
    "#sets up pandas table display\n",
    "pd.set_option('display.width', 500)\n",
    "pd.set_option('display.max_columns', 200)\n",
    "pd.set_option('display.notebook_repr_html', True)\n",
    "\n",
    "mpl.rcParams['figure.figsize'] = (20.0, 10.0)\n",
    "\n",
    "sns.set_context(\"notebook\")\n",
    "sns.set()\n",
    "sns.set_style(\"darkgrid\")\n",
    "sns.set_palette(sns.color_palette(\"Set2\", 10))\n",
    "\n",
    "style.use('fivethirtyeight')"
   ]
  },
  {
   "cell_type": "markdown",
   "metadata": {},
   "source": [
    "# Load the Datasets\n",
    "\n",
    "The data load performs basically two data selection operations:\n",
    "\n",
    "- **\"df_YYYY\"** dataframe: first, it loads the full datasets, one per year, prepared in LINK notebook LINK\n",
    "\n",
    "They contains the some number of record of the original BRFSS survey but just the columns I need for my analysis.\n",
    "\n",
    "- **\"final\"** dataframe: the concatenation of the \"df_YYYY\" dataframes\n",
    "\n",
    "- **\"df_YYY_short_sleep\"** dataframe: a filtered dataframe just with records from \"Short sleep\" people (with the \"sleepH\" field <7)\n",
    "\n",
    "- **final_short_sleep**: the concatenation of the \"df_YYY_short_sleep\" dataframes\n",
    "\n",
    "The field \"SLEEP\" is a Boolean. \n",
    "\n",
    "True: >= 7 hours\n",
    "\n",
    "False: < 7 hours (short sleep staus)\n",
    "\n",
    "\n"
   ]
  },
  {
   "cell_type": "code",
   "execution_count": 87,
   "metadata": {
    "collapsed": true
   },
   "outputs": [],
   "source": [
    "years = [\"2013\",\"2014\",\"2016\"] \n",
    "##qui sotto spiegare che si può fare ciclo--"
   ]
  },
  {
   "cell_type": "code",
   "execution_count": 88,
   "metadata": {},
   "outputs": [
    {
     "name": "stdout",
     "output_type": "stream",
     "text": [
      "# 2016 Number of rows: 480577\n"
     ]
    }
   ],
   "source": [
    "df_2016 = pd.read_csv('brfss2016clean.csv',sep='\\t', header=0,  dtype='category')\n",
    "df_2016['y'] = '2016'\n",
    "df_2016.head()\n",
    "print(\"# 2016 Number of rows:\", len(df_2016))"
   ]
  },
  {
   "cell_type": "code",
   "execution_count": 89,
   "metadata": {},
   "outputs": [
    {
     "name": "stdout",
     "output_type": "stream",
     "text": [
      "# 2014 Number of rows: 458172\n"
     ]
    }
   ],
   "source": [
    "df_2014 = pd.read_csv('brfss2014clean.csv',sep='\\t', header=0,  dtype='category')\n",
    "df_2014['y'] = '2014'\n",
    "df_2014.head()\n",
    "len (df_2014)\n",
    "print(\"# 2014 Number of rows:\", len(df_2014))"
   ]
  },
  {
   "cell_type": "code",
   "execution_count": 90,
   "metadata": {},
   "outputs": [
    {
     "name": "stdout",
     "output_type": "stream",
     "text": [
      "# 2013 Number of rows: 484401\n"
     ]
    }
   ],
   "source": [
    "df_2013 = pd.read_csv('brfss2013clean.csv',sep='\\t', header=0,  dtype='category')\n",
    "df_2013['y'] = '2013'\n",
    "df_2013.head()\n",
    "len (df_2013)\n",
    "print(\"# 2013 Number of rows:\", len(df_2013))"
   ]
  },
  {
   "cell_type": "markdown",
   "metadata": {},
   "source": [
    "## Full dataset: *\"final\"*\n",
    "The population of the three dataset are pretty similar so we can assume that the samples are similar and we can make some analyis based on these.\n",
    "\n",
    "Let's concat all dataframe in a single one to have a bigger data set --> \"Final\" dataframe"
   ]
  },
  {
   "cell_type": "code",
   "execution_count": 91,
   "metadata": {},
   "outputs": [
    {
     "name": "stdout",
     "output_type": "stream",
     "text": [
      "# Final - Number of rows: 1423150\n"
     ]
    }
   ],
   "source": [
    "allDf = [df_2013,df_2014,df_2016]\n",
    "final = pd.concat(allDf)\n",
    "print(\"# Final - Number of rows:\", len(final))"
   ]
  },
  {
   "cell_type": "code",
   "execution_count": 93,
   "metadata": {},
   "outputs": [],
   "source": [
    "#final.to_csv('brfss_13_14_16.csv',sep='\\t', encoding='utf-8', index=False)"
   ]
  },
  {
   "cell_type": "code",
   "execution_count": 8,
   "metadata": {},
   "outputs": [
    {
     "data": {
      "text/plain": [
       "y\n",
       "2013    484401\n",
       "2014    458172\n",
       "2016    480577\n",
       "dtype: int64"
      ]
     },
     "execution_count": 8,
     "metadata": {},
     "output_type": "execute_result"
    }
   ],
   "source": [
    "#Check data\n",
    "final.groupby('y').size()"
   ]
  },
  {
   "cell_type": "markdown",
   "metadata": {},
   "source": [
    "## Dataset filtered on \"short sleep\" entries: \n",
    "\n",
    "It is important to note that while the broad population 2016 is approximately 480.000 samples, the \"Short sleep\" segment from BRFSS yields 153.523 samples. Please see below the table for every years."
   ]
  },
  {
   "cell_type": "markdown",
   "metadata": {},
   "source": [
    "#### Final full years short_sleep:"
   ]
  },
  {
   "cell_type": "code",
   "execution_count": 9,
   "metadata": {
    "collapsed": true
   },
   "outputs": [],
   "source": [
    "final_short_sleep= final[final['sleep'] == 'False'] #filter to only rows where sleep == True"
   ]
  },
  {
   "cell_type": "markdown",
   "metadata": {},
   "source": [
    "#### 2016 short sleep dataset:"
   ]
  },
  {
   "cell_type": "code",
   "execution_count": 131,
   "metadata": {},
   "outputs": [],
   "source": [
    "df_2016_short_sleep= df_2016[df_2016['sleep'] == 'False'] #filter to only rows where sleep == True"
   ]
  },
  {
   "cell_type": "markdown",
   "metadata": {},
   "source": [
    "#### 2014 short sleep dataset:"
   ]
  },
  {
   "cell_type": "code",
   "execution_count": 13,
   "metadata": {
    "collapsed": true
   },
   "outputs": [],
   "source": [
    "df_2014_short_sleep= df_2014[df_2014['sleep'] == 'False'] #filter to only rows where sleep == True"
   ]
  },
  {
   "cell_type": "markdown",
   "metadata": {},
   "source": [
    "#### 2013 short sleep dataset:"
   ]
  },
  {
   "cell_type": "code",
   "execution_count": 14,
   "metadata": {
    "collapsed": true
   },
   "outputs": [],
   "source": [
    "df_2013_short_sleep= df_2013[df_2013['sleep'] == 'False'] #filter to only rows where sleep == True"
   ]
  },
  {
   "cell_type": "markdown",
   "metadata": {},
   "source": [
    "# Sleep Hours per night \n",
    "### On average, how many hours of sleep do you get in a 24-hour period?\n",
    "\n",
    "For the general population, we have the following reported sleep distribution:\n",
    "\n",
    "- The distributions is calculated using the 2016 dataset (480.577 people).\n",
    "\n",
    "- The majority of males and females both sleep between 7 and 8 hours per day.\n",
    "\n",
    "- The mean is 7.05 hours, the STD is 1.48 hour"
   ]
  },
  {
   "cell_type": "code",
   "execution_count": 138,
   "metadata": {},
   "outputs": [
    {
     "name": "stdout",
     "output_type": "stream",
     "text": [
      "MEAN:  7.054295149372525\n",
      "STD:  1.4874194129122544\n"
     ]
    },
    {
     "data": {
      "text/plain": [
       "<matplotlib.text.Text at 0x11cbf46a0>"
      ]
     },
     "execution_count": 138,
     "metadata": {},
     "output_type": "execute_result"
    },
    {
     "data": {
      "image/png": "[encoded data removed]",
      "text/plain": [
       "<matplotlib.figure.Figure at 0x11fd914a8>"
      ]
     },
     "metadata": {},
     "output_type": "display_data"
    }
   ],
   "source": [
    "print (\"MEAN: \", df_2016['sleepH'].mean())\n",
    "print (\"STD: \", df_2016['sleepH'].std())\n",
    "df_2016['sleepH']= df_2016['sleepH'].astype(float)\n",
    "sleep_hour_distro = sns.countplot(x=\"sleepH\", data=df_2016)\n",
    "sleep_hour_distro.set_xlabel(\"Hours per night\")\n",
    "sleep_hour_distro.set_ylabel(\"People \")\n",
    "sleep_hour_distro.set_title(\"Hours per night\")"
   ]
  },
  {
   "cell_type": "code",
   "execution_count": null,
   "metadata": {
    "collapsed": true
   },
   "outputs": [],
   "source": []
  },
  {
   "cell_type": "code",
   "execution_count": null,
   "metadata": {
    "collapsed": true
   },
   "outputs": [],
   "source": []
  },
  {
   "cell_type": "markdown",
   "metadata": {},
   "source": [
    "# Short sleep Trend by year"
   ]
  },
  {
   "cell_type": "code",
   "execution_count": null,
   "metadata": {},
   "outputs": [],
   "source": [
    "final.dtypes"
   ]
  },
  {
   "cell_type": "code",
   "execution_count": 65,
   "metadata": {
    "collapsed": true
   },
   "outputs": [],
   "source": [
    "final_y = final[['sleep','y','state']]"
   ]
  },
  {
   "cell_type": "markdown",
   "metadata": {},
   "source": [
    "In order to calculate % later, I need to cast from Categories to Object \"sex\", \"year\", \"sleep\" and \"country\""
   ]
  },
  {
   "cell_type": "code",
   "execution_count": 101,
   "metadata": {},
   "outputs": [],
   "source": [
    "final['sleep'] = final['sleep'].astype('object')\n",
    "final['y'] = final['y'].astype('object')\n",
    "final['sex'] = final['sex'].astype('object')\n",
    "final['state'] = final['state'].astype('object')"
   ]
  },
  {
   "cell_type": "code",
   "execution_count": 102,
   "metadata": {},
   "outputs": [],
   "source": [
    "final_y= final.groupby(['y','sleep']).size().unstack().reset_index()\n",
    "final_y['Tot'] =  final_y['False'] + final_y['True']\n",
    "final_y['pct'] =  final_y['False'] / final_y['Tot']\n",
    "final_y = final_y[['y','pct']]"
   ]
  },
  {
   "cell_type": "code",
   "execution_count": 103,
   "metadata": {},
   "outputs": [
    {
     "data": {
      "text/html": [
       "<div>\n",
       "<style>\n",
       "    .dataframe thead tr:only-child th {\n",
       "        text-align: right;\n",
       "    }\n",
       "\n",
       "    .dataframe thead th {\n",
       "        text-align: left;\n",
       "    }\n",
       "\n",
       "    .dataframe tbody tr th {\n",
       "        vertical-align: top;\n",
       "    }\n",
       "</style>\n",
       "<table border=\"1\" class=\"dataframe\">\n",
       "  <thead>\n",
       "    <tr style=\"text-align: right;\">\n",
       "      <th>sleep</th>\n",
       "      <th>y</th>\n",
       "      <th>pct</th>\n",
       "    </tr>\n",
       "  </thead>\n",
       "  <tbody>\n",
       "    <tr>\n",
       "      <th>0</th>\n",
       "      <td>2013</td>\n",
       "      <td>0.327489</td>\n",
       "    </tr>\n",
       "    <tr>\n",
       "      <th>1</th>\n",
       "      <td>2014</td>\n",
       "      <td>0.315150</td>\n",
       "    </tr>\n",
       "    <tr>\n",
       "      <th>2</th>\n",
       "      <td>2016</td>\n",
       "      <td>0.319456</td>\n",
       "    </tr>\n",
       "  </tbody>\n",
       "</table>\n",
       "</div>"
      ],
      "text/plain": [
       "sleep     y       pct\n",
       "0      2013  0.327489\n",
       "1      2014  0.315150\n",
       "2      2016  0.319456"
      ]
     },
     "execution_count": 103,
     "metadata": {},
     "output_type": "execute_result"
    }
   ],
   "source": [
    "final_y"
   ]
  },
  {
   "cell_type": "code",
   "execution_count": 69,
   "metadata": {},
   "outputs": [
    {
     "data": {
      "text/plain": [
       "y     sleep\n",
       "2013  False    158636\n",
       "      True     325765\n",
       "2014  False    144393\n",
       "      True     313779\n",
       "2016  False    153523\n",
       "      True     327054\n",
       "dtype: int64"
      ]
     },
     "execution_count": 69,
     "metadata": {},
     "output_type": "execute_result"
    }
   ],
   "source": [
    "final.groupby(['y','sleep']).size()"
   ]
  },
  {
   "cell_type": "code",
   "execution_count": 73,
   "metadata": {},
   "outputs": [
    {
     "data": {
      "image/png": "[encoded data removed]",
      "text/plain": [
       "<matplotlib.figure.Figure at 0x122acdf28>"
      ]
     },
     "metadata": {},
     "output_type": "display_data"
    }
   ],
   "source": [
    "#With Seaborn\n",
    "bar_plot = sns.barplot(x=final_y[\"y\"],y=final_y[\"pct\"])\n",
    "bar_plot.set_xlabel(\"Years\")\n",
    "bar_plot.set_ylabel(\"People with short sleep (<7 hours per day)\")\n",
    "bar_plot.set_title(\"US people with short sleep (<7 hours per day)\")\n",
    "#bar_plot.tick_params(axis = 'both', which = 'major', labelsize = 12)\n",
    "bar_plot.set_yticklabels(labels = ['0   ', '25   ', '50   ', '75   ','100%'])\n",
    "#bar_plot.set_xticklabels(labels = ['2013', '2014', '2016'])\n",
    "bar_plot.axhline(y = 0, color = 'black', linewidth = 1.3, alpha = .7)\n",
    "\n",
    "#Insert labels on top\n",
    "barwidth = [0.8, 0.8, 0.8, 0.8]\n",
    "bar_plot.set_ylim(0, 1)\n",
    "\n",
    "label_ = final_y.pct\n",
    "for bar,newwidth, label in zip(bar_plot.patches,barwidth, label_):\n",
    "    x = bar.get_x()\n",
    "    width = bar.get_width()\n",
    "    height = bar.get_height()\n",
    "    centre = x + width/2.\n",
    "    bar.set_x(centre-newwidth/2.)\n",
    "    bar.set_width(newwidth)\n",
    "    bar_plot.text(x+width/2., height - 0.05,  '{0:4.2f}'.format(label*100)+\"%\", ha=\"center\") \n",
    "   "
   ]
  },
  {
   "cell_type": "markdown",
   "metadata": {},
   "source": [
    "# Countries and Short sleep "
   ]
  },
  {
   "cell_type": "markdown",
   "metadata": {},
   "source": [
    "## Which is the country with the highest percentage of \"short sleep\" people?"
   ]
  },
  {
   "cell_type": "markdown",
   "metadata": {},
   "source": [
    "# Sex and Short sleep\n",
    "Let's analize the distributions between sex and short sleep"
   ]
  },
  {
   "cell_type": "code",
   "execution_count": 105,
   "metadata": {},
   "outputs": [
    {
     "data": {
      "text/html": [
       "<div>\n",
       "<style>\n",
       "    .dataframe thead tr:only-child th {\n",
       "        text-align: right;\n",
       "    }\n",
       "\n",
       "    .dataframe thead th {\n",
       "        text-align: left;\n",
       "    }\n",
       "\n",
       "    .dataframe tbody tr th {\n",
       "        vertical-align: top;\n",
       "    }\n",
       "</style>\n",
       "<table border=\"1\" class=\"dataframe\">\n",
       "  <thead>\n",
       "    <tr style=\"text-align: right;\">\n",
       "      <th>sleep</th>\n",
       "      <th>y</th>\n",
       "      <th>sex</th>\n",
       "      <th>False</th>\n",
       "      <th>True</th>\n",
       "      <th>Tot</th>\n",
       "      <th>%</th>\n",
       "    </tr>\n",
       "  </thead>\n",
       "  <tbody>\n",
       "    <tr>\n",
       "      <th>0</th>\n",
       "      <td>2013</td>\n",
       "      <td>M</td>\n",
       "      <td>65598</td>\n",
       "      <td>133273</td>\n",
       "      <td>198871</td>\n",
       "      <td>32.985201</td>\n",
       "    </tr>\n",
       "    <tr>\n",
       "      <th>1</th>\n",
       "      <td>2013</td>\n",
       "      <td>W</td>\n",
       "      <td>93038</td>\n",
       "      <td>192492</td>\n",
       "      <td>285530</td>\n",
       "      <td>32.584317</td>\n",
       "    </tr>\n",
       "    <tr>\n",
       "      <th>2</th>\n",
       "      <td>2014</td>\n",
       "      <td>M</td>\n",
       "      <td>60698</td>\n",
       "      <td>130158</td>\n",
       "      <td>190856</td>\n",
       "      <td>31.803035</td>\n",
       "    </tr>\n",
       "    <tr>\n",
       "      <th>3</th>\n",
       "      <td>2014</td>\n",
       "      <td>W</td>\n",
       "      <td>83695</td>\n",
       "      <td>183621</td>\n",
       "      <td>267316</td>\n",
       "      <td>31.309387</td>\n",
       "    </tr>\n",
       "    <tr>\n",
       "      <th>4</th>\n",
       "      <td>2016</td>\n",
       "      <td>M</td>\n",
       "      <td>67024</td>\n",
       "      <td>141543</td>\n",
       "      <td>208567</td>\n",
       "      <td>32.135477</td>\n",
       "    </tr>\n",
       "    <tr>\n",
       "      <th>5</th>\n",
       "      <td>2016</td>\n",
       "      <td>Refused</td>\n",
       "      <td>26</td>\n",
       "      <td>32</td>\n",
       "      <td>58</td>\n",
       "      <td>44.827586</td>\n",
       "    </tr>\n",
       "    <tr>\n",
       "      <th>6</th>\n",
       "      <td>2016</td>\n",
       "      <td>W</td>\n",
       "      <td>86473</td>\n",
       "      <td>185479</td>\n",
       "      <td>271952</td>\n",
       "      <td>31.797155</td>\n",
       "    </tr>\n",
       "  </tbody>\n",
       "</table>\n",
       "</div>"
      ],
      "text/plain": [
       "sleep     y      sex  False    True     Tot          %\n",
       "0      2013        M  65598  133273  198871  32.985201\n",
       "1      2013        W  93038  192492  285530  32.584317\n",
       "2      2014        M  60698  130158  190856  31.803035\n",
       "3      2014        W  83695  183621  267316  31.309387\n",
       "4      2016        M  67024  141543  208567  32.135477\n",
       "5      2016  Refused     26      32      58  44.827586\n",
       "6      2016        W  86473  185479  271952  31.797155"
      ]
     },
     "execution_count": 105,
     "metadata": {},
     "output_type": "execute_result"
    }
   ],
   "source": [
    "final_y_tot= final.groupby(['y','sex','sleep']).size().unstack().reset_index()\n",
    "\n",
    "final_y_tot['Tot']  =  final_y_tot['False'] + final_y_tot['True']\n",
    "final_y_tot['%'] =  final_y_tot['False'] / final_y_tot['Tot']*100\n"
   ]
  },
  {
   "cell_type": "code",
   "execution_count": 110,
   "metadata": {},
   "outputs": [],
   "source": [
    "final_y_tot = final_y_tot[[\"y\",\"sex\",\"%\"]]"
   ]
  },
  {
   "cell_type": "code",
   "execution_count": 75,
   "metadata": {},
   "outputs": [
    {
     "data": {
      "text/plain": [
       "y     sex    \n",
       "2013  M          65598\n",
       "      W          93038\n",
       "2014  M          60698\n",
       "      W          83695\n",
       "2016  M          67024\n",
       "      Refused       26\n",
       "      W          86473\n",
       "dtype: int64"
      ]
     },
     "execution_count": 75,
     "metadata": {},
     "output_type": "execute_result"
    }
   ],
   "source": [
    "final_short_sleep.groupby(['y','sex']).size()"
   ]
  },
  {
   "cell_type": "code",
   "execution_count": 76,
   "metadata": {
    "collapsed": true
   },
   "outputs": [],
   "source": [
    "#Calculate proportion\n",
    "final_y= final_short_sleep.groupby(['y','sex']).size().unstack().reset_index()"
   ]
  },
  {
   "cell_type": "code",
   "execution_count": 77,
   "metadata": {
    "collapsed": true
   },
   "outputs": [],
   "source": [
    "final_y['Tot']  =  final_y['M'] + final_y['W']\n",
    "final_y['% Men'] =  final_y['M'] / final_y['Tot']*100\n",
    "final_y['% Woman'] =  final_y['W'] / final_y['Tot']*100\n",
    "final_y= final_y[['y','% Men','% Woman']]"
   ]
  },
  {
   "cell_type": "markdown",
   "metadata": {},
   "source": [
    "## Woman are more likely to report not getting enough sleep than men"
   ]
  },
  {
   "cell_type": "code",
   "execution_count": 78,
   "metadata": {},
   "outputs": [
    {
     "data": {
      "text/html": [
       "<div>\n",
       "<style>\n",
       "    .dataframe thead tr:only-child th {\n",
       "        text-align: right;\n",
       "    }\n",
       "\n",
       "    .dataframe thead th {\n",
       "        text-align: left;\n",
       "    }\n",
       "\n",
       "    .dataframe tbody tr th {\n",
       "        vertical-align: top;\n",
       "    }\n",
       "</style>\n",
       "<table border=\"1\" class=\"dataframe\">\n",
       "  <thead>\n",
       "    <tr style=\"text-align: right;\">\n",
       "      <th>sex</th>\n",
       "      <th>y</th>\n",
       "      <th>% Men</th>\n",
       "      <th>% Woman</th>\n",
       "    </tr>\n",
       "  </thead>\n",
       "  <tbody>\n",
       "    <tr>\n",
       "      <th>0</th>\n",
       "      <td>2013</td>\n",
       "      <td>41.35</td>\n",
       "      <td>58.65</td>\n",
       "    </tr>\n",
       "    <tr>\n",
       "      <th>1</th>\n",
       "      <td>2014</td>\n",
       "      <td>42.04</td>\n",
       "      <td>57.96</td>\n",
       "    </tr>\n",
       "    <tr>\n",
       "      <th>2</th>\n",
       "      <td>2016</td>\n",
       "      <td>43.66</td>\n",
       "      <td>56.34</td>\n",
       "    </tr>\n",
       "  </tbody>\n",
       "</table>\n",
       "</div>"
      ],
      "text/plain": [
       "sex     y  % Men  % Woman\n",
       "0    2013  41.35    58.65\n",
       "1    2014  42.04    57.96\n",
       "2    2016  43.66    56.34"
      ]
     },
     "execution_count": 78,
     "metadata": {},
     "output_type": "execute_result"
    }
   ],
   "source": [
    "final_y.set_index('y')\n",
    "final_y.round(2) #round to 2 decimals "
   ]
  },
  {
   "cell_type": "code",
   "execution_count": 79,
   "metadata": {},
   "outputs": [
    {
     "data": {
      "image/png": "[encoded data removed]",
      "text/plain": [
       "<matplotlib.figure.Figure at 0x12261def0>"
      ]
     },
     "metadata": {},
     "output_type": "display_data"
    }
   ],
   "source": [
    "bar_plot=final_y.plot(x='y', kind='bar', grid=True )\n",
    "#bar_plot.set_color_cycle(colors)\n",
    "#bar_plot.set_aspect(\"equal\") \n",
    "bar_plot.set_xlabel(\"Years\")\n",
    "bar_plot.set_ylabel(\"People with short sleep\")\n",
    "bar_plot.set_title(\"Sex distribution with short sleep (<7 hours per day)\")\n",
    "\n",
    "L=bar_plot.legend(loc=\"lower right\")\n",
    "#L.get_texts()[0].set_text('Men %')\n",
    "#L.get_texts()[1].set_text('Woman %')\n",
    "\n",
    "#Descrivere che c'è una diminuzione tra le donne che rimangono comunque più alte   "
   ]
  },
  {
   "cell_type": "markdown",
   "metadata": {},
   "source": [
    "## Educationa level and Short Sleep\n",
    "Let's check the Education Level inside the group with spleep disorders"
   ]
  },
  {
   "cell_type": "code",
   "execution_count": 80,
   "metadata": {},
   "outputs": [
    {
     "data": {
      "text/plain": [
       "y     education            \n",
       "2013  Attended college/tec     132698\n",
       "      Don't know                 2057\n",
       "      Graduated High School    140381\n",
       "      Graduated college/tec    168996\n",
       "      No High School            40269\n",
       "2014  Attended college/tec     124210\n",
       "      Don't know                 3570\n",
       "      Graduated High School    128986\n",
       "      Graduated college/tec    165922\n",
       "      No High School            35484\n",
       "2016  Attended college/tec     132087\n",
       "      Don't know                 1617\n",
       "      Graduated High School    134601\n",
       "      Graduated college/tec    175795\n",
       "      No High School            36477\n",
       "dtype: int64"
      ]
     },
     "execution_count": 80,
     "metadata": {},
     "output_type": "execute_result"
    }
   ],
   "source": [
    "#Education categories in the full dataset\n",
    "final.groupby(['y','education']).size()"
   ]
  },
  {
   "cell_type": "code",
   "execution_count": 81,
   "metadata": {},
   "outputs": [
    {
     "data": {
      "text/plain": [
       "y     education            \n",
       "2013  Attended college/tec     46255\n",
       "      Don't know                 659\n",
       "      Graduated High School    49476\n",
       "      Graduated college/tec    46441\n",
       "      No High School           15805\n",
       "2014  Attended college/tec     42060\n",
       "      Don't know                1174\n",
       "      Graduated High School    44343\n",
       "      Graduated college/tec    43336\n",
       "      No High School           13480\n",
       "2016  Attended college/tec     45113\n",
       "      Don't know                 492\n",
       "      Graduated High School    46714\n",
       "      Graduated college/tec    47306\n",
       "      No High School           13898\n",
       "dtype: int64"
      ]
     },
     "execution_count": 81,
     "metadata": {},
     "output_type": "execute_result"
    }
   ],
   "source": [
    "final_short_sleep.groupby(['y','education']).size()"
   ]
  },
  {
   "cell_type": "markdown",
   "metadata": {},
   "source": [
    "## Let's analize education and short sleep during the 2016."
   ]
  },
  {
   "cell_type": "code",
   "execution_count": 82,
   "metadata": {},
   "outputs": [
    {
     "data": {
      "image/png": "[encoded data removed]",
      "text/plain": [
       "<matplotlib.figure.Figure at 0x12257bdd8>"
      ]
     },
     "metadata": {},
     "output_type": "display_data"
    }
   ],
   "source": [
    "ax = sns.countplot(x=\"education\", data=df_2016_short_sleep)"
   ]
  },
  {
   "cell_type": "code",
   "execution_count": 83,
   "metadata": {},
   "outputs": [
    {
     "data": {
      "text/plain": [
       "<seaborn.axisgrid.FacetGrid at 0x122465518>"
      ]
     },
     "execution_count": 83,
     "metadata": {},
     "output_type": "execute_result"
    },
    {
     "data": {
      "image/png": "[encoded data removed]",
      "text/plain": [
       "<matplotlib.figure.Figure at 0x122465438>"
      ]
     },
     "metadata": {},
     "output_type": "display_data"
    }
   ],
   "source": [
    "g = sns.factorplot(x=\"education\",  col=\"y\",\n",
    "                   data=final_short_sleep, kind=\"count\",  size=5, aspect=.7);\n",
    "g.set_xticklabels(rotation = 80)"
   ]
  },
  {
   "cell_type": "code",
   "execution_count": 126,
   "metadata": {},
   "outputs": [
    {
     "ename": "AttributeError",
     "evalue": "'Series' object has no attribute 'traspose'",
     "output_type": "error",
     "traceback": [
      "\u001b[0;31m---------------------------------------------------------------------------\u001b[0m",
      "\u001b[0;31mAttributeError\u001b[0m                            Traceback (most recent call last)",
      "\u001b[0;32m<ipython-input-126-7a31496f291c>\u001b[0m in \u001b[0;36m<module>\u001b[0;34m()\u001b[0m\n\u001b[1;32m      1\u001b[0m \u001b[0mtest\u001b[0m \u001b[0;34m=\u001b[0m \u001b[0mdf_2016_short_sleep\u001b[0m\u001b[0;34m.\u001b[0m\u001b[0mgroupby\u001b[0m\u001b[0;34m(\u001b[0m\u001b[0;34m[\u001b[0m\u001b[0;34m'sex'\u001b[0m\u001b[0;34m,\u001b[0m\u001b[0;34m'education'\u001b[0m\u001b[0;34m]\u001b[0m\u001b[0;34m)\u001b[0m\u001b[0;34m.\u001b[0m\u001b[0msize\u001b[0m\u001b[0;34m(\u001b[0m\u001b[0;34m)\u001b[0m\u001b[0;34m\u001b[0m\u001b[0m\n\u001b[0;32m----> 2\u001b[0;31m \u001b[0mtest\u001b[0m\u001b[0;34m.\u001b[0m\u001b[0mtraspose\u001b[0m\u001b[0;34m(\u001b[0m\u001b[0;34m)\u001b[0m\u001b[0;34m\u001b[0m\u001b[0m\n\u001b[0m\u001b[1;32m      3\u001b[0m \u001b[0;31m#dfscience.transpose().loc[['after', 'before'], :].plot(kind=\"barh\", stacked=True)\u001b[0m\u001b[0;34m\u001b[0m\u001b[0;34m\u001b[0m\u001b[0m\n\u001b[1;32m      4\u001b[0m \u001b[0;31m#plt.legend(loc=2, ncol=5);\u001b[0m\u001b[0;34m\u001b[0m\u001b[0;34m\u001b[0m\u001b[0m\n",
      "\u001b[0;32m//anaconda/envs/py36/lib/python3.6/site-packages/pandas/core/generic.py\u001b[0m in \u001b[0;36m__getattr__\u001b[0;34m(self, name)\u001b[0m\n\u001b[1;32m   2968\u001b[0m             \u001b[0;32mif\u001b[0m \u001b[0mname\u001b[0m \u001b[0;32min\u001b[0m \u001b[0mself\u001b[0m\u001b[0;34m.\u001b[0m\u001b[0m_info_axis\u001b[0m\u001b[0;34m:\u001b[0m\u001b[0;34m\u001b[0m\u001b[0m\n\u001b[1;32m   2969\u001b[0m                 \u001b[0;32mreturn\u001b[0m \u001b[0mself\u001b[0m\u001b[0;34m[\u001b[0m\u001b[0mname\u001b[0m\u001b[0;34m]\u001b[0m\u001b[0;34m\u001b[0m\u001b[0m\n\u001b[0;32m-> 2970\u001b[0;31m             \u001b[0;32mreturn\u001b[0m \u001b[0mobject\u001b[0m\u001b[0;34m.\u001b[0m\u001b[0m__getattribute__\u001b[0m\u001b[0;34m(\u001b[0m\u001b[0mself\u001b[0m\u001b[0;34m,\u001b[0m \u001b[0mname\u001b[0m\u001b[0;34m)\u001b[0m\u001b[0;34m\u001b[0m\u001b[0m\n\u001b[0m\u001b[1;32m   2971\u001b[0m \u001b[0;34m\u001b[0m\u001b[0m\n\u001b[1;32m   2972\u001b[0m     \u001b[0;32mdef\u001b[0m \u001b[0m__setattr__\u001b[0m\u001b[0;34m(\u001b[0m\u001b[0mself\u001b[0m\u001b[0;34m,\u001b[0m \u001b[0mname\u001b[0m\u001b[0;34m,\u001b[0m \u001b[0mvalue\u001b[0m\u001b[0;34m)\u001b[0m\u001b[0;34m:\u001b[0m\u001b[0;34m\u001b[0m\u001b[0m\n",
      "\u001b[0;31mAttributeError\u001b[0m: 'Series' object has no attribute 'traspose'"
     ]
    }
   ],
   "source": [
    "test = df_2016_short_sleep.groupby(['sex','education']).size()\n",
    "test.traspose()\n",
    "#dfscience.transpose().loc[['after', 'before'], :].plot(kind=\"barh\", stacked=True)\n",
    "#plt.legend(loc=2, ncol=5);"
   ]
  },
  {
   "cell_type": "markdown",
   "metadata": {},
   "source": [
    "# Scatter Plot Matrix - Feature feature relationships\n",
    "\n",
    "Let's compare for 5 continuous features filtering on people with \"Short Sleep\" to check relationships between the attributes. We are using all categorical variables so we need to represent them as numbers, typically one converts each categorical feature using “one-hot encoding”.\n",
    "\n",
    "\n",
    "\n",
    "The final important relationship to explore is that of the relationships between the attributes.\n",
    "- BMI Four-categories of Body Mass Index \n",
    "- smoker\n",
    "- sleep hours\n",
    "- physical activity\n",
    " \n",
    "with the diagonal being a kernel density estimate.\n",
    "I need to use the function dummies because in the original dataframa we have Categorical series."
   ]
  },
  {
   "cell_type": "code",
   "execution_count": 122,
   "metadata": {},
   "outputs": [
    {
     "ename": "ValueError",
     "evalue": "Neither the `x` nor `y` variable appears to be numeric.",
     "output_type": "error",
     "traceback": [
      "\u001b[0;31m---------------------------------------------------------------------------\u001b[0m",
      "\u001b[0;31mValueError\u001b[0m                                Traceback (most recent call last)",
      "\u001b[0;32m<ipython-input-122-36c8629b8408>\u001b[0m in \u001b[0;36m<module>\u001b[0;34m()\u001b[0m\n\u001b[0;32m----> 1\u001b[0;31m \u001b[0msns\u001b[0m\u001b[0;34m.\u001b[0m\u001b[0mboxplot\u001b[0m\u001b[0;34m(\u001b[0m\u001b[0mx\u001b[0m\u001b[0;34m=\u001b[0m\u001b[0;34m\"bmi\"\u001b[0m\u001b[0;34m,\u001b[0m \u001b[0my\u001b[0m\u001b[0;34m=\u001b[0m\u001b[0;34m\"sleepH\"\u001b[0m\u001b[0;34m,\u001b[0m \u001b[0mhue\u001b[0m\u001b[0;34m=\u001b[0m\u001b[0;34m\"sex\"\u001b[0m\u001b[0;34m,\u001b[0m \u001b[0mdata\u001b[0m\u001b[0;34m=\u001b[0m\u001b[0mdf_2013_short_sleep\u001b[0m\u001b[0;34m)\u001b[0m\u001b[0;34m;\u001b[0m\u001b[0;34m\u001b[0m\u001b[0m\n\u001b[0m",
      "\u001b[0;32m//anaconda/envs/py36/lib/python3.6/site-packages/seaborn/categorical.py\u001b[0m in \u001b[0;36mboxplot\u001b[0;34m(x, y, hue, data, order, hue_order, orient, color, palette, saturation, width, fliersize, linewidth, whis, notch, ax, **kwargs)\u001b[0m\n\u001b[1;32m   2173\u001b[0m     plotter = _BoxPlotter(x, y, hue, data, order, hue_order,\n\u001b[1;32m   2174\u001b[0m                           \u001b[0morient\u001b[0m\u001b[0;34m,\u001b[0m \u001b[0mcolor\u001b[0m\u001b[0;34m,\u001b[0m \u001b[0mpalette\u001b[0m\u001b[0;34m,\u001b[0m \u001b[0msaturation\u001b[0m\u001b[0;34m,\u001b[0m\u001b[0;34m\u001b[0m\u001b[0m\n\u001b[0;32m-> 2175\u001b[0;31m                           width, fliersize, linewidth)\n\u001b[0m\u001b[1;32m   2176\u001b[0m \u001b[0;34m\u001b[0m\u001b[0m\n\u001b[1;32m   2177\u001b[0m     \u001b[0;32mif\u001b[0m \u001b[0max\u001b[0m \u001b[0;32mis\u001b[0m \u001b[0;32mNone\u001b[0m\u001b[0;34m:\u001b[0m\u001b[0;34m\u001b[0m\u001b[0m\n",
      "\u001b[0;32m//anaconda/envs/py36/lib/python3.6/site-packages/seaborn/categorical.py\u001b[0m in \u001b[0;36m__init__\u001b[0;34m(self, x, y, hue, data, order, hue_order, orient, color, palette, saturation, width, fliersize, linewidth)\u001b[0m\n\u001b[1;32m    424\u001b[0m                  width, fliersize, linewidth):\n\u001b[1;32m    425\u001b[0m \u001b[0;34m\u001b[0m\u001b[0m\n\u001b[0;32m--> 426\u001b[0;31m         \u001b[0mself\u001b[0m\u001b[0;34m.\u001b[0m\u001b[0mestablish_variables\u001b[0m\u001b[0;34m(\u001b[0m\u001b[0mx\u001b[0m\u001b[0;34m,\u001b[0m \u001b[0my\u001b[0m\u001b[0;34m,\u001b[0m \u001b[0mhue\u001b[0m\u001b[0;34m,\u001b[0m \u001b[0mdata\u001b[0m\u001b[0;34m,\u001b[0m \u001b[0morient\u001b[0m\u001b[0;34m,\u001b[0m \u001b[0morder\u001b[0m\u001b[0;34m,\u001b[0m \u001b[0mhue_order\u001b[0m\u001b[0;34m)\u001b[0m\u001b[0;34m\u001b[0m\u001b[0m\n\u001b[0m\u001b[1;32m    427\u001b[0m         \u001b[0mself\u001b[0m\u001b[0;34m.\u001b[0m\u001b[0mestablish_colors\u001b[0m\u001b[0;34m(\u001b[0m\u001b[0mcolor\u001b[0m\u001b[0;34m,\u001b[0m \u001b[0mpalette\u001b[0m\u001b[0;34m,\u001b[0m \u001b[0msaturation\u001b[0m\u001b[0;34m)\u001b[0m\u001b[0;34m\u001b[0m\u001b[0m\n\u001b[1;32m    428\u001b[0m \u001b[0;34m\u001b[0m\u001b[0m\n",
      "\u001b[0;32m//anaconda/envs/py36/lib/python3.6/site-packages/seaborn/categorical.py\u001b[0m in \u001b[0;36mestablish_variables\u001b[0;34m(self, x, y, hue, data, orient, order, hue_order, units)\u001b[0m\n\u001b[1;32m    152\u001b[0m \u001b[0;34m\u001b[0m\u001b[0m\n\u001b[1;32m    153\u001b[0m             \u001b[0;31m# Figure out the plotting orientation\u001b[0m\u001b[0;34m\u001b[0m\u001b[0;34m\u001b[0m\u001b[0m\n\u001b[0;32m--> 154\u001b[0;31m             \u001b[0morient\u001b[0m \u001b[0;34m=\u001b[0m \u001b[0mself\u001b[0m\u001b[0;34m.\u001b[0m\u001b[0minfer_orient\u001b[0m\u001b[0;34m(\u001b[0m\u001b[0mx\u001b[0m\u001b[0;34m,\u001b[0m \u001b[0my\u001b[0m\u001b[0;34m,\u001b[0m \u001b[0morient\u001b[0m\u001b[0;34m)\u001b[0m\u001b[0;34m\u001b[0m\u001b[0m\n\u001b[0m\u001b[1;32m    155\u001b[0m \u001b[0;34m\u001b[0m\u001b[0m\n\u001b[1;32m    156\u001b[0m             \u001b[0;31m# Option 2a:\u001b[0m\u001b[0;34m\u001b[0m\u001b[0;34m\u001b[0m\u001b[0m\n",
      "\u001b[0;32m//anaconda/envs/py36/lib/python3.6/site-packages/seaborn/categorical.py\u001b[0m in \u001b[0;36minfer_orient\u001b[0;34m(self, x, y, orient)\u001b[0m\n\u001b[1;32m    342\u001b[0m         \u001b[0;32melif\u001b[0m \u001b[0mis_categorical\u001b[0m\u001b[0;34m(\u001b[0m\u001b[0my\u001b[0m\u001b[0;34m)\u001b[0m\u001b[0;34m:\u001b[0m\u001b[0;34m\u001b[0m\u001b[0m\n\u001b[1;32m    343\u001b[0m             \u001b[0;32mif\u001b[0m \u001b[0mis_categorical\u001b[0m\u001b[0;34m(\u001b[0m\u001b[0mx\u001b[0m\u001b[0;34m)\u001b[0m\u001b[0;34m:\u001b[0m\u001b[0;34m\u001b[0m\u001b[0m\n\u001b[0;32m--> 344\u001b[0;31m                 \u001b[0;32mraise\u001b[0m \u001b[0mValueError\u001b[0m\u001b[0;34m(\u001b[0m\u001b[0mno_numeric\u001b[0m\u001b[0;34m)\u001b[0m\u001b[0;34m\u001b[0m\u001b[0m\n\u001b[0m\u001b[1;32m    345\u001b[0m             \u001b[0;32melse\u001b[0m\u001b[0;34m:\u001b[0m\u001b[0;34m\u001b[0m\u001b[0m\n\u001b[1;32m    346\u001b[0m                 \u001b[0;32mreturn\u001b[0m \u001b[0;34m\"h\"\u001b[0m\u001b[0;34m\u001b[0m\u001b[0m\n",
      "\u001b[0;31mValueError\u001b[0m: Neither the `x` nor `y` variable appears to be numeric."
     ]
    }
   ],
   "source": [
    "df_2013_short_sleep\n",
    "sns.boxplot(x=\"bmi\", y=\"sleepH\", hue=\"sex\", data=df_2013_short_sleep);"
   ]
  },
  {
   "cell_type": "code",
   "execution_count": null,
   "metadata": {
    "collapsed": true
   },
   "outputs": [],
   "source": []
  },
  {
   "cell_type": "code",
   "execution_count": null,
   "metadata": {
    "collapsed": true
   },
   "outputs": [],
   "source": []
  },
  {
   "cell_type": "code",
   "execution_count": 121,
   "metadata": {
    "scrolled": true
   },
   "outputs": [],
   "source": [
    "\n",
    "#df_2016_dummy = pd.get_dummies(df_2016)\n"
   ]
  },
  {
   "cell_type": "code",
   "execution_count": null,
   "metadata": {},
   "outputs": [],
   "source": [
    "scatter_matrix = sns.PairGrid(df_2016_dummy, vars=['bmi', 'smoker', 'sleeph', 'physical_activity'])\n",
    "scatter_matrix.map_diag(sns.kdeplot)\n",
    "gscatter_matrix.map_offdiag(plt.scatter, s=15)"
   ]
  },
  {
   "cell_type": "code",
   "execution_count": null,
   "metadata": {
    "collapsed": true
   },
   "outputs": [],
   "source": []
  },
  {
   "cell_type": "code",
   "execution_count": null,
   "metadata": {
    "collapsed": true
   },
   "outputs": [],
   "source": []
  },
  {
   "cell_type": "markdown",
   "metadata": {},
   "source": [
    "## BMI Body Mass level and Short Sleep\n",
    "Let's check the BMI inside the group with spleep disorders"
   ]
  },
  {
   "cell_type": "code",
   "execution_count": 85,
   "metadata": {},
   "outputs": [
    {
     "ename": "NameError",
     "evalue": "name 'df' is not defined",
     "output_type": "error",
     "traceback": [
      "\u001b[0;31m---------------------------------------------------------------------------\u001b[0m",
      "\u001b[0;31mNameError\u001b[0m                                 Traceback (most recent call last)",
      "\u001b[0;32m<ipython-input-85-6600f08e6b36>\u001b[0m in \u001b[0;36m<module>\u001b[0;34m()\u001b[0m\n\u001b[0;32m----> 1\u001b[0;31m \u001b[0mdf\u001b[0m\u001b[0;34m[\u001b[0m\u001b[0;34m'bmi'\u001b[0m\u001b[0;34m]\u001b[0m\u001b[0;34m.\u001b[0m\u001b[0mvalue_counts\u001b[0m\u001b[0;34m(\u001b[0m\u001b[0;34m)\u001b[0m\u001b[0;34m[\u001b[0m\u001b[0;34m:\u001b[0m\u001b[0;36m20\u001b[0m\u001b[0;34m]\u001b[0m\u001b[0;34m.\u001b[0m\u001b[0mplot\u001b[0m\u001b[0;34m(\u001b[0m\u001b[0mkind\u001b[0m\u001b[0;34m=\u001b[0m\u001b[0;34m'barh'\u001b[0m\u001b[0;34m)\u001b[0m\u001b[0;34m\u001b[0m\u001b[0m\n\u001b[0m",
      "\u001b[0;31mNameError\u001b[0m: name 'df' is not defined"
     ]
    }
   ],
   "source": [
    "df['bmi'].value_counts()[:20].plot(kind='barh')   "
   ]
  },
  {
   "cell_type": "code",
   "execution_count": null,
   "metadata": {
    "collapsed": true
   },
   "outputs": [],
   "source": [
    "sleep_by_state = final.groupby(['state','sleep']).size().unstack()\n",
    "#plt.figure(figsize=(4, 6))\n",
    "ax = plt.gca()\n",
    "sleep_by_state.plot(kind=\"bar\", stacked=True )\n",
    "plt.grid(axis = 'x', color ='white', linestyle='-')\n",
    "ax.tick_params(axis='both', which='both',length=0)\n",
    "sns.despine()"
   ]
  },
  {
   "cell_type": "code",
   "execution_count": null,
   "metadata": {
    "collapsed": true
   },
   "outputs": [],
   "source": [
    "sns.set_color_codes(\"pastel\")\n",
    "sns.barplot(x=\"sleep\", y=\"state\", data=sleep_by_state,\n",
    "            label=\"Total\", color=\"b\")\n",
    "\n"
   ]
  },
  {
   "cell_type": "code",
   "execution_count": null,
   "metadata": {
    "collapsed": true
   },
   "outputs": [],
   "source": [
    "state_sleep = final.groupby(['state', 'sleep']).agg({'sleep': 'count'})\n",
    "state_pcts = state_sleep.groupby(level=0).apply(lambda x: 100 * x / float(x.sum()))\n",
    "x= state_pcts[\"state\"=='AL']\n",
    "x.plot(kind='barh')\n",
    "#pct_change(periods=4)\n",
    "#state_pcts['sleep'== 'False']"
   ]
  },
  {
   "cell_type": "code",
   "execution_count": null,
   "metadata": {
    "collapsed": true
   },
   "outputs": [],
   "source": [
    "count_mpg = final.groupby(['sex']).sex.count()\n",
    "\n",
    "with sns.plotting_context(\"poster\"):\n",
    "    ax = plt.gca()\n",
    "    count_mpg.plot(kind=\"barh\")\n",
    "    plt.grid(axis = 'x', color ='white', linestyle='-')\n",
    "    ax.tick_params(axis='both', which='both',length=0)\n",
    "    sns.despine(left=True, bottom=True)"
   ]
  },
  {
   "cell_type": "code",
   "execution_count": null,
   "metadata": {
    "collapsed": true
   },
   "outputs": [],
   "source": [
    "#df_final.groupby('state').agg({'sleep': [np.size, np.mean]})"
   ]
  },
  {
   "cell_type": "code",
   "execution_count": null,
   "metadata": {
    "collapsed": true
   },
   "outputs": [],
   "source": [
    "#I want to calculate the percentage of sales per office in a given state (total of all percentages in each state is 100%).\n",
    "state_office = df.groupby(['state', 'office_id']).agg({'sales': 'sum'})\n",
    "# Change: groupby state_office and divide by sum\n",
    "state_pcts = state_office.groupby(level=0).apply(lambda x: 100 * x / float(x.sum()))\n",
    "state_pcts"
   ]
  },
  {
   "cell_type": "code",
   "execution_count": null,
   "metadata": {
    "collapsed": true
   },
   "outputs": [],
   "source": [
    "state_sleep = df_out.groupby('sleep').state.count()"
   ]
  },
  {
   "cell_type": "code",
   "execution_count": null,
   "metadata": {
    "collapsed": true
   },
   "outputs": [],
   "source": [
    "#PIE CHART\n",
    "plt.figure(figsize=(2,2), dpi=150)\n",
    "plt.pie(final_y.pct, autopct='%1.1f%%', startangle=270)\n"
   ]
  }
 ],
 "metadata": {
  "kernelspec": {
   "display_name": "Python [conda env:py36]",
   "language": "python",
   "name": "conda-env-py36-py"
  },
  "language_info": {
   "codemirror_mode": {
    "name": "ipython",
    "version": 3
   },
   "file_extension": ".py",
   "mimetype": "text/x-python",
   "name": "python",
   "nbconvert_exporter": "python",
   "pygments_lexer": "ipython3",
   "version": "3.6.1"
  }
 },
 "nbformat": 4,
 "nbformat_minor": 2
}
