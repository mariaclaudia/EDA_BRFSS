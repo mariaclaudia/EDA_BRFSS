{
 "cells": [
  {
   "cell_type": "markdown",
   "metadata": {},
   "source": [
    "# Insufficient Sleep \n",
    "\n",
    "\n",
    "# Exploratory data analysis and visualization\n",
    "\n",
    "## Behavioral Risk Factor Surveillance System (BRFSS)  \n",
    "\n",
    "\n",
    "\n"
   ]
  },
  {
   "cell_type": "markdown",
   "metadata": {},
   "source": [
    "Let's start importing some usefull libraries and settings:\n"
   ]
  },
  {
   "cell_type": "code",
   "execution_count": 198,
   "metadata": {
    "collapsed": true
   },
   "outputs": [],
   "source": [
    "%matplotlib inline \n",
    "import csv\n",
    "import numpy as np \n",
    "import scipy as sp \n",
    "import pandas as pd \n",
    "import matplotlib as mpl \n",
    "import matplotlib.cm as cm \n",
    "import matplotlib.pyplot as plt \n",
    "import matplotlib.style as style\n",
    "import seaborn as sns \n",
    "\n",
    "#sets up pandas table display\n",
    "pd.set_option('display.width', 500)\n",
    "pd.set_option('display.max_columns', 200)\n",
    "pd.set_option('display.notebook_repr_html', True)\n",
    "\n",
    "mpl.rcParams['figure.figsize'] = (6.0, 10.0)\n",
    "\n",
    "sns.set_context(\"notebook\")\n",
    "sns.set()\n",
    "sns.set_style(\"darkgrid\")\n",
    "sns.set_palette(sns.color_palette(\"Set2\", 10))\n",
    "\n",
    "style.use('fivethirtyeight')"
   ]
  },
  {
   "cell_type": "markdown",
   "metadata": {},
   "source": [
    "# Loading data\n",
    "\n",
    "The data load performs basically two data selection operations:\n",
    "\n",
    "- **\"df_YYYY\"** dataframe: first, it loads the  datasets, one per year, prepared in the previous [notebook](1_BRFSS_DataPreparation.ipynb).\n",
    "\n",
    "They contains the same number of record of the original BRFSS survey (without records with \"SLEPTIM1\" >) 25) and just the columns I need for my analysis.\n",
    "\n",
    "- **\"final\"** dataframe: the concatenation of the \"df_YYYY\" dataframes\n",
    "\n",
    "- **\"df_YYY_short_sleep\"** dataframe: a filtered dataframe just with records from \"Short sleep\" people (with the \"sleepH\" field <7)\n",
    "\n",
    "- **final_short_sleep**: the concatenation of the \"df_YYY_short_sleep\" dataframes\n",
    "\n",
    "Importan note: The series **\"SLEEP\"** is a Boolean. \n",
    "\n",
    " - True: if SLEPTIM1 (How Much Time Do You Sleep?) >= 7 hours (sufficient sleep)\n",
    "\n",
    " - False: if SLEPTIM1 (How Much Time Do You Sleep?) < 7 hours (short sleep staus, insufficient sleep)\n",
    "\n",
    "\n"
   ]
  },
  {
   "cell_type": "code",
   "execution_count": 199,
   "metadata": {},
   "outputs": [],
   "source": [
    "#datasets available\n",
    "years = [\"2013\",\"2014\",\"2016\"] \n",
    "#labels for States dimension\n",
    "reader = csv.reader(open('./data/states.csv', 'r'))\n",
    "d_states = {}\n",
    "for row in reader:\n",
    "        k, v = row\n",
    "        d_states[v] = k\n",
    "\n",
    "#labels for Sleep sub dimensions\n",
    "labels_sleep_legend = [\"Short sleep\",\"Sufficient Sleep\"]"
   ]
  },
  {
   "cell_type": "code",
   "execution_count": 200,
   "metadata": {},
   "outputs": [
    {
     "name": "stdout",
     "output_type": "stream",
     "text": [
      "# 2016 Number of rows: 480577\n"
     ]
    }
   ],
   "source": [
    "# replace with a for loop \n",
    "df_2016 = pd.read_csv('./data/brfss2016clean.csv',sep='\\t', header=0,  dtype='category')\n",
    "df_2016['y'] = '2016'\n",
    "df_2016.head()\n",
    "print(\"# 2016 Number of rows:\", len(df_2016))"
   ]
  },
  {
   "cell_type": "code",
   "execution_count": 201,
   "metadata": {},
   "outputs": [
    {
     "name": "stdout",
     "output_type": "stream",
     "text": [
      "# 2014 Number of rows: 458172\n"
     ]
    }
   ],
   "source": [
    "df_2014 = pd.read_csv('./data/brfss2014clean.csv',sep='\\t', header=0,  dtype='category')\n",
    "df_2014['y'] = '2014'\n",
    "df_2014.head()\n",
    "len (df_2014)\n",
    "print(\"# 2014 Number of rows:\", len(df_2014))"
   ]
  },
  {
   "cell_type": "code",
   "execution_count": 202,
   "metadata": {},
   "outputs": [
    {
     "name": "stdout",
     "output_type": "stream",
     "text": [
      "# 2013 Number of rows: 484401\n"
     ]
    }
   ],
   "source": [
    "df_2013 = pd.read_csv('./data/brfss2013clean.csv',sep='\\t', header=0,  dtype='category')\n",
    "df_2013['y'] = '2013'\n",
    "df_2013.head()\n",
    "len (df_2013)\n",
    "print(\"# 2013 Number of rows:\", len(df_2013))"
   ]
  },
  {
   "cell_type": "markdown",
   "metadata": {},
   "source": [
    "## Full dataset: \"final\" dataframe\n",
    "\n",
    "Let's concat all dataframes in a single one to facilitate further analysis."
   ]
  },
  {
   "cell_type": "code",
   "execution_count": 203,
   "metadata": {},
   "outputs": [
    {
     "name": "stdout",
     "output_type": "stream",
     "text": [
      "# Final - Number of rows: 1423150\n"
     ]
    }
   ],
   "source": [
    "allDf = [df_2013,df_2014,df_2016]\n",
    "final = pd.concat(allDf)\n",
    "print(\"# Final - Number of rows:\", len(final))"
   ]
  },
  {
   "cell_type": "code",
   "execution_count": 204,
   "metadata": {},
   "outputs": [
    {
     "data": {
      "text/plain": [
       "y\n",
       "2013    484401\n",
       "2014    458172\n",
       "2016    480577\n",
       "dtype: int64"
      ]
     },
     "execution_count": 204,
     "metadata": {},
     "output_type": "execute_result"
    }
   ],
   "source": [
    "#Check data\n",
    "final.groupby('y').size()"
   ]
  },
  {
   "cell_type": "markdown",
   "metadata": {},
   "source": [
    "## Dataset filtered on \"short sleep\" entries: \n",
    "\n",
    "It is important to note that while the broad population 2016 is approximately 480.000 samples, the \"Short sleep\" segment from BRFSS yields 153.523 samples. Please see below the table for every years."
   ]
  },
  {
   "cell_type": "markdown",
   "metadata": {},
   "source": [
    "#### Final full years short_sleep:"
   ]
  },
  {
   "cell_type": "code",
   "execution_count": 205,
   "metadata": {
    "collapsed": true
   },
   "outputs": [],
   "source": [
    "final_short_sleep= final[final['sleep'] == 'False'] #filter to only rows where sleep == True"
   ]
  },
  {
   "cell_type": "markdown",
   "metadata": {},
   "source": [
    "#### 2016 short sleep dataset:"
   ]
  },
  {
   "cell_type": "code",
   "execution_count": 206,
   "metadata": {
    "collapsed": true
   },
   "outputs": [],
   "source": [
    "df_2016_short_sleep= df_2016[df_2016['sleep'] == 'False'] #filter to only rows where sleep == True"
   ]
  },
  {
   "cell_type": "markdown",
   "metadata": {},
   "source": [
    "#### 2014 short sleep dataset:"
   ]
  },
  {
   "cell_type": "code",
   "execution_count": 207,
   "metadata": {
    "collapsed": true
   },
   "outputs": [],
   "source": [
    "df_2014_short_sleep= df_2014[df_2014['sleep'] == 'False'] #filter to only rows where sleep == True"
   ]
  },
  {
   "cell_type": "markdown",
   "metadata": {},
   "source": [
    "#### 2013 short sleep dataset:"
   ]
  },
  {
   "cell_type": "code",
   "execution_count": 208,
   "metadata": {},
   "outputs": [],
   "source": [
    "df_2013_short_sleep= df_2013[df_2013['sleep'] == 'False'] #filter to only rows where sleep == True"
   ]
  },
  {
   "cell_type": "markdown",
   "metadata": {},
   "source": [
    "# Exploring  dataset - Demographics metrics\n",
    "\n",
    "Looking to the following chart (based on the 2016 BRFSS Dataset) we can find some insights about people with Short sleep or Sufficient Sleep. \n",
    "\n",
    "We are dealing with Categorical data, because of that a common technique used to analyze categorical data is to use Frequency tables"
   ]
  },
  {
   "cell_type": "markdown",
   "metadata": {},
   "source": [
    "## Gender : "
   ]
  },
  {
   "cell_type": "code",
   "execution_count": 209,
   "metadata": {},
   "outputs": [
    {
     "data": {
      "text/plain": [
       "<matplotlib.legend.Legend at 0x13a415550>"
      ]
     },
     "execution_count": 209,
     "metadata": {},
     "output_type": "execute_result"
    },
    {
     "data": {
      "image/png": "[encoded data removed]",
      "text/plain": [
       "<matplotlib.figure.Figure at 0x134c1be80>"
      ]
     },
     "metadata": {},
     "output_type": "display_data"
    }
   ],
   "source": [
    "ax = sns.countplot(x=\"sex\", hue=\"sleep\", data=df_2016)\n",
    "ax.set_title(\"Gender dimension\")\n",
    "ax.set_ylabel(\"Frequency\")\n",
    "ax.legend(labels=labels_sleep_legend)"
   ]
  },
  {
   "cell_type": "markdown",
   "metadata": {},
   "source": [
    "## Age:"
   ]
  },
  {
   "cell_type": "code",
   "execution_count": 210,
   "metadata": {},
   "outputs": [
    {
     "data": {
      "text/plain": [
       "<matplotlib.legend.Legend at 0x11e673ba8>"
      ]
     },
     "execution_count": 210,
     "metadata": {},
     "output_type": "execute_result"
    },
    {
     "data": {
      "image/png": "[encoded data removed]",
      "text/plain": [
       "<matplotlib.figure.Figure at 0x11e6d15c0>"
      ]
     },
     "metadata": {},
     "output_type": "display_data"
    }
   ],
   "source": [
    "ax = sns.countplot(x=\"age\", hue=\"sleep\", data=df_2016)\n",
    "ax.set_title(\"Six-level imputed age dimension\")\n",
    "ax.set_ylabel(\"Frequency\")\n",
    "ax.legend(labels=labels_sleep_legend)"
   ]
  },
  {
   "cell_type": "markdown",
   "metadata": {},
   "source": [
    "## Race:"
   ]
  },
  {
   "cell_type": "code",
   "execution_count": 211,
   "metadata": {},
   "outputs": [
    {
     "data": {
      "text/plain": [
       "<matplotlib.legend.Legend at 0x119b0eb38>"
      ]
     },
     "execution_count": 211,
     "metadata": {},
     "output_type": "execute_result"
    },
    {
     "data": {
      "image/png": "[encoded data removed]",
      "text/plain": [
       "<matplotlib.figure.Figure at 0x136882438>"
      ]
     },
     "metadata": {},
     "output_type": "display_data"
    }
   ],
   "source": [
    "ax = sns.countplot(x=\"race\", hue=\"sleep\", data=df_2016)\n",
    "ax.set_title(\"Five-level race/ethnicity dimension\")\n",
    "ax.set_ylabel(\"Frequency\")\n",
    "ax.set_xlabel(\"race/ethnicity\")\n",
    "ax.legend(labels=labels_sleep_legend)"
   ]
  },
  {
   "cell_type": "markdown",
   "metadata": {},
   "source": [
    "## Education:"
   ]
  },
  {
   "cell_type": "code",
   "execution_count": 212,
   "metadata": {},
   "outputs": [
    {
     "data": {
      "text/plain": [
       "<matplotlib.legend.Legend at 0x119a98cc0>"
      ]
     },
     "execution_count": 212,
     "metadata": {},
     "output_type": "execute_result"
    },
    {
     "data": {
      "image/png": "[encoded data removed]",
      "text/plain": [
       "<matplotlib.figure.Figure at 0x1212326d8>"
      ]
     },
     "metadata": {},
     "output_type": "display_data"
    }
   ],
   "source": [
    "ax = sns.countplot(x=\"education\", hue=\"sleep\", data=df_2016)\n",
    "ax.set_title(\"Level of education completed\")\n",
    "ax.set_ylabel(\"Frequency\")\n",
    "ax.set_xlabel(\"Education level\")\n",
    "ax.legend(labels=labels_sleep_legend)"
   ]
  },
  {
   "cell_type": "markdown",
   "metadata": {},
   "source": [
    "## Income: "
   ]
  },
  {
   "cell_type": "code",
   "execution_count": 213,
   "metadata": {},
   "outputs": [
    {
     "data": {
      "text/plain": [
       "<matplotlib.legend.Legend at 0x11f214668>"
      ]
     },
     "execution_count": 213,
     "metadata": {},
     "output_type": "execute_result"
    },
    {
     "data": {
      "image/png": "[encoded data removed]",
      "text/plain": [
       "<matplotlib.figure.Figure at 0x11f219b70>"
      ]
     },
     "metadata": {},
     "output_type": "display_data"
    }
   ],
   "source": [
    "ax = sns.countplot(x=\"income\", hue=\"sleep\", data=df_2016)\n",
    "ax.set_title(\"Income dimension\")\n",
    "ax.set_ylabel(\"Frequency\")\n",
    "ax.legend(labels=labels_sleep_legend)"
   ]
  },
  {
   "cell_type": "markdown",
   "metadata": {},
   "source": [
    "# Exploring  dataset - Health metrics"
   ]
  },
  {
   "cell_type": "markdown",
   "metadata": {},
   "source": [
    "## Health"
   ]
  },
  {
   "cell_type": "code",
   "execution_count": 214,
   "metadata": {},
   "outputs": [
    {
     "data": {
      "text/plain": [
       "<matplotlib.legend.Legend at 0x11d2f2630>"
      ]
     },
     "execution_count": 214,
     "metadata": {},
     "output_type": "execute_result"
    },
    {
     "data": {
      "image/png": "[encoded data removed]",
      "text/plain": [
       "<matplotlib.figure.Figure at 0x12abc48d0>"
      ]
     },
     "metadata": {},
     "output_type": "display_data"
    }
   ],
   "source": [
    "ax = sns.countplot(x=\"health\", hue=\"sleep\", data=df_2016)\n",
    "ax.set_title(\"Adults with good or better health\")\n",
    "ax.set_ylabel(\"Frequency\")\n",
    "ax.set_xlabel(\"Health status\")\n",
    "ax.legend(labels=labels_sleep_legend)"
   ]
  },
  {
   "cell_type": "markdown",
   "metadata": {},
   "source": [
    "## BMI - Body Mass Index"
   ]
  },
  {
   "cell_type": "code",
   "execution_count": 215,
   "metadata": {},
   "outputs": [
    {
     "data": {
      "text/plain": [
       "<matplotlib.legend.Legend at 0x124e66e48>"
      ]
     },
     "execution_count": 215,
     "metadata": {},
     "output_type": "execute_result"
    },
    {
     "data": {
      "image/png": "[encoded data removed]",
      "text/plain": [
       "<matplotlib.figure.Figure at 0x124ebaf60>"
      ]
     },
     "metadata": {},
     "output_type": "display_data"
    }
   ],
   "source": [
    "ax = sns.countplot(x=\"bmi\", hue=\"sleep\", data=df_2016)\n",
    "ax.set_ylabel(\"Frequency\")\n",
    "ax.set_title(\"Four-categories of Body Mass Index (BMI)\")\n",
    "ax.set_xlabel(\"BMI\")\n",
    "ax.legend(labels=labels_sleep_legend)"
   ]
  },
  {
   "cell_type": "markdown",
   "metadata": {},
   "source": [
    "## Adult Smokers"
   ]
  },
  {
   "cell_type": "code",
   "execution_count": 216,
   "metadata": {},
   "outputs": [
    {
     "data": {
      "text/plain": [
       "<matplotlib.legend.Legend at 0x11f2d48d0>"
      ]
     },
     "execution_count": 216,
     "metadata": {},
     "output_type": "execute_result"
    },
    {
     "data": {
      "image/png": "[encoded data removed]",
      "text/plain": [
       "<matplotlib.figure.Figure at 0x132129dd8>"
      ]
     },
     "metadata": {},
     "output_type": "display_data"
    }
   ],
   "source": [
    "ax = sns.countplot(x=\"smoker\", hue=\"sleep\", data=df_2016)\n",
    "ax.set_ylabel(\"Frequency\")\n",
    "ax.set_xlabel(\"Smoker Yes/NO\")\n",
    "ax.set_title(\"Adults who are current smokers\")\n",
    "ax.legend(labels=labels_sleep_legend)"
   ]
  },
  {
   "cell_type": "markdown",
   "metadata": {},
   "source": [
    "## Physical activity\n",
    "\n",
    "Adults who reported doing physical activity or exercise during the past 30 days other than their regular job (yes, no)"
   ]
  },
  {
   "cell_type": "code",
   "execution_count": 217,
   "metadata": {},
   "outputs": [
    {
     "data": {
      "text/plain": [
       "<matplotlib.legend.Legend at 0x124dea128>"
      ]
     },
     "execution_count": 217,
     "metadata": {},
     "output_type": "execute_result"
    },
    {
     "data": {
      "image/png": "[encoded data removed]",
      "text/plain": [
       "<matplotlib.figure.Figure at 0x11e670978>"
      ]
     },
     "metadata": {},
     "output_type": "display_data"
    }
   ],
   "source": [
    "ax = sns.countplot(x=\"physical_activity\", hue=\"sleep\", data=df_2016)\n",
    "ax.set_ylabel(\"Frequency\")\n",
    "ax.set_xlabel(\"physical activity\")\n",
    "ax.set_title(\"Adults physical activity or exercise during the past 30 days\")\n",
    "ax.legend(labels=labels_sleep_legend)"
   ]
  },
  {
   "cell_type": "markdown",
   "metadata": {},
   "source": [
    "# Short Sleep Duration Among US Adults\n",
    "## Sleep Hours per night "
   ]
  },
  {
   "cell_type": "markdown",
   "metadata": {},
   "source": [
    "### On average, how many hours of sleep do you get in a 24-hour period?\n",
    "\n",
    "For the general population, we have the following reported sleep distributions:\n",
    "\n",
    "- The distributions are calculated using the 2016/2014/2013 dataset (480.577/458.172/484.401 people).\n",
    "\n",
    "- The majority of males and females both sleep between 7 and 8 hours per day.\n",
    "\n",
    "- The mean is the same for every year: 7.05 hours\n",
    "\n",
    "- The STD is 1.49 for 2016, 1.46 for 2014, 1.47 for 2013.\n",
    "\n"
   ]
  },
  {
   "cell_type": "code",
   "execution_count": 218,
   "metadata": {},
   "outputs": [
    {
     "name": "stdout",
     "output_type": "stream",
     "text": [
      "MEAN:  7.05\n",
      "STD:  1.49\n"
     ]
    },
    {
     "data": {
      "text/plain": [
       "<matplotlib.text.Text at 0x132bd6f98>"
      ]
     },
     "execution_count": 218,
     "metadata": {},
     "output_type": "execute_result"
    },
    {
     "data": {
      "image/png": "[encoded data removed]",
      "text/plain": [
       "<matplotlib.figure.Figure at 0x11d2ff198>"
      ]
     },
     "metadata": {},
     "output_type": "display_data"
    }
   ],
   "source": [
    "df_2016['sleepH']= df_2016['sleepH'].astype(float)\n",
    "mean = round(df_2016['sleepH'].mean(),2)\n",
    "std = round(df_2016['sleepH'].std(),2)\n",
    "print (\"MEAN: \", mean)\n",
    "print (\"STD: \", std)\n",
    "\n",
    "sleep_hour_distro = sns.countplot(x=\"sleepH\", data=df_2016)\n",
    "sleep_hour_distro.set_xlabel(\"Hours per night\")\n",
    "sleep_hour_distro.set_ylabel(\"People \")\n",
    "\n",
    "sleep_hour_distro.set_title(\"Hours per night 2016\")"
   ]
  },
  {
   "cell_type": "code",
   "execution_count": 219,
   "metadata": {},
   "outputs": [
    {
     "name": "stdout",
     "output_type": "stream",
     "text": [
      "MEAN:  7.07\n",
      "STD:  1.43\n"
     ]
    },
    {
     "data": {
      "text/plain": [
       "<matplotlib.text.Text at 0x11e8e3978>"
      ]
     },
     "execution_count": 219,
     "metadata": {},
     "output_type": "execute_result"
    },
    {
     "data": {
      "image/png": "[encoded data removed]",
      "text/plain": [
       "<matplotlib.figure.Figure at 0x131f4c048>"
      ]
     },
     "metadata": {},
     "output_type": "display_data"
    }
   ],
   "source": [
    "df_2014['sleepH']= df_2014['sleepH'].astype(float)\n",
    "mean = round(df_2014['sleepH'].mean(),2)\n",
    "std = round(df_2014['sleepH'].std(),2)\n",
    "print (\"MEAN: \", mean)\n",
    "print (\"STD: \", std)\n",
    "\n",
    "sleep_hour_distro = sns.countplot(x=\"sleepH\", data=df_2014)\n",
    "sleep_hour_distro.set_xlabel(\"Hours per night\")\n",
    "sleep_hour_distro.set_ylabel(\"Frequency\")\n",
    "sleep_hour_distro.set_title(\"Hours per night 2014\")"
   ]
  },
  {
   "cell_type": "code",
   "execution_count": 220,
   "metadata": {},
   "outputs": [
    {
     "name": "stdout",
     "output_type": "stream",
     "text": [
      "MEAN:  7.05\n",
      "STD:  1.47\n"
     ]
    },
    {
     "data": {
      "text/plain": [
       "<matplotlib.text.Text at 0x12122c978>"
      ]
     },
     "execution_count": 220,
     "metadata": {},
     "output_type": "execute_result"
    },
    {
     "data": {
      "image/png": "[encoded data removed]",
      "text/plain": [
       "<matplotlib.figure.Figure at 0x11e96a160>"
      ]
     },
     "metadata": {},
     "output_type": "display_data"
    }
   ],
   "source": [
    "df_2013['sleepH']= df_2013['sleepH'].astype(float)\n",
    "mean = round(df_2013['sleepH'].mean(),2)\n",
    "std = round(df_2013['sleepH'].std(),2)\n",
    "print (\"MEAN: \", mean)\n",
    "print (\"STD: \", std)\n",
    "\n",
    "sleep_hour_distro = sns.countplot(x=\"sleepH\", data=df_2013)\n",
    "sleep_hour_distro.set_xlabel(\"Hours per night\")\n",
    "sleep_hour_distro.set_ylabel(\"Frequency \")\n",
    "sleep_hour_distro.set_title(\"Hours per night 2013\")"
   ]
  },
  {
   "cell_type": "markdown",
   "metadata": {},
   "source": [
    "# Short sleep by year"
   ]
  },
  {
   "cell_type": "code",
   "execution_count": 221,
   "metadata": {
    "collapsed": true
   },
   "outputs": [],
   "source": [
    "final['sleep'] = final['sleep'].astype('object')\n",
    "final['y'] = final['y'].astype('object')\n",
    "final['sex'] = final['sex'].astype('object')"
   ]
  },
  {
   "cell_type": "code",
   "execution_count": 222,
   "metadata": {
    "collapsed": true
   },
   "outputs": [],
   "source": [
    "final_y= final.groupby(['y','sleep']).size().unstack().reset_index()\n",
    "final_y['Tot'] =  final_y['False'] + final_y['True']\n",
    "final_y['% short sleep'] =  final_y['False'] / final_y['Tot']\n",
    "final_y = final_y[['y','% short sleep']]"
   ]
  },
  {
   "cell_type": "code",
   "execution_count": 223,
   "metadata": {},
   "outputs": [
    {
     "data": {
      "text/html": [
       "<div>\n",
       "<style>\n",
       "    .dataframe thead tr:only-child th {\n",
       "        text-align: right;\n",
       "    }\n",
       "\n",
       "    .dataframe thead th {\n",
       "        text-align: left;\n",
       "    }\n",
       "\n",
       "    .dataframe tbody tr th {\n",
       "        vertical-align: top;\n",
       "    }\n",
       "</style>\n",
       "<table border=\"1\" class=\"dataframe\">\n",
       "  <thead>\n",
       "    <tr style=\"text-align: right;\">\n",
       "      <th>sleep</th>\n",
       "      <th>% short sleep</th>\n",
       "    </tr>\n",
       "    <tr>\n",
       "      <th>y</th>\n",
       "      <th></th>\n",
       "    </tr>\n",
       "  </thead>\n",
       "  <tbody>\n",
       "    <tr>\n",
       "      <th>2013</th>\n",
       "      <td>0.327489</td>\n",
       "    </tr>\n",
       "    <tr>\n",
       "      <th>2014</th>\n",
       "      <td>0.315150</td>\n",
       "    </tr>\n",
       "    <tr>\n",
       "      <th>2016</th>\n",
       "      <td>0.319456</td>\n",
       "    </tr>\n",
       "  </tbody>\n",
       "</table>\n",
       "</div>"
      ],
      "text/plain": [
       "sleep  % short sleep\n",
       "y                   \n",
       "2013        0.327489\n",
       "2014        0.315150\n",
       "2016        0.319456"
      ]
     },
     "execution_count": 223,
     "metadata": {},
     "output_type": "execute_result"
    }
   ],
   "source": [
    "final_y.set_index('y')"
   ]
  },
  {
   "cell_type": "code",
   "execution_count": 224,
   "metadata": {},
   "outputs": [
    {
     "data": {
      "text/plain": [
       "y     sleep\n",
       "2013  False    158636\n",
       "      True     325765\n",
       "2014  False    144393\n",
       "      True     313779\n",
       "2016  False    153523\n",
       "      True     327054\n",
       "dtype: int64"
      ]
     },
     "execution_count": 224,
     "metadata": {},
     "output_type": "execute_result"
    }
   ],
   "source": [
    "final.groupby(['y','sleep']).size()"
   ]
  },
  {
   "cell_type": "code",
   "execution_count": 225,
   "metadata": {},
   "outputs": [
    {
     "data": {
      "image/png": "[encoded data removed]",
      "text/plain": [
       "<matplotlib.figure.Figure at 0x11c77c898>"
      ]
     },
     "metadata": {},
     "output_type": "display_data"
    }
   ],
   "source": [
    "bar_plot = sns.barplot(x=final_y[\"y\"],y=final_y[\"% short sleep\"])\n",
    "bar_plot.set_xlabel(\"Years\")\n",
    "bar_plot.set_ylabel(\"People with short sleep (<7 hours per day)\")\n",
    "bar_plot.set_title(\"US people with short sleep (<7 hours per day)\")\n",
    "bar_plot.set_yticklabels(labels = ['0   ', '25   ', '50   ', '75   ','100%'])\n",
    "bar_plot.axhline(y = 0, color = 'black', linewidth = 1.3, alpha = .7)\n",
    "\n",
    "#Insert % labels on top\n",
    "barwidth = [0.8, 0.8, 0.8, 0.8]\n",
    "bar_plot.set_ylim(0, 1)\n",
    "\n",
    "label_ = final_y['% short sleep']\n",
    "for bar,newwidth, label in zip(bar_plot.patches,barwidth, label_):\n",
    "    x = bar.get_x()\n",
    "    width = bar.get_width()\n",
    "    height = bar.get_height()\n",
    "    centre = x + width/2.\n",
    "    bar.set_x(centre-newwidth/2.)\n",
    "    bar.set_width(newwidth)\n",
    "    bar_plot.text(x+width/2., height - 0.05,  '{0:4.2f}'.format(label*100)+\"%\", ha=\"center\") \n",
    "   "
   ]
  },
  {
   "cell_type": "markdown",
   "metadata": {},
   "source": [
    "### A third of US adults report that they usually sleep less than the recommended amount of sleep. \n",
    "\n",
    "\n",
    "In **2013**, 32.75% of US States adults reported usually sleeping <7 hours in a 24- hour period.\n",
    "\n",
    "In **2014**, 31.52% of US States adults reported usually sleeping <7 hours in a 24- hour period.\n",
    "\n",
    "In **2016**, 31.95% of US States adults reported usually sleeping <7 hours in a 24- hour period.\n",
    "\n"
   ]
  },
  {
   "cell_type": "markdown",
   "metadata": {},
   "source": [
    "#  Short Sleep Among US States"
   ]
  },
  {
   "cell_type": "markdown",
   "metadata": {},
   "source": [
    "## Which is the country with the highest percentage of \"short sleep\" people?\n",
    "\n",
    "\n",
    "**NOTE**: \n",
    "\n",
    "Aggregating BRFSS state samples for national estimates without accounting for state-level sampling, it's practice that can introduce bias because the weighted distributions of the state samples do not always adhere to national demographic distributions.  \n",
    "(see below for states like Guam, U.S. Virgin Islands, Hawaii)\n",
    "\n",
    "Reference: \n",
    "- [National weighting of data from the Behavioral Risk Factor Surveillance System (BRFSS)](https://www.ncbi.nlm.nih.gov/pmc/articles/PMC5109644/)\n",
    "- [Comparability of Data BRFSS 2016](https://www.cdc.gov/brfss/annual_data/2016/pdf/compare_2016.pdf) \n",
    "- [Comparability of Data BRFSS 2014](https://www.cdc.gov/brfss/annual_data/2016/pdf/compare_2014.pdf) \n",
    "- [Comparability of Data BRFSS 2013](https://www.cdc.gov/brfss/annual_data/2016/pdf/compare_2014.pdf) \n",
    "\n",
    "Assuming that the National weighting of data from the BRFSS 2016 is correct, I tried to figure out some insights:"
   ]
  },
  {
   "cell_type": "code",
   "execution_count": 226,
   "metadata": {},
   "outputs": [],
   "source": [
    "final['state'] = final['state'].astype('object')\n",
    "\n",
    "final_y = final[['sleep','y','state']]\n",
    "final_y= final.groupby(['y','state','sleep']).size().unstack().reset_index()\n",
    "final_y['Tot'] =  final_y['False'] + final_y['True']\n",
    "\n",
    "# % of people with sleep disorder\n",
    "final_y['% short sleep'] =  round(final_y['False'] / final_y['Tot']*100,2)\n",
    "final_y = final_y[['y','state','% short sleep']]"
   ]
  },
  {
   "cell_type": "markdown",
   "metadata": {},
   "source": [
    "### Short sleep: 2016 Top 10 Worst US State "
   ]
  },
  {
   "cell_type": "code",
   "execution_count": 227,
   "metadata": {},
   "outputs": [
    {
     "data": {
      "text/html": [
       "<div>\n",
       "<style>\n",
       "    .dataframe thead tr:only-child th {\n",
       "        text-align: right;\n",
       "    }\n",
       "\n",
       "    .dataframe thead th {\n",
       "        text-align: left;\n",
       "    }\n",
       "\n",
       "    .dataframe tbody tr th {\n",
       "        vertical-align: top;\n",
       "    }\n",
       "</style>\n",
       "<table border=\"1\" class=\"dataframe\">\n",
       "  <thead>\n",
       "    <tr style=\"text-align: right;\">\n",
       "      <th>sleep</th>\n",
       "      <th>y</th>\n",
       "      <th>state</th>\n",
       "      <th>% short sleep</th>\n",
       "    </tr>\n",
       "    <tr>\n",
       "      <th>label</th>\n",
       "      <th></th>\n",
       "      <th></th>\n",
       "      <th></th>\n",
       "    </tr>\n",
       "  </thead>\n",
       "  <tbody>\n",
       "    <tr>\n",
       "      <th>Guam</th>\n",
       "      <td>2016</td>\n",
       "      <td>GU</td>\n",
       "      <td>50.83</td>\n",
       "    </tr>\n",
       "    <tr>\n",
       "      <th>U.S. Virgin Islands</th>\n",
       "      <td>2016</td>\n",
       "      <td>VI</td>\n",
       "      <td>40.34</td>\n",
       "    </tr>\n",
       "    <tr>\n",
       "      <th>Hawaii</th>\n",
       "      <td>2016</td>\n",
       "      <td>HI</td>\n",
       "      <td>40.02</td>\n",
       "    </tr>\n",
       "    <tr>\n",
       "      <th>Puerto Rico</th>\n",
       "      <td>2016</td>\n",
       "      <td>PR</td>\n",
       "      <td>39.19</td>\n",
       "    </tr>\n",
       "    <tr>\n",
       "      <th>West Virginia</th>\n",
       "      <td>2016</td>\n",
       "      <td>WV</td>\n",
       "      <td>38.26</td>\n",
       "    </tr>\n",
       "    <tr>\n",
       "      <th>Kentucky</th>\n",
       "      <td>2016</td>\n",
       "      <td>KY</td>\n",
       "      <td>37.23</td>\n",
       "    </tr>\n",
       "    <tr>\n",
       "      <th>Alabama</th>\n",
       "      <td>2016</td>\n",
       "      <td>AL</td>\n",
       "      <td>36.99</td>\n",
       "    </tr>\n",
       "    <tr>\n",
       "      <th>New Jersey</th>\n",
       "      <td>2016</td>\n",
       "      <td>NJ</td>\n",
       "      <td>36.79</td>\n",
       "    </tr>\n",
       "    <tr>\n",
       "      <th>District of Columbia</th>\n",
       "      <td>2016</td>\n",
       "      <td>DC</td>\n",
       "      <td>36.21</td>\n",
       "    </tr>\n",
       "    <tr>\n",
       "      <th>Pennsylvania</th>\n",
       "      <td>2016</td>\n",
       "      <td>PA</td>\n",
       "      <td>35.41</td>\n",
       "    </tr>\n",
       "  </tbody>\n",
       "</table>\n",
       "</div>"
      ],
      "text/plain": [
       "sleep                    y state  % short sleep\n",
       "label                                          \n",
       "Guam                  2016    GU          50.83\n",
       "U.S. Virgin Islands   2016    VI          40.34\n",
       "Hawaii                2016    HI          40.02\n",
       "Puerto Rico           2016    PR          39.19\n",
       "West Virginia         2016    WV          38.26\n",
       "Kentucky              2016    KY          37.23\n",
       "Alabama               2016    AL          36.99\n",
       "New Jersey            2016    NJ          36.79\n",
       "District of Columbia  2016    DC          36.21\n",
       "Pennsylvania          2016    PA          35.41"
      ]
     },
     "execution_count": 227,
     "metadata": {},
     "output_type": "execute_result"
    }
   ],
   "source": [
    "final_y['label'] = final_y['state'].map(d_states)\n",
    "final_y[final_y['y'] == '2016'].sort_values(['y', '% short sleep'], ascending=[1, 0]).nlargest(10, '% short sleep').set_index(['label'])"
   ]
  },
  {
   "cell_type": "markdown",
   "metadata": {},
   "source": [
    "### Short sleep: 2014 Top 10 Worst US State "
   ]
  },
  {
   "cell_type": "code",
   "execution_count": 228,
   "metadata": {},
   "outputs": [
    {
     "data": {
      "text/html": [
       "<div>\n",
       "<style>\n",
       "    .dataframe thead tr:only-child th {\n",
       "        text-align: right;\n",
       "    }\n",
       "\n",
       "    .dataframe thead th {\n",
       "        text-align: left;\n",
       "    }\n",
       "\n",
       "    .dataframe tbody tr th {\n",
       "        vertical-align: top;\n",
       "    }\n",
       "</style>\n",
       "<table border=\"1\" class=\"dataframe\">\n",
       "  <thead>\n",
       "    <tr style=\"text-align: right;\">\n",
       "      <th>sleep</th>\n",
       "      <th>y</th>\n",
       "      <th>state</th>\n",
       "      <th>% short sleep</th>\n",
       "    </tr>\n",
       "    <tr>\n",
       "      <th>label</th>\n",
       "      <th></th>\n",
       "      <th></th>\n",
       "      <th></th>\n",
       "    </tr>\n",
       "  </thead>\n",
       "  <tbody>\n",
       "    <tr>\n",
       "      <th>Guam</th>\n",
       "      <td>2014</td>\n",
       "      <td>GU</td>\n",
       "      <td>48.83</td>\n",
       "    </tr>\n",
       "    <tr>\n",
       "      <th>Hawaii</th>\n",
       "      <td>2014</td>\n",
       "      <td>HI</td>\n",
       "      <td>40.29</td>\n",
       "    </tr>\n",
       "    <tr>\n",
       "      <th>Puerto Rico</th>\n",
       "      <td>2014</td>\n",
       "      <td>PR</td>\n",
       "      <td>37.62</td>\n",
       "    </tr>\n",
       "    <tr>\n",
       "      <th>Kentucky</th>\n",
       "      <td>2014</td>\n",
       "      <td>KY</td>\n",
       "      <td>36.71</td>\n",
       "    </tr>\n",
       "    <tr>\n",
       "      <th>Alabama</th>\n",
       "      <td>2014</td>\n",
       "      <td>AL</td>\n",
       "      <td>36.59</td>\n",
       "    </tr>\n",
       "    <tr>\n",
       "      <th>New Jersey</th>\n",
       "      <td>2014</td>\n",
       "      <td>NJ</td>\n",
       "      <td>36.02</td>\n",
       "    </tr>\n",
       "    <tr>\n",
       "      <th>Georgia</th>\n",
       "      <td>2014</td>\n",
       "      <td>GA</td>\n",
       "      <td>35.93</td>\n",
       "    </tr>\n",
       "    <tr>\n",
       "      <th>New York</th>\n",
       "      <td>2014</td>\n",
       "      <td>NY</td>\n",
       "      <td>35.88</td>\n",
       "    </tr>\n",
       "    <tr>\n",
       "      <th>West Virginia</th>\n",
       "      <td>2014</td>\n",
       "      <td>WV</td>\n",
       "      <td>35.52</td>\n",
       "    </tr>\n",
       "    <tr>\n",
       "      <th>Delaware</th>\n",
       "      <td>2014</td>\n",
       "      <td>DE</td>\n",
       "      <td>35.07</td>\n",
       "    </tr>\n",
       "  </tbody>\n",
       "</table>\n",
       "</div>"
      ],
      "text/plain": [
       "sleep             y state  % short sleep\n",
       "label                                   \n",
       "Guam           2014    GU          48.83\n",
       "Hawaii         2014    HI          40.29\n",
       "Puerto Rico    2014    PR          37.62\n",
       "Kentucky       2014    KY          36.71\n",
       "Alabama        2014    AL          36.59\n",
       "New Jersey     2014    NJ          36.02\n",
       "Georgia        2014    GA          35.93\n",
       "New York       2014    NY          35.88\n",
       "West Virginia  2014    WV          35.52\n",
       "Delaware       2014    DE          35.07"
      ]
     },
     "execution_count": 228,
     "metadata": {},
     "output_type": "execute_result"
    }
   ],
   "source": [
    "final_y[final_y['y'] == '2014'].sort_values(['y', '% short sleep'], ascending=[1, 0]).nlargest(10, '% short sleep').set_index(['label'])"
   ]
  },
  {
   "cell_type": "markdown",
   "metadata": {},
   "source": [
    "### Short sleep: 2013 Top 10 Worst US State "
   ]
  },
  {
   "cell_type": "code",
   "execution_count": 229,
   "metadata": {},
   "outputs": [
    {
     "data": {
      "text/html": [
       "<div>\n",
       "<style>\n",
       "    .dataframe thead tr:only-child th {\n",
       "        text-align: right;\n",
       "    }\n",
       "\n",
       "    .dataframe thead th {\n",
       "        text-align: left;\n",
       "    }\n",
       "\n",
       "    .dataframe tbody tr th {\n",
       "        vertical-align: top;\n",
       "    }\n",
       "</style>\n",
       "<table border=\"1\" class=\"dataframe\">\n",
       "  <thead>\n",
       "    <tr style=\"text-align: right;\">\n",
       "      <th>sleep</th>\n",
       "      <th>y</th>\n",
       "      <th>state</th>\n",
       "      <th>% short sleep</th>\n",
       "    </tr>\n",
       "    <tr>\n",
       "      <th>label</th>\n",
       "      <th></th>\n",
       "      <th></th>\n",
       "      <th></th>\n",
       "    </tr>\n",
       "  </thead>\n",
       "  <tbody>\n",
       "    <tr>\n",
       "      <th>Guam</th>\n",
       "      <td>2013</td>\n",
       "      <td>GU</td>\n",
       "      <td>47.15</td>\n",
       "    </tr>\n",
       "    <tr>\n",
       "      <th>Kentucky</th>\n",
       "      <td>2013</td>\n",
       "      <td>KY</td>\n",
       "      <td>39.90</td>\n",
       "    </tr>\n",
       "    <tr>\n",
       "      <th>Hawaii</th>\n",
       "      <td>2013</td>\n",
       "      <td>HI</td>\n",
       "      <td>39.32</td>\n",
       "    </tr>\n",
       "    <tr>\n",
       "      <th>West Virginia</th>\n",
       "      <td>2013</td>\n",
       "      <td>WV</td>\n",
       "      <td>39.00</td>\n",
       "    </tr>\n",
       "    <tr>\n",
       "      <th>New Jersey</th>\n",
       "      <td>2013</td>\n",
       "      <td>NJ</td>\n",
       "      <td>38.31</td>\n",
       "    </tr>\n",
       "    <tr>\n",
       "      <th>Puerto Rico</th>\n",
       "      <td>2013</td>\n",
       "      <td>PR</td>\n",
       "      <td>38.31</td>\n",
       "    </tr>\n",
       "    <tr>\n",
       "      <th>New York</th>\n",
       "      <td>2013</td>\n",
       "      <td>NY</td>\n",
       "      <td>38.11</td>\n",
       "    </tr>\n",
       "    <tr>\n",
       "      <th>Ohio</th>\n",
       "      <td>2013</td>\n",
       "      <td>OH</td>\n",
       "      <td>37.71</td>\n",
       "    </tr>\n",
       "    <tr>\n",
       "      <th>Georgia</th>\n",
       "      <td>2013</td>\n",
       "      <td>GA</td>\n",
       "      <td>36.54</td>\n",
       "    </tr>\n",
       "    <tr>\n",
       "      <th>Tennessee</th>\n",
       "      <td>2013</td>\n",
       "      <td>TN</td>\n",
       "      <td>36.54</td>\n",
       "    </tr>\n",
       "  </tbody>\n",
       "</table>\n",
       "</div>"
      ],
      "text/plain": [
       "sleep             y state  % short sleep\n",
       "label                                   \n",
       "Guam           2013    GU          47.15\n",
       "Kentucky       2013    KY          39.90\n",
       "Hawaii         2013    HI          39.32\n",
       "West Virginia  2013    WV          39.00\n",
       "New Jersey     2013    NJ          38.31\n",
       "Puerto Rico    2013    PR          38.31\n",
       "New York       2013    NY          38.11\n",
       "Ohio           2013    OH          37.71\n",
       "Georgia        2013    GA          36.54\n",
       "Tennessee      2013    TN          36.54"
      ]
     },
     "execution_count": 229,
     "metadata": {},
     "output_type": "execute_result"
    }
   ],
   "source": [
    "final_y[final_y['y'] == '2013'].sort_values(['y', '% short sleep'], ascending=[1, 0]).nlargest(10, '% short sleep').set_index(['label'])"
   ]
  },
  {
   "cell_type": "markdown",
   "metadata": {},
   "source": [
    "![Map Short Sleep](./img/MapShortSleep.png)"
   ]
  },
  {
   "cell_type": "markdown",
   "metadata": {},
   "source": [
    "## Short sleep and worst US States\n",
    "\n",
    "Beside the note about the National weighting of data (and excluding Guam and Hawaii), it's interesting to look at the data and find out that the Worst US states for \"short sleep\" are located in the East part of the country. \n",
    "\n",
    "It would be interesting to go deeply and understand why and if there are some geographical correlations."
   ]
  },
  {
   "cell_type": "markdown",
   "metadata": {},
   "source": [
    "# Short sleep and Gender\n",
    "\n",
    "Let's analize the distributions between gender and short sleep. \n",
    "\n",
    "We will discover that they are pretty similar. No significant difference between groups"
   ]
  },
  {
   "cell_type": "code",
   "execution_count": 230,
   "metadata": {},
   "outputs": [],
   "source": [
    "final_y_tot= final.groupby(['y','sex','sleep']).size().unstack().reset_index()\n",
    "final_y_tot['Tot']  =  final_y_tot['False'] + final_y_tot['True']\n",
    "final_y_tot['% short sleep'] =  round(final_y_tot['False'] / final_y_tot['Tot']*100,2)\n",
    "final_y_tot['% sleep ok'] =  round(final_y_tot['True'] / final_y_tot['Tot']*100,2)\n",
    "#final_y_tot.set_index('y')"
   ]
  },
  {
   "cell_type": "code",
   "execution_count": 231,
   "metadata": {},
   "outputs": [],
   "source": [
    "final_y_tot=final_y_tot[['y','sex','% short sleep','% sleep ok']]"
   ]
  },
  {
   "cell_type": "code",
   "execution_count": 232,
   "metadata": {},
   "outputs": [
    {
     "data": {
      "text/html": [
       "<div>\n",
       "<style>\n",
       "    .dataframe thead tr:only-child th {\n",
       "        text-align: right;\n",
       "    }\n",
       "\n",
       "    .dataframe thead th {\n",
       "        text-align: left;\n",
       "    }\n",
       "\n",
       "    .dataframe tbody tr th {\n",
       "        vertical-align: top;\n",
       "    }\n",
       "</style>\n",
       "<table border=\"1\" class=\"dataframe\">\n",
       "  <thead>\n",
       "    <tr style=\"text-align: right;\">\n",
       "      <th>sleep</th>\n",
       "      <th>y</th>\n",
       "      <th>sex</th>\n",
       "      <th>% short sleep</th>\n",
       "      <th>% sleep ok</th>\n",
       "    </tr>\n",
       "  </thead>\n",
       "  <tbody>\n",
       "    <tr>\n",
       "      <th>4</th>\n",
       "      <td>2016</td>\n",
       "      <td>M</td>\n",
       "      <td>32.14</td>\n",
       "      <td>67.86</td>\n",
       "    </tr>\n",
       "    <tr>\n",
       "      <th>6</th>\n",
       "      <td>2016</td>\n",
       "      <td>W</td>\n",
       "      <td>31.80</td>\n",
       "      <td>68.20</td>\n",
       "    </tr>\n",
       "  </tbody>\n",
       "</table>\n",
       "</div>"
      ],
      "text/plain": [
       "sleep     y sex  % short sleep  % sleep ok\n",
       "4      2016   M          32.14       67.86\n",
       "6      2016   W          31.80       68.20"
      ]
     },
     "execution_count": 232,
     "metadata": {},
     "output_type": "execute_result"
    }
   ],
   "source": [
    "final_2016_tot = final_y_tot[(final_y_tot['y'] == '2016') & (final_y_tot['sex'] != 'Refused')]\n",
    "#final_2016_tot.set_index('sex')\n",
    "final_2016_tot"
   ]
  },
  {
   "cell_type": "code",
   "execution_count": 233,
   "metadata": {},
   "outputs": [
    {
     "data": {
      "text/plain": [
       "([<matplotlib.axis.YTick at 0x11f84b1d0>,\n",
       "  <matplotlib.axis.YTick at 0x1199932e8>],\n",
       " <a list of 2 Text yticklabel objects>)"
      ]
     },
     "execution_count": 233,
     "metadata": {},
     "output_type": "execute_result"
    },
    {
     "data": {
      "image/png": "[encoded data removed]",
      "text/plain": [
       "<matplotlib.figure.Figure at 0x12216c1d0>"
      ]
     },
     "metadata": {},
     "output_type": "display_data"
    }
   ],
   "source": [
    "final_2016_tot.plot(kind=\"barh\", stacked=True);\n",
    "plt.legend(loc=3, ncol=3)\n",
    "plt.title(\"Short sleep and Gender 2016\")\n",
    "plt.yticks([1, 0], ['Woman', 'Men'])"
   ]
  },
  {
   "cell_type": "code",
   "execution_count": 234,
   "metadata": {},
   "outputs": [
    {
     "data": {
      "text/html": [
       "<div>\n",
       "<style>\n",
       "    .dataframe thead tr:only-child th {\n",
       "        text-align: right;\n",
       "    }\n",
       "\n",
       "    .dataframe thead th {\n",
       "        text-align: left;\n",
       "    }\n",
       "\n",
       "    .dataframe tbody tr th {\n",
       "        vertical-align: top;\n",
       "    }\n",
       "</style>\n",
       "<table border=\"1\" class=\"dataframe\">\n",
       "  <thead>\n",
       "    <tr style=\"text-align: right;\">\n",
       "      <th>sleep</th>\n",
       "      <th>y</th>\n",
       "      <th>sex</th>\n",
       "      <th>% short sleep</th>\n",
       "      <th>% sleep ok</th>\n",
       "    </tr>\n",
       "  </thead>\n",
       "  <tbody>\n",
       "    <tr>\n",
       "      <th>2</th>\n",
       "      <td>2014</td>\n",
       "      <td>M</td>\n",
       "      <td>31.80</td>\n",
       "      <td>68.20</td>\n",
       "    </tr>\n",
       "    <tr>\n",
       "      <th>3</th>\n",
       "      <td>2014</td>\n",
       "      <td>W</td>\n",
       "      <td>31.31</td>\n",
       "      <td>68.69</td>\n",
       "    </tr>\n",
       "  </tbody>\n",
       "</table>\n",
       "</div>"
      ],
      "text/plain": [
       "sleep     y sex  % short sleep  % sleep ok\n",
       "2      2014   M          31.80       68.20\n",
       "3      2014   W          31.31       68.69"
      ]
     },
     "execution_count": 234,
     "metadata": {},
     "output_type": "execute_result"
    }
   ],
   "source": [
    "final_2014_tot = final_y_tot[final_y_tot['y'] == '2014']\n",
    "final_2014_tot"
   ]
  },
  {
   "cell_type": "code",
   "execution_count": 235,
   "metadata": {},
   "outputs": [],
   "source": [
    "#final_2014_tot.plot(kind=\"barh\", stacked=True);\n",
    "#plt.legend(loc=3, ncol=3);\n",
    "#plt.title(\"Short sleep and Gender 2014\")"
   ]
  },
  {
   "cell_type": "code",
   "execution_count": 236,
   "metadata": {},
   "outputs": [
    {
     "data": {
      "text/html": [
       "<div>\n",
       "<style>\n",
       "    .dataframe thead tr:only-child th {\n",
       "        text-align: right;\n",
       "    }\n",
       "\n",
       "    .dataframe thead th {\n",
       "        text-align: left;\n",
       "    }\n",
       "\n",
       "    .dataframe tbody tr th {\n",
       "        vertical-align: top;\n",
       "    }\n",
       "</style>\n",
       "<table border=\"1\" class=\"dataframe\">\n",
       "  <thead>\n",
       "    <tr style=\"text-align: right;\">\n",
       "      <th>sleep</th>\n",
       "      <th>y</th>\n",
       "      <th>% short sleep</th>\n",
       "      <th>% sleep ok</th>\n",
       "    </tr>\n",
       "    <tr>\n",
       "      <th>sex</th>\n",
       "      <th></th>\n",
       "      <th></th>\n",
       "      <th></th>\n",
       "    </tr>\n",
       "  </thead>\n",
       "  <tbody>\n",
       "    <tr>\n",
       "      <th>M</th>\n",
       "      <td>2013</td>\n",
       "      <td>32.99</td>\n",
       "      <td>67.01</td>\n",
       "    </tr>\n",
       "    <tr>\n",
       "      <th>W</th>\n",
       "      <td>2013</td>\n",
       "      <td>32.58</td>\n",
       "      <td>67.42</td>\n",
       "    </tr>\n",
       "  </tbody>\n",
       "</table>\n",
       "</div>"
      ],
      "text/plain": [
       "sleep     y  % short sleep  % sleep ok\n",
       "sex                                   \n",
       "M      2013          32.99       67.01\n",
       "W      2013          32.58       67.42"
      ]
     },
     "execution_count": 236,
     "metadata": {},
     "output_type": "execute_result"
    }
   ],
   "source": [
    "final_2013_tot = final_y_tot[final_y_tot['y'] == '2013'].set_index(['sex'])\n",
    "final_2013_tot"
   ]
  },
  {
   "cell_type": "code",
   "execution_count": 237,
   "metadata": {},
   "outputs": [],
   "source": [
    "#final_2013_tot.plot(kind=\"barh\", stacked=True);\n",
    "#plt.legend(loc=3, ncol=3);\n",
    "#plt.title(\"Short sleep and Gender 2013\")"
   ]
  },
  {
   "cell_type": "markdown",
   "metadata": {},
   "source": [
    "# Short sleep with health risk factors \n",
    "\n",
    "Let's figure out if people with health risk factors sleep less and potential pairwise relationship that might exist between any pair among the 4 variables listed below. \n",
    "\n",
    "Categorical data is a problem for most algorithms in machine learning.\n",
    "\n",
    "\n",
    "It would be helpful and time saving to map the correlation using a Scatter Plot Matrix - Feature feature relationships but we are dealing with categorical data. \n",
    "\n",
    "I can’t fit categorical variables into a regression equation in their raw form. They must be treated. I can combine levels to avoid redundant levels in a categorical variable, use Dammy code method (OneHotEncoder)\n",
    "\n",
    "In our dataset we have four dimensions about health:\n",
    "\n",
    "- Health status: Fair/poor\n",
    "\n",
    "- Smoker: Y\n",
    "\n",
    "- BMI: Obese or Overweight\n",
    "\n",
    "- Physical activity or exercise during the past 30 days: N\n",
    "\n",
    "\n",
    "NOTE: I consider just data from 2016. \n"
   ]
  },
  {
   "cell_type": "code",
   "execution_count": 238,
   "metadata": {},
   "outputs": [
    {
     "data": {
      "text/html": [
       "<div>\n",
       "<style>\n",
       "    .dataframe thead tr:only-child th {\n",
       "        text-align: right;\n",
       "    }\n",
       "\n",
       "    .dataframe thead th {\n",
       "        text-align: left;\n",
       "    }\n",
       "\n",
       "    .dataframe tbody tr th {\n",
       "        vertical-align: top;\n",
       "    }\n",
       "</style>\n",
       "<table border=\"1\" class=\"dataframe\">\n",
       "  <thead>\n",
       "    <tr style=\"text-align: right;\">\n",
       "      <th></th>\n",
       "      <th>age</th>\n",
       "      <th>bmi</th>\n",
       "      <th>education</th>\n",
       "      <th>employment</th>\n",
       "      <th>health</th>\n",
       "      <th>income</th>\n",
       "      <th>physical_activity</th>\n",
       "      <th>race</th>\n",
       "      <th>sex</th>\n",
       "      <th>sleepH</th>\n",
       "      <th>smoker</th>\n",
       "      <th>state</th>\n",
       "      <th>sleep</th>\n",
       "      <th>y</th>\n",
       "    </tr>\n",
       "  </thead>\n",
       "  <tbody>\n",
       "    <tr>\n",
       "      <th>0</th>\n",
       "      <td>35-44</td>\n",
       "      <td>Normal Weight</td>\n",
       "      <td>Graduated High School</td>\n",
       "      <td>Employed</td>\n",
       "      <td>Good/Better</td>\n",
       "      <td>25k-35k</td>\n",
       "      <td>Y</td>\n",
       "      <td>white</td>\n",
       "      <td>M</td>\n",
       "      <td>5.0</td>\n",
       "      <td>N</td>\n",
       "      <td>AL</td>\n",
       "      <td>False</td>\n",
       "      <td>2016</td>\n",
       "    </tr>\n",
       "    <tr>\n",
       "      <th>1</th>\n",
       "      <td>55-64</td>\n",
       "      <td>Overweight</td>\n",
       "      <td>Graduated High School</td>\n",
       "      <td>Homemaker</td>\n",
       "      <td>Good/Better</td>\n",
       "      <td>&gt;50k</td>\n",
       "      <td>Y</td>\n",
       "      <td>white</td>\n",
       "      <td>W</td>\n",
       "      <td>6.0</td>\n",
       "      <td>N</td>\n",
       "      <td>AL</td>\n",
       "      <td>False</td>\n",
       "      <td>2016</td>\n",
       "    </tr>\n",
       "    <tr>\n",
       "      <th>2</th>\n",
       "      <td>65+</td>\n",
       "      <td>Normal Weight</td>\n",
       "      <td>Attended college/tec</td>\n",
       "      <td>Retired</td>\n",
       "      <td>Good/Better</td>\n",
       "      <td>&gt;50k</td>\n",
       "      <td>Y</td>\n",
       "      <td>white</td>\n",
       "      <td>W</td>\n",
       "      <td>9.0</td>\n",
       "      <td>Y</td>\n",
       "      <td>AL</td>\n",
       "      <td>True</td>\n",
       "      <td>2016</td>\n",
       "    </tr>\n",
       "    <tr>\n",
       "      <th>3</th>\n",
       "      <td>65+</td>\n",
       "      <td>Overweight</td>\n",
       "      <td>Graduated college/tec</td>\n",
       "      <td>Retired</td>\n",
       "      <td>Good/Better</td>\n",
       "      <td>&gt;50k</td>\n",
       "      <td>Y</td>\n",
       "      <td>white</td>\n",
       "      <td>M</td>\n",
       "      <td>7.0</td>\n",
       "      <td>N</td>\n",
       "      <td>AL</td>\n",
       "      <td>True</td>\n",
       "      <td>2016</td>\n",
       "    </tr>\n",
       "    <tr>\n",
       "      <th>4</th>\n",
       "      <td>18-24</td>\n",
       "      <td>Normal Weight</td>\n",
       "      <td>Graduated High School</td>\n",
       "      <td>Employed</td>\n",
       "      <td>Fair/Poor</td>\n",
       "      <td>refused/unknown</td>\n",
       "      <td>Y</td>\n",
       "      <td>white</td>\n",
       "      <td>M</td>\n",
       "      <td>6.0</td>\n",
       "      <td>N</td>\n",
       "      <td>AL</td>\n",
       "      <td>False</td>\n",
       "      <td>2016</td>\n",
       "    </tr>\n",
       "  </tbody>\n",
       "</table>\n",
       "</div>"
      ],
      "text/plain": [
       "     age            bmi              education employment       health           income physical_activity   race sex  sleepH smoker state  sleep     y\n",
       "0  35-44  Normal Weight  Graduated High School   Employed  Good/Better          25k-35k                 Y  white   M     5.0      N    AL  False  2016\n",
       "1  55-64     Overweight  Graduated High School  Homemaker  Good/Better             >50k                 Y  white   W     6.0      N    AL  False  2016\n",
       "2    65+  Normal Weight   Attended college/tec    Retired  Good/Better             >50k                 Y  white   W     9.0      Y    AL   True  2016\n",
       "3    65+     Overweight  Graduated college/tec    Retired  Good/Better             >50k                 Y  white   M     7.0      N    AL   True  2016\n",
       "4  18-24  Normal Weight  Graduated High School   Employed    Fair/Poor  refused/unknown                 Y  white   M     6.0      N    AL  False  2016"
      ]
     },
     "execution_count": 238,
     "metadata": {},
     "output_type": "execute_result"
    }
   ],
   "source": [
    "df_2016.head()"
   ]
  },
  {
   "cell_type": "markdown",
   "metadata": {},
   "source": [
    "## Obese or Overweight, Smoker and No physical activity"
   ]
  },
  {
   "cell_type": "code",
   "execution_count": 239,
   "metadata": {},
   "outputs": [],
   "source": [
    "bmi = ['Overweight', 'Obese']\n",
    "df_2016_risks = df_2016[(df_2016.smoker == 'Y')  &\n",
    "                       (df_2016['physical_activity'] == 'N') & \n",
    "                       (df_2016['bmi'].isin(bmi))]"
   ]
  },
  {
   "cell_type": "code",
   "execution_count": 240,
   "metadata": {},
   "outputs": [
    {
     "name": "stdout",
     "output_type": "stream",
     "text": [
      "Records: 14814\n",
      "9.65 % of the full dataset\n",
      "Hours of sleep - Mean:  6.7\n",
      "Hours of sleep - STD:  2.03\n"
     ]
    }
   ],
   "source": [
    "print (\"Records:\", len(df_2016_risks))\n",
    "print (round(len(df_2016_risks)/len(df_2016_short_sleep)*100,2) , \"% of the full dataset\")\n",
    "print (\"Hours of sleep - Mean: \", round(df_2016_risks.sleepH.mean(),2))\n",
    "print (\"Hours of sleep - STD: \", round(df_2016_risks.sleepH.std(),2))"
   ]
  },
  {
   "cell_type": "code",
   "execution_count": 241,
   "metadata": {},
   "outputs": [
    {
     "data": {
      "text/plain": [
       "<matplotlib.legend.Legend at 0x11c132cc0>"
      ]
     },
     "execution_count": 241,
     "metadata": {},
     "output_type": "execute_result"
    },
    {
     "data": {
      "image/png": "[encoded data removed]",
      "text/plain": [
       "<matplotlib.figure.Figure at 0x11c76fcc0>"
      ]
     },
     "metadata": {},
     "output_type": "display_data"
    }
   ],
   "source": [
    "ax = sns.countplot(x=\"sleepH\", hue=\"sex\", data=df_2016_risks)\n",
    "ax.set_title(\"Overweight or Obese, Smoker, no physical activity \")\n",
    "ax.set_xlabel(\"Hours per night\")\n",
    "ax.set_ylabel('Frequency')\n",
    "ax.legend(loc=1)"
   ]
  },
  {
   "cell_type": "markdown",
   "metadata": {},
   "source": [
    "### Dummy code method \n"
   ]
  },
  {
   "cell_type": "code",
   "execution_count": 242,
   "metadata": {},
   "outputs": [
    {
     "data": {
      "text/html": [
       "<div>\n",
       "<style>\n",
       "    .dataframe thead tr:only-child th {\n",
       "        text-align: right;\n",
       "    }\n",
       "\n",
       "    .dataframe thead th {\n",
       "        text-align: left;\n",
       "    }\n",
       "\n",
       "    .dataframe tbody tr th {\n",
       "        vertical-align: top;\n",
       "    }\n",
       "</style>\n",
       "<table border=\"1\" class=\"dataframe\">\n",
       "  <thead>\n",
       "    <tr style=\"text-align: right;\">\n",
       "      <th></th>\n",
       "      <th>bmi_Blank</th>\n",
       "      <th>bmi_Normal Weight</th>\n",
       "      <th>bmi_Obese</th>\n",
       "      <th>bmi_Overweight</th>\n",
       "      <th>bmi_Underweight</th>\n",
       "      <th>sleep_False</th>\n",
       "      <th>sleep_True</th>\n",
       "      <th>smoker_N</th>\n",
       "      <th>smoker_Y</th>\n",
       "      <th>smoker_refused/unknown</th>\n",
       "    </tr>\n",
       "  </thead>\n",
       "  <tbody>\n",
       "    <tr>\n",
       "      <th>0</th>\n",
       "      <td>0</td>\n",
       "      <td>1</td>\n",
       "      <td>0</td>\n",
       "      <td>0</td>\n",
       "      <td>0</td>\n",
       "      <td>1</td>\n",
       "      <td>0</td>\n",
       "      <td>1</td>\n",
       "      <td>0</td>\n",
       "      <td>0</td>\n",
       "    </tr>\n",
       "    <tr>\n",
       "      <th>1</th>\n",
       "      <td>0</td>\n",
       "      <td>0</td>\n",
       "      <td>0</td>\n",
       "      <td>1</td>\n",
       "      <td>0</td>\n",
       "      <td>1</td>\n",
       "      <td>0</td>\n",
       "      <td>1</td>\n",
       "      <td>0</td>\n",
       "      <td>0</td>\n",
       "    </tr>\n",
       "    <tr>\n",
       "      <th>2</th>\n",
       "      <td>0</td>\n",
       "      <td>1</td>\n",
       "      <td>0</td>\n",
       "      <td>0</td>\n",
       "      <td>0</td>\n",
       "      <td>0</td>\n",
       "      <td>1</td>\n",
       "      <td>0</td>\n",
       "      <td>1</td>\n",
       "      <td>0</td>\n",
       "    </tr>\n",
       "    <tr>\n",
       "      <th>3</th>\n",
       "      <td>0</td>\n",
       "      <td>0</td>\n",
       "      <td>0</td>\n",
       "      <td>1</td>\n",
       "      <td>0</td>\n",
       "      <td>0</td>\n",
       "      <td>1</td>\n",
       "      <td>1</td>\n",
       "      <td>0</td>\n",
       "      <td>0</td>\n",
       "    </tr>\n",
       "    <tr>\n",
       "      <th>4</th>\n",
       "      <td>0</td>\n",
       "      <td>1</td>\n",
       "      <td>0</td>\n",
       "      <td>0</td>\n",
       "      <td>0</td>\n",
       "      <td>1</td>\n",
       "      <td>0</td>\n",
       "      <td>1</td>\n",
       "      <td>0</td>\n",
       "      <td>0</td>\n",
       "    </tr>\n",
       "  </tbody>\n",
       "</table>\n",
       "</div>"
      ],
      "text/plain": [
       "   bmi_Blank  bmi_Normal Weight  bmi_Obese  bmi_Overweight  bmi_Underweight  sleep_False  sleep_True  smoker_N  smoker_Y  smoker_refused/unknown\n",
       "0          0                  1          0               0                0            1           0         1         0                       0\n",
       "1          0                  0          0               1                0            1           0         1         0                       0\n",
       "2          0                  1          0               0                0            0           1         0         1                       0\n",
       "3          0                  0          0               1                0            0           1         1         0                       0\n",
       "4          0                  1          0               0                0            1           0         1         0                       0"
      ]
     },
     "execution_count": 242,
     "metadata": {},
     "output_type": "execute_result"
    }
   ],
   "source": [
    "df_2016_S = df_2016[['bmi','sleep','smoker']]\n",
    "df_2016_d = pd.get_dummies(df_2016_S)\n",
    "df_2016_d.head()"
   ]
  },
  {
   "cell_type": "code",
   "execution_count": 243,
   "metadata": {},
   "outputs": [
    {
     "data": {
      "text/html": [
       "<div>\n",
       "<style>\n",
       "    .dataframe thead tr:only-child th {\n",
       "        text-align: right;\n",
       "    }\n",
       "\n",
       "    .dataframe thead th {\n",
       "        text-align: left;\n",
       "    }\n",
       "\n",
       "    .dataframe tbody tr th {\n",
       "        vertical-align: top;\n",
       "    }\n",
       "</style>\n",
       "<table border=\"1\" class=\"dataframe\">\n",
       "  <thead>\n",
       "    <tr style=\"text-align: right;\">\n",
       "      <th></th>\n",
       "      <th>sleep_False</th>\n",
       "      <th>bmi_Obese</th>\n",
       "      <th>bmi_Overweight</th>\n",
       "      <th>smoker_Y</th>\n",
       "    </tr>\n",
       "  </thead>\n",
       "  <tbody>\n",
       "    <tr>\n",
       "      <th>sleep_False</th>\n",
       "      <td>1.000000</td>\n",
       "      <td>0.065955</td>\n",
       "      <td>-0.016895</td>\n",
       "      <td>0.103122</td>\n",
       "    </tr>\n",
       "    <tr>\n",
       "      <th>bmi_Obese</th>\n",
       "      <td>0.065955</td>\n",
       "      <td>1.000000</td>\n",
       "      <td>-0.439549</td>\n",
       "      <td>-0.011120</td>\n",
       "    </tr>\n",
       "    <tr>\n",
       "      <th>bmi_Overweight</th>\n",
       "      <td>-0.016895</td>\n",
       "      <td>-0.439549</td>\n",
       "      <td>1.000000</td>\n",
       "      <td>-0.007301</td>\n",
       "    </tr>\n",
       "    <tr>\n",
       "      <th>smoker_Y</th>\n",
       "      <td>0.103122</td>\n",
       "      <td>-0.011120</td>\n",
       "      <td>-0.007301</td>\n",
       "      <td>1.000000</td>\n",
       "    </tr>\n",
       "  </tbody>\n",
       "</table>\n",
       "</div>"
      ],
      "text/plain": [
       "                sleep_False  bmi_Obese  bmi_Overweight  smoker_Y\n",
       "sleep_False        1.000000   0.065955       -0.016895  0.103122\n",
       "bmi_Obese          0.065955   1.000000       -0.439549 -0.011120\n",
       "bmi_Overweight    -0.016895  -0.439549        1.000000 -0.007301\n",
       "smoker_Y           0.103122  -0.011120       -0.007301  1.000000"
      ]
     },
     "execution_count": 243,
     "metadata": {},
     "output_type": "execute_result"
    }
   ],
   "source": [
    "df_2016_d[['sleep_False','bmi_Obese','bmi_Overweight','smoker_Y']].corr()"
   ]
  },
  {
   "cell_type": "code",
   "execution_count": 244,
   "metadata": {},
   "outputs": [
    {
     "data": {
      "application/vnd.jupyter.widget-view+json": {
       "model_id": "916b425ec84e4d0e9500141e742b5555"
      }
     },
     "metadata": {},
     "output_type": "display_data"
    },
    {
     "data": {
      "image/png": "[encoded data removed]",
      "text/plain": [
       "<matplotlib.figure.Figure at 0x11b189fd0>"
      ]
     },
     "metadata": {},
     "output_type": "display_data"
    }
   ],
   "source": [
    "dpal = sns.choose_colorbrewer_palette('diverging', as_cmap=True)"
   ]
  },
  {
   "cell_type": "code",
   "execution_count": 245,
   "metadata": {},
   "outputs": [
    {
     "data": {
      "image/png": "[encoded data removed]",
      "text/plain": [
       "<matplotlib.figure.Figure at 0x125d7c1d0>"
      ]
     },
     "metadata": {},
     "output_type": "display_data"
    }
   ],
   "source": [
    "plt.matshow(df_2016_d[['sleep_False','bmi_Obese','bmi_Overweight','smoker_Y']].corr(), cmap=dpal)\n",
    "ax = plt.gca()\n",
    "ax.tick_params(axis='both', which='both',length=0);\n",
    "plt.title(\"Correlation Matrix Obese, Overweight smoker\")\n",
    "plt.xticks(range(4), ['sleep_False','bmi_Obese','bmi_Overweight','smoker_Y'])\n",
    "plt.yticks(range(4), ['sleep_False','bmi_Obese','bmi_Overweight','smoker_Y']);"
   ]
  },
  {
   "cell_type": "markdown",
   "metadata": {},
   "source": [
    "\n",
    "The highest correlation is with  \"Insufficient sleep\" and Smoker but is very low = 0.103122"
   ]
  },
  {
   "cell_type": "markdown",
   "metadata": {},
   "source": [
    "## Short sleep and Income\n",
    "\n",
    "Let's analize the distributions between short sleep and income.\n"
   ]
  },
  {
   "cell_type": "code",
   "execution_count": 246,
   "metadata": {},
   "outputs": [
    {
     "data": {
      "text/html": [
       "<div>\n",
       "<style>\n",
       "    .dataframe thead tr:only-child th {\n",
       "        text-align: right;\n",
       "    }\n",
       "\n",
       "    .dataframe thead th {\n",
       "        text-align: left;\n",
       "    }\n",
       "\n",
       "    .dataframe tbody tr th {\n",
       "        vertical-align: top;\n",
       "    }\n",
       "</style>\n",
       "<table border=\"1\" class=\"dataframe\">\n",
       "  <thead>\n",
       "    <tr style=\"text-align: right;\">\n",
       "      <th>sleep</th>\n",
       "      <th>y</th>\n",
       "      <th>income</th>\n",
       "      <th>False</th>\n",
       "      <th>True</th>\n",
       "      <th>Tot</th>\n",
       "      <th>% short sleep</th>\n",
       "      <th>% sleep ok</th>\n",
       "    </tr>\n",
       "  </thead>\n",
       "  <tbody>\n",
       "    <tr>\n",
       "      <th>4</th>\n",
       "      <td>2013</td>\n",
       "      <td>&gt;50k</td>\n",
       "      <td>52471</td>\n",
       "      <td>127982</td>\n",
       "      <td>180453</td>\n",
       "      <td>29.08</td>\n",
       "      <td>70.92</td>\n",
       "    </tr>\n",
       "    <tr>\n",
       "      <th>5</th>\n",
       "      <td>2013</td>\n",
       "      <td>refused/unknown</td>\n",
       "      <td>21083</td>\n",
       "      <td>47356</td>\n",
       "      <td>68439</td>\n",
       "      <td>30.81</td>\n",
       "      <td>69.19</td>\n",
       "    </tr>\n",
       "    <tr>\n",
       "      <th>2</th>\n",
       "      <td>2013</td>\n",
       "      <td>35k-50k</td>\n",
       "      <td>19348</td>\n",
       "      <td>41715</td>\n",
       "      <td>61063</td>\n",
       "      <td>31.69</td>\n",
       "      <td>68.31</td>\n",
       "    </tr>\n",
       "    <tr>\n",
       "      <th>1</th>\n",
       "      <td>2013</td>\n",
       "      <td>25k-35k</td>\n",
       "      <td>16180</td>\n",
       "      <td>32138</td>\n",
       "      <td>48318</td>\n",
       "      <td>33.49</td>\n",
       "      <td>66.51</td>\n",
       "    </tr>\n",
       "    <tr>\n",
       "      <th>0</th>\n",
       "      <td>2013</td>\n",
       "      <td>15k-25k</td>\n",
       "      <td>28019</td>\n",
       "      <td>47396</td>\n",
       "      <td>75415</td>\n",
       "      <td>37.15</td>\n",
       "      <td>62.85</td>\n",
       "    </tr>\n",
       "    <tr>\n",
       "      <th>3</th>\n",
       "      <td>2013</td>\n",
       "      <td>&lt;15k</td>\n",
       "      <td>21535</td>\n",
       "      <td>29178</td>\n",
       "      <td>50713</td>\n",
       "      <td>42.46</td>\n",
       "      <td>57.54</td>\n",
       "    </tr>\n",
       "    <tr>\n",
       "      <th>10</th>\n",
       "      <td>2014</td>\n",
       "      <td>&gt;50k</td>\n",
       "      <td>49626</td>\n",
       "      <td>129075</td>\n",
       "      <td>178701</td>\n",
       "      <td>27.77</td>\n",
       "      <td>72.23</td>\n",
       "    </tr>\n",
       "    <tr>\n",
       "      <th>11</th>\n",
       "      <td>2014</td>\n",
       "      <td>refused/unknown</td>\n",
       "      <td>20354</td>\n",
       "      <td>48316</td>\n",
       "      <td>68670</td>\n",
       "      <td>29.64</td>\n",
       "      <td>70.36</td>\n",
       "    </tr>\n",
       "    <tr>\n",
       "      <th>8</th>\n",
       "      <td>2014</td>\n",
       "      <td>35k-50k</td>\n",
       "      <td>17862</td>\n",
       "      <td>39189</td>\n",
       "      <td>57051</td>\n",
       "      <td>31.31</td>\n",
       "      <td>68.69</td>\n",
       "    </tr>\n",
       "    <tr>\n",
       "      <th>7</th>\n",
       "      <td>2014</td>\n",
       "      <td>25k-35k</td>\n",
       "      <td>14142</td>\n",
       "      <td>29694</td>\n",
       "      <td>43836</td>\n",
       "      <td>32.26</td>\n",
       "      <td>67.74</td>\n",
       "    </tr>\n",
       "    <tr>\n",
       "      <th>6</th>\n",
       "      <td>2014</td>\n",
       "      <td>15k-25k</td>\n",
       "      <td>24406</td>\n",
       "      <td>42576</td>\n",
       "      <td>66982</td>\n",
       "      <td>36.44</td>\n",
       "      <td>63.56</td>\n",
       "    </tr>\n",
       "    <tr>\n",
       "      <th>9</th>\n",
       "      <td>2014</td>\n",
       "      <td>&lt;15k</td>\n",
       "      <td>18003</td>\n",
       "      <td>24929</td>\n",
       "      <td>42932</td>\n",
       "      <td>41.93</td>\n",
       "      <td>58.07</td>\n",
       "    </tr>\n",
       "    <tr>\n",
       "      <th>16</th>\n",
       "      <td>2016</td>\n",
       "      <td>&gt;50k</td>\n",
       "      <td>54466</td>\n",
       "      <td>137025</td>\n",
       "      <td>191491</td>\n",
       "      <td>28.44</td>\n",
       "      <td>71.56</td>\n",
       "    </tr>\n",
       "    <tr>\n",
       "      <th>17</th>\n",
       "      <td>2016</td>\n",
       "      <td>refused/unknown</td>\n",
       "      <td>24030</td>\n",
       "      <td>54760</td>\n",
       "      <td>78790</td>\n",
       "      <td>30.50</td>\n",
       "      <td>69.50</td>\n",
       "    </tr>\n",
       "    <tr>\n",
       "      <th>14</th>\n",
       "      <td>2016</td>\n",
       "      <td>35k-50k</td>\n",
       "      <td>18496</td>\n",
       "      <td>39550</td>\n",
       "      <td>58046</td>\n",
       "      <td>31.86</td>\n",
       "      <td>68.14</td>\n",
       "    </tr>\n",
       "    <tr>\n",
       "      <th>13</th>\n",
       "      <td>2016</td>\n",
       "      <td>25k-35k</td>\n",
       "      <td>14495</td>\n",
       "      <td>29179</td>\n",
       "      <td>43674</td>\n",
       "      <td>33.19</td>\n",
       "      <td>66.81</td>\n",
       "    </tr>\n",
       "    <tr>\n",
       "      <th>12</th>\n",
       "      <td>2016</td>\n",
       "      <td>15k-25k</td>\n",
       "      <td>24842</td>\n",
       "      <td>43106</td>\n",
       "      <td>67948</td>\n",
       "      <td>36.56</td>\n",
       "      <td>63.44</td>\n",
       "    </tr>\n",
       "    <tr>\n",
       "      <th>15</th>\n",
       "      <td>2016</td>\n",
       "      <td>&lt;15k</td>\n",
       "      <td>17194</td>\n",
       "      <td>23434</td>\n",
       "      <td>40628</td>\n",
       "      <td>42.32</td>\n",
       "      <td>57.68</td>\n",
       "    </tr>\n",
       "  </tbody>\n",
       "</table>\n",
       "</div>"
      ],
      "text/plain": [
       "sleep     y           income  False    True     Tot  % short sleep  % sleep ok\n",
       "4      2013             >50k  52471  127982  180453          29.08       70.92\n",
       "5      2013  refused/unknown  21083   47356   68439          30.81       69.19\n",
       "2      2013          35k-50k  19348   41715   61063          31.69       68.31\n",
       "1      2013          25k-35k  16180   32138   48318          33.49       66.51\n",
       "0      2013          15k-25k  28019   47396   75415          37.15       62.85\n",
       "3      2013             <15k  21535   29178   50713          42.46       57.54\n",
       "10     2014             >50k  49626  129075  178701          27.77       72.23\n",
       "11     2014  refused/unknown  20354   48316   68670          29.64       70.36\n",
       "8      2014          35k-50k  17862   39189   57051          31.31       68.69\n",
       "7      2014          25k-35k  14142   29694   43836          32.26       67.74\n",
       "6      2014          15k-25k  24406   42576   66982          36.44       63.56\n",
       "9      2014             <15k  18003   24929   42932          41.93       58.07\n",
       "16     2016             >50k  54466  137025  191491          28.44       71.56\n",
       "17     2016  refused/unknown  24030   54760   78790          30.50       69.50\n",
       "14     2016          35k-50k  18496   39550   58046          31.86       68.14\n",
       "13     2016          25k-35k  14495   29179   43674          33.19       66.81\n",
       "12     2016          15k-25k  24842   43106   67948          36.56       63.44\n",
       "15     2016             <15k  17194   23434   40628          42.32       57.68"
      ]
     },
     "execution_count": 246,
     "metadata": {},
     "output_type": "execute_result"
    }
   ],
   "source": [
    "final_y_tot= final.groupby(['y','income','sleep']).size().unstack().reset_index()\n",
    "final_y_tot['Tot']  =  final_y_tot['False'] + final_y_tot['True']\n",
    "final_y_tot['% short sleep'] =  round(final_y_tot['False'] / final_y_tot['Tot']*100,2)\n",
    "final_y_tot['% sleep ok'] =  round(final_y_tot['True'] / final_y_tot['Tot']*100,2)\n",
    "final_y_tot.sort_values(by=['y','% short sleep'])"
   ]
  },
  {
   "cell_type": "markdown",
   "metadata": {},
   "source": [
    "\n",
    "\n",
    "It seems that people with a low level of income (<15K) have the highest percentage of insufficent sleep\n",
    "\n"
   ]
  },
  {
   "cell_type": "markdown",
   "metadata": {},
   "source": [
    "### Dummy code method "
   ]
  },
  {
   "cell_type": "code",
   "execution_count": 247,
   "metadata": {},
   "outputs": [],
   "source": [
    "df_2016_S = df_2016[['income','sleep']]\n",
    "df_2016_d = pd.get_dummies(df_2016_S)"
   ]
  },
  {
   "cell_type": "code",
   "execution_count": 248,
   "metadata": {},
   "outputs": [
    {
     "data": {
      "text/html": [
       "<div>\n",
       "<style>\n",
       "    .dataframe thead tr:only-child th {\n",
       "        text-align: right;\n",
       "    }\n",
       "\n",
       "    .dataframe thead th {\n",
       "        text-align: left;\n",
       "    }\n",
       "\n",
       "    .dataframe tbody tr th {\n",
       "        vertical-align: top;\n",
       "    }\n",
       "</style>\n",
       "<table border=\"1\" class=\"dataframe\">\n",
       "  <thead>\n",
       "    <tr style=\"text-align: right;\">\n",
       "      <th></th>\n",
       "      <th>sleep_False</th>\n",
       "      <th>income_15k-25k</th>\n",
       "      <th>income_25k-35k</th>\n",
       "      <th>income_35k-50k</th>\n",
       "      <th>income_&lt;15k</th>\n",
       "    </tr>\n",
       "  </thead>\n",
       "  <tbody>\n",
       "    <tr>\n",
       "      <th>sleep_False</th>\n",
       "      <td>1.000000</td>\n",
       "      <td>0.040163</td>\n",
       "      <td>0.008432</td>\n",
       "      <td>-0.000645</td>\n",
       "      <td>0.067619</td>\n",
       "    </tr>\n",
       "    <tr>\n",
       "      <th>income_15k-25k</th>\n",
       "      <td>0.040163</td>\n",
       "      <td>1.000000</td>\n",
       "      <td>-0.128300</td>\n",
       "      <td>-0.150406</td>\n",
       "      <td>-0.123316</td>\n",
       "    </tr>\n",
       "    <tr>\n",
       "      <th>income_25k-35k</th>\n",
       "      <td>0.008432</td>\n",
       "      <td>-0.128300</td>\n",
       "      <td>1.000000</td>\n",
       "      <td>-0.117186</td>\n",
       "      <td>-0.096079</td>\n",
       "    </tr>\n",
       "    <tr>\n",
       "      <th>income_35k-50k</th>\n",
       "      <td>-0.000645</td>\n",
       "      <td>-0.150406</td>\n",
       "      <td>-0.117186</td>\n",
       "      <td>1.000000</td>\n",
       "      <td>-0.112634</td>\n",
       "    </tr>\n",
       "    <tr>\n",
       "      <th>income_&lt;15k</th>\n",
       "      <td>0.067619</td>\n",
       "      <td>-0.123316</td>\n",
       "      <td>-0.096079</td>\n",
       "      <td>-0.112634</td>\n",
       "      <td>1.000000</td>\n",
       "    </tr>\n",
       "  </tbody>\n",
       "</table>\n",
       "</div>"
      ],
      "text/plain": [
       "                sleep_False  income_15k-25k  income_25k-35k  income_35k-50k  income_<15k\n",
       "sleep_False        1.000000        0.040163        0.008432       -0.000645     0.067619\n",
       "income_15k-25k     0.040163        1.000000       -0.128300       -0.150406    -0.123316\n",
       "income_25k-35k     0.008432       -0.128300        1.000000       -0.117186    -0.096079\n",
       "income_35k-50k    -0.000645       -0.150406       -0.117186        1.000000    -0.112634\n",
       "income_<15k        0.067619       -0.123316       -0.096079       -0.112634     1.000000"
      ]
     },
     "execution_count": 248,
     "metadata": {},
     "output_type": "execute_result"
    }
   ],
   "source": [
    "df_2016_d[['sleep_False','income_15k-25k','income_25k-35k','income_35k-50k','income_<15k']].corr()"
   ]
  },
  {
   "cell_type": "code",
   "execution_count": 253,
   "metadata": {},
   "outputs": [
    {
     "data": {
      "image/png": "[encoded data removed]",
      "text/plain": [
       "<matplotlib.figure.Figure at 0x11a0a0898>"
      ]
     },
     "metadata": {},
     "output_type": "display_data"
    }
   ],
   "source": [
    "plt.matshow(df_2016_d[['sleep_False','income_15k-25k','income_25k-35k','income_35k-50k','income_<15k']].corr(), cmap=dpal)\n",
    "ax = plt.gca()\n",
    "ax.tick_params(axis='both', which='both',length=0)\n",
    "plt.title(\"Correlation Matrix Short sleep and Income\")\n",
    "\n",
    "plt.xticks(range(5), ['sleep_False','15k-25k','25k-35k','35k-50k','<15k'])\n",
    "plt.yticks(range(5), ['sleep_False','15k-25k','25k-35k','35k-50k','<15k']);"
   ]
  },
  {
   "cell_type": "markdown",
   "metadata": {},
   "source": [
    "It's seems that Income and Insufficient sleep are not correlated."
   ]
  },
  {
   "cell_type": "markdown",
   "metadata": {},
   "source": [
    "## Predictive Model"
   ]
  },
  {
   "cell_type": "code",
   "execution_count": 258,
   "metadata": {
    "collapsed": true
   },
   "outputs": [],
   "source": [
    "import scipy.stats as stats"
   ]
  },
  {
   "cell_type": "markdown",
   "metadata": {},
   "source": [
    "Our problem is a classification and regression problem. I want to identify relationship between output (Insufficient sleep or good sleep) with other variables or features (Gender, Age, Income, Race...). \n",
    "\n",
    "We are also perfoming a category of machine learning which is called supervised learning as we are training our model with a given dataset.\n",
    "\n",
    "\n",
    "...work in progress..."
   ]
  },
  {
   "cell_type": "markdown",
   "metadata": {},
   "source": [
    "## Conclusions\n",
    "\n",
    "Thanks to this data exploration linked to the \"insufficient sleep conditions\" and considering the limited amount of time I would like to suggest some example of usefull KPIs to monitor:\n",
    "\n",
    "- *Country rank*: a composite indicator that measures the well-being of the country based on the combination of health risk factors related to short sleep.\n",
    "\n",
    "\n",
    "- “Insufficient sleep” rate per 100 thousand population per country\n",
    "\n",
    "- Variations % of the Average of short sleep duration by country (to display on a map)\n",
    "\n",
    "- Variations % against “Insufficient sleep” \n",
    "\n",
    "\n",
    "- Prevalence of chronic conditions Rate by short sleep  per 100 thousand population per country\n",
    "\n",
    "\n",
    "- Obesity rate per 100 thousand population per country\n",
    "\n",
    "- Variations against  Obesity (Body Mass Index ≥30 kg/m2 ) per country\n",
    "\n",
    "\n",
    "- “Physical inactivity” rate per 100 thousand population per country\n",
    "\n",
    "- Variations against  “Physical inactivity” per country\n",
    "\n",
    "\n",
    "- “Currently smoking” rate per 100 thousand population per country\n",
    "\n",
    "- Variations against “Currently smoking” per country\n",
    "\n",
    "\n",
    "- “Excessive alcohol” rate per 100 thousand population per country\n",
    "\n",
    "- Variations against  “Excessive alcohol” per country\n",
    "\n",
    "If available, we can be combine data from BRFSS with other datasets like the number of incidents by drowsy drivers and define a new kpi:\n",
    "\n",
    "- Fatal crash Rate by drowsy drivers  per X population by country\n",
    "\n",
    "- Variation against number of fatal crash  by drowsy drivers % by country\n",
    "\n",
    "\n",
    "It's necessary to define the target for every KPIs (Highly performing, Under performing,  Not performing).\n",
    "\n",
    "\n",
    "Every KPI listed below can be filtered using the demographical dimensions: age, sex, race, income, education level."
   ]
  },
  {
   "cell_type": "code",
   "execution_count": null,
   "metadata": {
    "collapsed": true
   },
   "outputs": [],
   "source": []
  }
 ],
 "metadata": {
  "kernelspec": {
   "display_name": "Python [conda env:py36]",
   "language": "python",
   "name": "conda-env-py36-py"
  },
  "language_info": {
   "codemirror_mode": {
    "name": "ipython",
    "version": 3
   },
   "file_extension": ".py",
   "mimetype": "text/x-python",
   "name": "python",
   "nbconvert_exporter": "python",
   "pygments_lexer": "ipython3",
   "version": "3.6.1"
  }
 },
 "nbformat": 4,
 "nbformat_minor": 2
}
